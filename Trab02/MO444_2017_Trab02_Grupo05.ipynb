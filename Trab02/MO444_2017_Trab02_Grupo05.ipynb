{
 "cells": [
  {
   "cell_type": "code",
   "execution_count": 1,
   "metadata": {
    "collapsed": true
   },
   "outputs": [],
   "source": [
    "# MO444-A 2s/2017 - Second assignment\n",
    "#\n",
    "#         Group 05\n",
    "#\n",
    "# - Anderson Rossanez (124136)\n",
    "# - Bruno Branta Lopes (31470)\n",
    "#\n",
    "\n",
    "from __future__ import print_function\n",
    "from scipy import misc\n",
    "import glob\n",
    "import numpy as np\n",
    "from math import sqrt\n",
    "from skimage.io import imread\n",
    "from sklearn.linear_model import SGDClassifier\n",
    "from sklearn.metrics import precision_score\n",
    "from sklearn.metrics import recall_score\n",
    "from sklearn.metrics import f1_score\n",
    "from sklearn.model_selection import train_test_split\n",
    "from sklearn.preprocessing import LabelEncoder\n",
    "import matplotlib.pyplot as plt\n",
    "\n",
    "# Some definitions\n",
    "classes = np.asarray(['airplane', 'automobile', 'bird', 'cat', 'deer', 'dog', 'frog', 'horse', 'ship', 'truck'])\n",
    "\n",
    "def load_image_dataset(name, n):\n",
    "    images = []\n",
    "    with open('cifar-10/%s/labels' % name) as labels:\n",
    "        i = 0\n",
    "        for path in sorted(glob.glob('cifar-10/%s/*.png' % name)):\n",
    "            # Reading the images as grayscale to have a 32x32 matrix,\n",
    "            # instead of a 32x32x3 matrix in case of RGB.\n",
    "            images.append((imread(path, as_grey=True), labels.next()))\n",
    "            i += 1\n",
    "            if i >= n:\n",
    "                break\n",
    "    return images\n",
    "\n",
    "def load_dataset(name):\n",
    "    dataset = load_image_dataset(name=name, n = 50000)\n",
    "    \n",
    "    data_X = [i[0] for i in dataset]\n",
    "    data_Y = [int(i[1]) for i in dataset]\n",
    "    \n",
    "    return np.array(data_X), np.array(data_Y)"
   ]
  },
  {
   "cell_type": "code",
   "execution_count": 2,
   "metadata": {
    "collapsed": true,
    "scrolled": false
   },
   "outputs": [],
   "source": [
    "# Load train dataset\n",
    "data_X, data_Y = load_dataset('train')"
   ]
  },
  {
   "cell_type": "code",
   "execution_count": 3,
   "metadata": {},
   "outputs": [
    {
     "data": {
      "image/png": "[encoded data removed]",
      "text/plain": [
       "<matplotlib.figure.Figure at 0x115057690>"
      ]
     },
     "metadata": {},
     "output_type": "display_data"
    },
    {
     "name": "stdout",
     "output_type": "stream",
     "text": [
      "Label: 3\n"
     ]
    }
   ],
   "source": [
    "# Take a look at a sample and its class (207 should be a cat [3])\n",
    "plt.imshow(data_X[207], cmap='gray')\n",
    "plt.show()\n",
    "\n",
    "print('Label: %s' % data_Y[207])"
   ]
  },
  {
   "cell_type": "code",
   "execution_count": 4,
   "metadata": {},
   "outputs": [
    {
     "name": "stdout",
     "output_type": "stream",
     "text": [
      "Previous shape: (50000, 32, 32)\n",
      "Flattened shape: (50000, 1024)\n"
     ]
    }
   ],
   "source": [
    "# Flatten data to 1-D\n",
    "def flatten_data(data):\n",
    "    reshaped = data.reshape(-1, 32*32)\n",
    "    return reshaped\n",
    "\n",
    "print('Previous shape: {}'.format(data_X.shape))\n",
    "\n",
    "data_X = flatten_data(data_X)\n",
    "\n",
    "print('Flattened shape: {}'.format(data_X.shape))"
   ]
  },
  {
   "cell_type": "code",
   "execution_count": 5,
   "metadata": {
    "collapsed": true
   },
   "outputs": [],
   "source": [
    "# Implementing K-Fold to help avoiding overfitting\n",
    "from sklearn.model_selection import KFold\n",
    "from datetime import datetime\n",
    "\n",
    "random_state = np.random.RandomState(1)\n",
    "\n",
    "# prepare for 5-fold execution\n",
    "k5_fold = KFold(n_splits=5, shuffle=True, random_state=random_state)\n",
    "\n",
    "def run_kfold(method, data_Y, data_X, scale=False, partial_fit=False):\n",
    "    train_precision, train_recall, train_f1 = [], [], []\n",
    "    validation_precision, validation_recall, validation_f1 = [], [], []\n",
    "    start_time = datetime.now()\n",
    "    k = 0\n",
    "    print('k', end=' ')\n",
    "    model = None\n",
    "    for train_index, validation_index in k5_fold.split(data_X):\n",
    "        k += 1\n",
    "        print(k, end=' ')\n",
    "        \n",
    "        train_data_X, train_data_Y = data_X[train_index], data_Y[train_index]\n",
    "        validation_data_X, validation_data_Y = data_X[validation_index], data_Y[validation_index]\n",
    "        \n",
    "        if scale:\n",
    "            model_scaler = preprocessing.StandardScaler()\n",
    "            train_data_X = model_scaler.fit_transform(train_data_X)\n",
    "            validation_data_X = model_scaler.transform(validation_data_X)\n",
    "        \n",
    "        if partial_fit:\n",
    "            # feed the data partially\n",
    "            n_chunks = 10\n",
    "            chunk_size = len(train_data_Y) / n_chunks\n",
    "            for i in range(0, n_chunks):\n",
    "                range_start = i * chunk_size\n",
    "                range_end = (i + 1) * chunk_size\n",
    "                model = method(train_data_X[range_start:range_end], train_data_Y[range_start:range_end]) \n",
    "        else:\n",
    "            model = method(train_data_X, train_data_Y)\n",
    "        \n",
    "        predicted_train_data_Y = model.predict(train_data_X)\n",
    "        train_precision.append(precision_score(train_data_Y, predicted_train_data_Y))\n",
    "        train_recall.append(recall_score(train_data_Y, predicted_train_data_Y))\n",
    "        train_f1.append(f1_score(train_data_Y, predicted_train_data_Y))\n",
    "        \n",
    "        predicted_validation_data_Y = model.predict(validation_data_X)\n",
    "        validation_precision.append(precision_score(validation_data_Y, predicted_validation_data_Y))\n",
    "        validation_recall.append(recall_score(validation_data_Y, predicted_validation_data_Y))\n",
    "        validation_f1.append(f1_score(validation_data_Y, predicted_validation_data_Y))\n",
    "    print('time elapsed: {}\\n'.format(datetime.now() - start_time))\n",
    "    print('             Precision  Recall  F1 Score')\n",
    "    print('Training:      %5.2f    %5.2f   %5.2f' % (np.mean(train_precision), np.mean(train_recall), np.mean(train_f1)))\n",
    "    print('Validation:    %5.2f    %5.2f   %5.2f' % (np.mean(validation_precision), np.mean(validation_recall), np.mean(validation_f1)))\n",
    "    return model"
   ]
  },
  {
   "cell_type": "code",
   "execution_count": 6,
   "metadata": {},
   "outputs": [
    {
     "name": "stdout",
     "output_type": "stream",
     "text": [
      "Logistic Regression (OVA) model 1/10\n",
      "k 1 2 "
     ]
    },
    {
     "name": "stderr",
     "output_type": "stream",
     "text": [
      "/Library/Python/2.7/site-packages/sklearn/metrics/classification.py:1113: UndefinedMetricWarning: Precision is ill-defined and being set to 0.0 due to no predicted samples.\n",
      "  'precision', 'predicted', average, warn_for)\n",
      "/Library/Python/2.7/site-packages/sklearn/metrics/classification.py:1113: UndefinedMetricWarning: F-score is ill-defined and being set to 0.0 due to no predicted samples.\n",
      "  'precision', 'predicted', average, warn_for)\n"
     ]
    },
    {
     "name": "stdout",
     "output_type": "stream",
     "text": [
      "3 4 5 time elapsed: 0:00:04.404142\n",
      "\n",
      "             Precision  Recall  F1 Score\n",
      "Training:       0.25      0.11    0.09\n",
      "Validation:     0.21      0.09    0.08\n",
      "Logistic Regression (OVA) model 2/10\n",
      "k 1 2 3 4 5 time elapsed: 0:00:04.528377\n",
      "\n",
      "             Precision  Recall  F1 Score\n",
      "Training:       0.50      0.22    0.29\n",
      "Validation:     0.44      0.20    0.26\n",
      "Logistic Regression (OVA) model 3/10\n",
      "k 1 2 3 4 5 time elapsed: 0:00:04.243258\n",
      "\n",
      "             Precision  Recall  F1 Score\n",
      "Training:       0.20      0.13    0.09\n",
      "Validation:     0.11      0.12    0.09\n",
      "Logistic Regression (OVA) model 4/10\n",
      "k 1 2 3 4 5 time elapsed: 0:00:04.237693\n",
      "\n",
      "             Precision  Recall  F1 Score\n",
      "Training:       0.32      0.07    0.08\n",
      "Validation:     0.27      0.06    0.07\n",
      "Logistic Regression (OVA) model 5/10\n",
      "k 1 2 3 4 5 time elapsed: 0:00:04.575314\n",
      "\n",
      "             Precision  Recall  F1 Score\n",
      "Training:       0.24      0.10    0.06\n",
      "Validation:     0.25      0.10    0.06\n",
      "Logistic Regression (OVA) model 6/10\n",
      "k 1 2 3 4 5 time elapsed: 0:00:04.503154\n",
      "\n",
      "             Precision  Recall  F1 Score\n",
      "Training:       0.33      0.20    0.14\n",
      "Validation:     0.29      0.19    0.13\n",
      "Logistic Regression (OVA) model 7/10\n",
      "k 1 2 3 4 5 time elapsed: 0:00:04.359251\n",
      "\n",
      "             Precision  Recall  F1 Score\n",
      "Training:       0.21      0.19    0.15\n",
      "Validation:     0.17      0.15    0.12\n",
      "Logistic Regression (OVA) model 8/10\n",
      "k 1 2 3 4 5 time elapsed: 0:00:04.482624\n",
      "\n",
      "             Precision  Recall  F1 Score\n",
      "Training:       0.55      0.21    0.09\n",
      "Validation:     0.27      0.20    0.09\n",
      "Logistic Regression (OVA) model 9/10\n",
      "k 1 2 3 4 5 time elapsed: 0:00:04.539377\n",
      "\n",
      "             Precision  Recall  F1 Score\n",
      "Training:       0.28      0.28    0.14\n",
      "Validation:     0.21      0.28    0.13\n",
      "Logistic Regression (OVA) model 10/10\n",
      "k 1 2 3 4 5 time elapsed: 0:00:04.835172\n",
      "\n",
      "             Precision  Recall  F1 Score\n",
      "Training:       0.34      0.43    0.24\n",
      "Validation:     0.27      0.41    0.23\n"
     ]
    },
    {
     "data": {
      "text/plain": [
       "[SGDClassifier(alpha=0.0001, average=False, class_weight=None, epsilon=0.1,\n",
       "        eta0=0.0, fit_intercept=True, l1_ratio=0.15,\n",
       "        learning_rate='optimal', loss='log', n_iter=5, n_jobs=1,\n",
       "        penalty='l2', power_t=0.5,\n",
       "        random_state=<mtrand.RandomState object at 0x1149d8be0>,\n",
       "        shuffle=True, verbose=0, warm_start=False),\n",
       " SGDClassifier(alpha=0.0001, average=False, class_weight=None, epsilon=0.1,\n",
       "        eta0=0.0, fit_intercept=True, l1_ratio=0.15,\n",
       "        learning_rate='optimal', loss='log', n_iter=5, n_jobs=1,\n",
       "        penalty='l2', power_t=0.5,\n",
       "        random_state=<mtrand.RandomState object at 0x1149d8be0>,\n",
       "        shuffle=True, verbose=0, warm_start=False),\n",
       " SGDClassifier(alpha=0.0001, average=False, class_weight=None, epsilon=0.1,\n",
       "        eta0=0.0, fit_intercept=True, l1_ratio=0.15,\n",
       "        learning_rate='optimal', loss='log', n_iter=5, n_jobs=1,\n",
       "        penalty='l2', power_t=0.5,\n",
       "        random_state=<mtrand.RandomState object at 0x1149d8be0>,\n",
       "        shuffle=True, verbose=0, warm_start=False),\n",
       " SGDClassifier(alpha=0.0001, average=False, class_weight=None, epsilon=0.1,\n",
       "        eta0=0.0, fit_intercept=True, l1_ratio=0.15,\n",
       "        learning_rate='optimal', loss='log', n_iter=5, n_jobs=1,\n",
       "        penalty='l2', power_t=0.5,\n",
       "        random_state=<mtrand.RandomState object at 0x1149d8be0>,\n",
       "        shuffle=True, verbose=0, warm_start=False),\n",
       " SGDClassifier(alpha=0.0001, average=False, class_weight=None, epsilon=0.1,\n",
       "        eta0=0.0, fit_intercept=True, l1_ratio=0.15,\n",
       "        learning_rate='optimal', loss='log', n_iter=5, n_jobs=1,\n",
       "        penalty='l2', power_t=0.5,\n",
       "        random_state=<mtrand.RandomState object at 0x1149d8be0>,\n",
       "        shuffle=True, verbose=0, warm_start=False),\n",
       " SGDClassifier(alpha=0.0001, average=False, class_weight=None, epsilon=0.1,\n",
       "        eta0=0.0, fit_intercept=True, l1_ratio=0.15,\n",
       "        learning_rate='optimal', loss='log', n_iter=5, n_jobs=1,\n",
       "        penalty='l2', power_t=0.5,\n",
       "        random_state=<mtrand.RandomState object at 0x1149d8be0>,\n",
       "        shuffle=True, verbose=0, warm_start=False),\n",
       " SGDClassifier(alpha=0.0001, average=False, class_weight=None, epsilon=0.1,\n",
       "        eta0=0.0, fit_intercept=True, l1_ratio=0.15,\n",
       "        learning_rate='optimal', loss='log', n_iter=5, n_jobs=1,\n",
       "        penalty='l2', power_t=0.5,\n",
       "        random_state=<mtrand.RandomState object at 0x1149d8be0>,\n",
       "        shuffle=True, verbose=0, warm_start=False),\n",
       " SGDClassifier(alpha=0.0001, average=False, class_weight=None, epsilon=0.1,\n",
       "        eta0=0.0, fit_intercept=True, l1_ratio=0.15,\n",
       "        learning_rate='optimal', loss='log', n_iter=5, n_jobs=1,\n",
       "        penalty='l2', power_t=0.5,\n",
       "        random_state=<mtrand.RandomState object at 0x1149d8be0>,\n",
       "        shuffle=True, verbose=0, warm_start=False),\n",
       " SGDClassifier(alpha=0.0001, average=False, class_weight=None, epsilon=0.1,\n",
       "        eta0=0.0, fit_intercept=True, l1_ratio=0.15,\n",
       "        learning_rate='optimal', loss='log', n_iter=5, n_jobs=1,\n",
       "        penalty='l2', power_t=0.5,\n",
       "        random_state=<mtrand.RandomState object at 0x1149d8be0>,\n",
       "        shuffle=True, verbose=0, warm_start=False),\n",
       " SGDClassifier(alpha=0.0001, average=False, class_weight=None, epsilon=0.1,\n",
       "        eta0=0.0, fit_intercept=True, l1_ratio=0.15,\n",
       "        learning_rate='optimal', loss='log', n_iter=5, n_jobs=1,\n",
       "        penalty='l2', power_t=0.5,\n",
       "        random_state=<mtrand.RandomState object at 0x1149d8be0>,\n",
       "        shuffle=True, verbose=0, warm_start=False)]"
      ]
     },
     "execution_count": 6,
     "metadata": {},
     "output_type": "execute_result"
    }
   ],
   "source": [
    "# Create a baseline One-vs-All logistic regression model\n",
    "\n",
    "def one_vs_all(data_X, data_Y, num_classes):\n",
    "    classifiers = []\n",
    "    for i in range(num_classes):\n",
    "        # 1 for this class, 0 for all the others\n",
    "        data_Y_i = np.array([1 if j == i else 0 for j in data_Y])\n",
    "        \n",
    "        print('Logistic Regression (OVA) model %d/%d' % (i+1, num_classes))\n",
    "        \n",
    "        # train and run using k-fold to help avoid overfitting \n",
    "        this_model = run_kfold(lambda X, Y: SGDClassifier(loss='log', random_state=random_state).fit(X, Y), data_Y_i, data_X)\n",
    "        classifiers.append(this_model)\n",
    "    \n",
    "    return classifiers\n",
    "\n",
    "# Train, run, and measure\n",
    "one_vs_all(data_X, data_Y, len(classes))\n"
   ]
  },
  {
   "cell_type": "code",
   "execution_count": null,
   "metadata": {
    "collapsed": true
   },
   "outputs": [],
   "source": []
  }
 ],
 "metadata": {
  "kernelspec": {
   "display_name": "Python 2",
   "language": "python",
   "name": "python2"
  },
  "language_info": {
   "codemirror_mode": {
    "name": "ipython",
    "version": 2
   },
   "file_extension": ".py",
   "mimetype": "text/x-python",
   "name": "python",
   "nbconvert_exporter": "python",
   "pygments_lexer": "ipython2",
   "version": "2.7.10"
  }
 },
 "nbformat": 4,
 "nbformat_minor": 2
}
