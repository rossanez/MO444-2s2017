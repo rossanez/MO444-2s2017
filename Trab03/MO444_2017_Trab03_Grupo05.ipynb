{
 "cells": [
  {
   "cell_type": "code",
   "execution_count": 1,
   "metadata": {
    "collapsed": true
   },
   "outputs": [],
   "source": [
    "# MO444-A 2s/2017 - Third assignment\n",
    "#\n",
    "#         Group 05\n",
    "#\n",
    "# - Anderson Rossanez (124136)\n",
    "# - Bruno Branta Lopes (31470)\n",
    "#\n",
    "\n",
    "import matplotlib.pyplot as plt\n",
    "import numpy as np\n",
    "import pandas as pd\n",
    "from datetime import datetime\n",
    "from sklearn.cluster import MiniBatchKMeans\n",
    "from sklearn.metrics import pairwise_distances\n",
    "from sklearn.metrics import silhouette_score\n",
    "from sklearn.preprocessing import Normalizer\n",
    "from sklearn.preprocessing import scale\n",
    "from sklearn.model_selection import KFold\n",
    "\n",
    "def loadIDs():\n",
    "    lines=[]\n",
    "    with open('documents/ids', \"r\") as f:\n",
    "        lines = f.read().splitlines()\n",
    "    return np.asarray(lines)\n",
    "\n",
    "def loadFeatures():\n",
    "    features = pd.read_csv('documents/data.csv', sep=',', header=None)\n",
    "    return features.values\n",
    "\n",
    "def loadDocument(docID):\n",
    "    data = None\n",
    "    with open('documents/docs/' + docID, 'r') as docfile:\n",
    "        data = docfile.read().replace('\\n', '')\n",
    "    return data\n",
    "\n",
    "def runKFoldClustering(model, data):\n",
    "    random_state = np.random.RandomState(1)\n",
    "    k5_fold = KFold(n_splits=5, shuffle=True, random_state=random_state)\n",
    "    costs = []\n",
    "    for train_index, validation_index in k5_fold.split(data):\n",
    "        train_data, validation_data = data[train_index], data[validation_index]\n",
    "        model.fit(train_data)\n",
    "        model.predict(validation_data)\n",
    "        costs.append(model.inertia_)\n",
    "    return np.mean(costs), np.std(costs)\n"
   ]
  },
  {
   "cell_type": "code",
   "execution_count": 2,
   "metadata": {},
   "outputs": [
    {
     "name": "stdout",
     "output_type": "stream",
     "text": [
      "IDs shape: (19924,)\n",
      "Data shape: (19924, 2209)\n"
     ]
    }
   ],
   "source": [
    "ids = loadIDs()\n",
    "print('IDs shape: {}'.format(ids.shape))\n",
    "\n",
    "data = loadFeatures()\n",
    "print('Data shape: {}'.format(data.shape))"
   ]
  },
  {
   "cell_type": "code",
   "execution_count": 3,
   "metadata": {},
   "outputs": [
    {
     "name": "stdout",
     "output_type": "stream",
     "text": [
      "['832e15531654188fa0b951faa5f68540dfb1ca5a'\n",
      " 'aa5163928a6edfd3bf69fd11fe763aacecf4602d'\n",
      " 'e886703afff0c70d6598bcae0c2d69a5a237807f'\n",
      " 'c1ea507b177b2e1673ce7a576057f91b75ae9d29'\n",
      " 'bbf73405c85d22702fafc1c0916e8f713810ff8d']\n"
     ]
    }
   ],
   "source": [
    "# Let's look at the 5 first instances of the IDs\n",
    "print(ids[0:5])"
   ]
  },
  {
   "cell_type": "code",
   "execution_count": 4,
   "metadata": {},
   "outputs": [
    {
     "data": {
      "text/html": [
       "<div>\n",
       "<style>\n",
       "    .dataframe thead tr:only-child th {\n",
       "        text-align: right;\n",
       "    }\n",
       "\n",
       "    .dataframe thead th {\n",
       "        text-align: left;\n",
       "    }\n",
       "\n",
       "    .dataframe tbody tr th {\n",
       "        vertical-align: top;\n",
       "    }\n",
       "</style>\n",
       "<table border=\"1\" class=\"dataframe\">\n",
       "  <thead>\n",
       "    <tr style=\"text-align: right;\">\n",
       "      <th></th>\n",
       "      <th>0</th>\n",
       "      <th>1</th>\n",
       "      <th>2</th>\n",
       "      <th>3</th>\n",
       "      <th>4</th>\n",
       "      <th>5</th>\n",
       "      <th>6</th>\n",
       "      <th>7</th>\n",
       "      <th>8</th>\n",
       "      <th>9</th>\n",
       "      <th>...</th>\n",
       "      <th>2199</th>\n",
       "      <th>2200</th>\n",
       "      <th>2201</th>\n",
       "      <th>2202</th>\n",
       "      <th>2203</th>\n",
       "      <th>2204</th>\n",
       "      <th>2205</th>\n",
       "      <th>2206</th>\n",
       "      <th>2207</th>\n",
       "      <th>2208</th>\n",
       "    </tr>\n",
       "  </thead>\n",
       "  <tbody>\n",
       "    <tr>\n",
       "      <th>0</th>\n",
       "      <td>0.077257</td>\n",
       "      <td>0.0</td>\n",
       "      <td>0.0</td>\n",
       "      <td>0.0</td>\n",
       "      <td>0.000000</td>\n",
       "      <td>0.000000</td>\n",
       "      <td>0.0</td>\n",
       "      <td>0.0</td>\n",
       "      <td>0.0</td>\n",
       "      <td>0.0</td>\n",
       "      <td>...</td>\n",
       "      <td>0.000000</td>\n",
       "      <td>0.0</td>\n",
       "      <td>0.000000</td>\n",
       "      <td>0.0</td>\n",
       "      <td>0.0</td>\n",
       "      <td>0.0</td>\n",
       "      <td>0.0</td>\n",
       "      <td>0.000000</td>\n",
       "      <td>0.0</td>\n",
       "      <td>0.0</td>\n",
       "    </tr>\n",
       "    <tr>\n",
       "      <th>1</th>\n",
       "      <td>0.000000</td>\n",
       "      <td>0.0</td>\n",
       "      <td>0.0</td>\n",
       "      <td>0.0</td>\n",
       "      <td>0.000000</td>\n",
       "      <td>0.000000</td>\n",
       "      <td>0.0</td>\n",
       "      <td>0.0</td>\n",
       "      <td>0.0</td>\n",
       "      <td>0.0</td>\n",
       "      <td>...</td>\n",
       "      <td>0.000000</td>\n",
       "      <td>0.0</td>\n",
       "      <td>0.000000</td>\n",
       "      <td>0.0</td>\n",
       "      <td>0.0</td>\n",
       "      <td>0.0</td>\n",
       "      <td>0.0</td>\n",
       "      <td>0.055755</td>\n",
       "      <td>0.0</td>\n",
       "      <td>0.0</td>\n",
       "    </tr>\n",
       "    <tr>\n",
       "      <th>2</th>\n",
       "      <td>0.042250</td>\n",
       "      <td>0.0</td>\n",
       "      <td>0.0</td>\n",
       "      <td>0.0</td>\n",
       "      <td>0.000000</td>\n",
       "      <td>0.000000</td>\n",
       "      <td>0.0</td>\n",
       "      <td>0.0</td>\n",
       "      <td>0.0</td>\n",
       "      <td>0.0</td>\n",
       "      <td>...</td>\n",
       "      <td>0.093693</td>\n",
       "      <td>0.0</td>\n",
       "      <td>0.099296</td>\n",
       "      <td>0.0</td>\n",
       "      <td>0.0</td>\n",
       "      <td>0.0</td>\n",
       "      <td>0.0</td>\n",
       "      <td>0.000000</td>\n",
       "      <td>0.0</td>\n",
       "      <td>0.0</td>\n",
       "    </tr>\n",
       "    <tr>\n",
       "      <th>3</th>\n",
       "      <td>0.000000</td>\n",
       "      <td>0.0</td>\n",
       "      <td>0.0</td>\n",
       "      <td>0.0</td>\n",
       "      <td>0.069105</td>\n",
       "      <td>0.000000</td>\n",
       "      <td>0.0</td>\n",
       "      <td>0.0</td>\n",
       "      <td>0.0</td>\n",
       "      <td>0.0</td>\n",
       "      <td>...</td>\n",
       "      <td>0.000000</td>\n",
       "      <td>0.0</td>\n",
       "      <td>0.000000</td>\n",
       "      <td>0.0</td>\n",
       "      <td>0.0</td>\n",
       "      <td>0.0</td>\n",
       "      <td>0.0</td>\n",
       "      <td>0.036811</td>\n",
       "      <td>0.0</td>\n",
       "      <td>0.0</td>\n",
       "    </tr>\n",
       "    <tr>\n",
       "      <th>4</th>\n",
       "      <td>0.000000</td>\n",
       "      <td>0.0</td>\n",
       "      <td>0.0</td>\n",
       "      <td>0.0</td>\n",
       "      <td>0.000000</td>\n",
       "      <td>0.041917</td>\n",
       "      <td>0.0</td>\n",
       "      <td>0.0</td>\n",
       "      <td>0.0</td>\n",
       "      <td>0.0</td>\n",
       "      <td>...</td>\n",
       "      <td>0.000000</td>\n",
       "      <td>0.0</td>\n",
       "      <td>0.000000</td>\n",
       "      <td>0.0</td>\n",
       "      <td>0.0</td>\n",
       "      <td>0.0</td>\n",
       "      <td>0.0</td>\n",
       "      <td>0.000000</td>\n",
       "      <td>0.0</td>\n",
       "      <td>0.0</td>\n",
       "    </tr>\n",
       "  </tbody>\n",
       "</table>\n",
       "<p>5 rows × 2209 columns</p>\n",
       "</div>"
      ],
      "text/plain": [
       "       0     1     2     3         4         5     6     7     8     9     \\\n",
       "0  0.077257   0.0   0.0   0.0  0.000000  0.000000   0.0   0.0   0.0   0.0   \n",
       "1  0.000000   0.0   0.0   0.0  0.000000  0.000000   0.0   0.0   0.0   0.0   \n",
       "2  0.042250   0.0   0.0   0.0  0.000000  0.000000   0.0   0.0   0.0   0.0   \n",
       "3  0.000000   0.0   0.0   0.0  0.069105  0.000000   0.0   0.0   0.0   0.0   \n",
       "4  0.000000   0.0   0.0   0.0  0.000000  0.041917   0.0   0.0   0.0   0.0   \n",
       "\n",
       "   ...       2199  2200      2201  2202  2203  2204  2205      2206  2207  \\\n",
       "0  ...   0.000000   0.0  0.000000   0.0   0.0   0.0   0.0  0.000000   0.0   \n",
       "1  ...   0.000000   0.0  0.000000   0.0   0.0   0.0   0.0  0.055755   0.0   \n",
       "2  ...   0.093693   0.0  0.099296   0.0   0.0   0.0   0.0  0.000000   0.0   \n",
       "3  ...   0.000000   0.0  0.000000   0.0   0.0   0.0   0.0  0.036811   0.0   \n",
       "4  ...   0.000000   0.0  0.000000   0.0   0.0   0.0   0.0  0.000000   0.0   \n",
       "\n",
       "   2208  \n",
       "0   0.0  \n",
       "1   0.0  \n",
       "2   0.0  \n",
       "3   0.0  \n",
       "4   0.0  \n",
       "\n",
       "[5 rows x 2209 columns]"
      ]
     },
     "execution_count": 4,
     "metadata": {},
     "output_type": "execute_result"
    }
   ],
   "source": [
    "# Now, let's have a look at the 5 first instances of the data (bag-of-words feature vectors)\n",
    "data_frame = pd.DataFrame(data)\n",
    "data_frame.head(5)"
   ]
  },
  {
   "cell_type": "code",
   "execution_count": 5,
   "metadata": {},
   "outputs": [
    {
     "name": "stdout",
     "output_type": "stream",
     "text": [
      "Min. value: 0.0\n",
      "Max. value: 0.999901\n"
     ]
    }
   ],
   "source": [
    "# Checking the value ranges\n",
    "print('Min. value: {}'.format(np.min(data.flatten())))\n",
    "print('Max. value: {}'.format(np.max(data.flatten())))\n",
    "\n",
    "# Let's scale and normalize the data\n",
    "data = scale(data)\n",
    "\n",
    "normalizer = Normalizer()\n",
    "normalizer = normalizer.fit(data)\n",
    "\n",
    "data = normalizer.transform(data)"
   ]
  },
  {
   "cell_type": "code",
   "execution_count": 6,
   "metadata": {},
   "outputs": [
    {
     "name": "stdout",
     "output_type": "stream",
     "text": [
      "2 clusters: Cost 15839.92 ± 0.76\n",
      "4 clusters: Cost 15756.58 ± 5.40\n",
      "8 clusters: Cost 15602.82 ±14.17\n",
      "16 clusters: Cost 15409.90 ±11.12\n",
      "32 clusters: Cost 15100.33 ±24.79\n",
      "64 clusters: Cost 14667.04 ±12.01\n",
      "128 clusters: Cost 14210.46 ±20.63\n",
      "256 clusters: Cost 13816.03 ±42.99\n",
      "512 clusters: Cost 13738.17 ±150.86\n"
     ]
    },
    {
     "data": {
      "image/png": "[encoded data removed]",
      "text/plain": [
       "<matplotlib.figure.Figure at 0x10ae2ce90>"
      ]
     },
     "metadata": {},
     "output_type": "display_data"
    }
   ],
   "source": [
    "# Attempting Mini-Batch K means with some different number of centroids.\n",
    "kmeans, costs, costs_sd = [], [], []\n",
    "num_centroids = [2, 4, 8, 16, 32, 64, 128, 256, 512]\n",
    "for i in num_centroids:\n",
    "    model = MiniBatchKMeans(n_clusters=i, init='k-means++', batch_size=1000, random_state=1)\n",
    "    cost_mean, cost_sd = runKFoldClustering(model, data)\n",
    "    kmeans.append(model)\n",
    "    costs.append(cost_mean)\n",
    "    costs_sd.append(cost_sd)\n",
    "    print '%d clusters: Cost %5.2f ±%5.2f' % (i, cost_mean, cost_sd)\n",
    "\n",
    "# Plot an elbow curve.\n",
    "plt.plot(color='blue', marker='o')\n",
    "plt.errorbar(num_centroids, costs, yerr=costs_sd, \n",
    "             fmt='-o', ecolor='r', capthick=2)\n",
    "plt.xlabel('centroids')\n",
    "plt.ylabel('cost')\n",
    "plt.show()"
   ]
  },
  {
   "cell_type": "code",
   "execution_count": 8,
   "metadata": {},
   "outputs": [
    {
     "name": "stdout",
     "output_type": "stream",
     "text": [
      "centroids: 2, silhouette average: 0.006241\n",
      "centroids: 4, silhouette average: 0.004755\n",
      "centroids: 8, silhouette average: 0.007339\n",
      "centroids: 16, silhouette average: 0.010163\n",
      "centroids: 32, silhouette average: 0.015340\n",
      "centroids: 64, silhouette average: 0.019948\n",
      "centroids: 128, silhouette average: 0.021235\n",
      "centroids: 256, silhouette average: -0.006790\n",
      "centroids: 512, silhouette average: -0.031887\n",
      "Elapsed time: 0:04:09.195946\n"
     ]
    }
   ],
   "source": [
    "# Check the silhouette scores.\n",
    "start_time = datetime.now()\n",
    "sil_avgs, sil_avgs_centroids = [], []\n",
    "for i in range(len(kmeans)):\n",
    "    labels = kmeans[i].predict(data)\n",
    "    sil_avg = silhouette_score(data, labels)\n",
    "    print('centroids: %d, silhouette average: %f' % (kmeans[i].n_clusters, sil_avg))\n",
    "    sil_avgs.append(sil_avg)\n",
    "    sil_avgs_centroids.append(kmeans[i].n_clusters)\n",
    "\n",
    "print('Elapsed time: {}'.format(datetime.now() - start_time))"
   ]
  },
  {
   "cell_type": "code",
   "execution_count": 9,
   "metadata": {},
   "outputs": [
    {
     "data": {
      "image/png": "[encoded data removed]",
      "text/plain": [
       "<matplotlib.figure.Figure at 0x107405f10>"
      ]
     },
     "metadata": {},
     "output_type": "display_data"
    }
   ],
   "source": [
    "# Plot the silhouette averages\n",
    "plt.plot(sil_avgs_centroids, sil_avgs, color='blue')\n",
    "plt.xlabel('centroids')\n",
    "plt.ylabel('silhouette averages')\n",
    "plt.show()"
   ]
  },
  {
   "cell_type": "code",
   "execution_count": 16,
   "metadata": {
    "collapsed": true
   },
   "outputs": [],
   "source": [
    "# Chosen number of centroids: 128\n",
    "chosen_model = kmeans[6]\n",
    "chosen_model_labels = chosen_model.predict(data)"
   ]
  },
  {
   "cell_type": "code",
   "execution_count": 17,
   "metadata": {},
   "outputs": [
    {
     "name": "stdout",
     "output_type": "stream",
     "text": [
      "Group: 32\n",
      " - Medoid doc: c6b7094f1ced7b2a668f4b6fad719d2dddc7aa15\n",
      "Path: cantaloupe.srv.cs.cmu.edu!das-news.harvard.edu!noc.near.net!howland.reston.ans.net!agate!doc.ic.ac.uk!dundee.ac.uk!cardhu!dwestnerFrom: dwestner@cardhu.mcs.dundee.ac.uk (Dominik Westner)Newsgroups: comp.graphicsSubject: need a viewer for gl filesDate: 19 Apr 1993 11:42:10 GMTOrganization: Maths & C.S. Dept., Dundee University, Scotland, UKLines: 10Message-ID: <1qu36i$kh7@dux.dundee.ac.uk>NNTP-Posting-Host: cardhu.mcs.dundee.ac.ukX-Newsreader: TIN [version 1.1 PL9]Hi, the subject says it all. Is there a PD viewer for gl files (for X)?ThanksDominik\n",
      " - \n",
      " -- Closest to medoid doc: a25d9024e3cc3792907f64dc5be2caea8a48fb73\n",
      "Newsgroups: alt.atheismPath: cantaloupe.srv.cs.cmu.edu!crabapple.srv.cs.cmu.edu!bb3.andrew.cmu.edu!news.sei.cmu.edu!cis.ohio-state.edu!pacific.mps.ohio-state.edu!zaphod.mps.ohio-state.edu!moe.ksu.ksu.edu!osuunx.ucc.okstate.edu!constellation!darkside!okcforum.osrhe.edu!bilFrom: bil@okcforum.osrhe.edu (Bill Conner)Subject: Re: free moral agencyMessage-ID: <C5uxJ9.pJ@darkside.osrhe.uoknor.edu>Sender: news@darkside.osrhe.uoknor.eduNntp-Posting-Host: okcforum.osrhe.eduOrganization: Okcforum Unix Users GroupX-Newsreader: TIN [version 1.1 PL9]References: <1993Apr19.161248.23708@welchgate.welch.jhu.edu>Date: Wed, 21 Apr 1993 23:35:32 GMTLines: 4See, I told you there was an atheist mythology, thanks for proving mypoint.Bill\n",
      " -- \n",
      " --- Second closest to medoid doc: 427e5bc2a3420d01a1054c4d0c5c27c1382de696\n",
      "Newsgroups: comp.os.ms-windows.miscPath: cantaloupe.srv.cs.cmu.edu!das-news.harvard.edu!noc.near.net!howland.reston.ans.net!newsserver.jvnc.net!news.edu.tw!cc.ntnu.edu.tw!news!ccnews.nctu.edu.tw!ev004.ev.nctu.edu.tw!hjhongFrom: hjhong@ev004.ev.nctu.edu.tw (H. J. Hong)Subject: FTP tool for WindowsMessage-ID: <1993Apr19.044323.24426@ccnews.nctu.edu.tw>Sender: usenet@ccnews.nctu.edu.twOrganization: National Chiao Tung UniversityX-Newsreader: TIN [version 1.1 PL8]Date: Mon, 19 Apr 1993 04:43:23 GMTLines: 8Is there any one know:What is the FTP tool for Windows and where to get the tool ?Thanks for any help !!H.J.   1993,4,19\n",
      " --- \n",
      "Group: 64\n",
      " - Medoid doc: 6ad54823ba780b6e2d970da7d014e64d1fc6880b\n",
      "Xref: cantaloupe.srv.cs.cmu.edu talk.religion.misc:83643 talk.religion.newage:19615Path: cantaloupe.srv.cs.cmu.edu!crabapple.srv.cs.cmu.edu!fs7.ece.cmu.edu!europa.eng.gtefsd.com!gatech!news-feed-1.peachnet.edu!nscf!lakes!kalki33!systemFrom: system@kalki33.lakes.trenton.sc.us (Kalki Dasa)Newsgroups: talk.religion.misc,talk.religion.newageSubject: Bhagavad-Gita 2.45Message-ID: <R0B32B1w165w@kalki33.lakes.trenton.sc.us>Date: Thu, 15 Apr 93 15:35:26 EDTOrganization: Kalki's Infoline BBS, Aiken, SC, USALines: 62                                TEXT 45                        trai-gunya-visaya veda                        nistrai-gunyo bhavarjuna                     nirdvandvo nitya-sattva-stho                          niryoga-ksema atmavan  trai-gunya--pertaining to the three modes of material nature;visayah--on the subject matter; vedah--Vedic literatures;nistrai-gunyah--transcendental to the three modes of material nature;bhava--be; arjuna--O Arjuna; nirdvandvah--without duality;nitya-sattva-sthah--in a pure state of spiritual existence;niryoga-ksemah--free from ideas of gain and protection;atma-van--established in the self.                                  TRANSLATION The Vedas deal mainly with the subject of the three modes of materialnature. O Arjuna, become transcendental to these three modes. Be freefrom all dualities and from all anxieties for gain and safety, and beestablished in the self.                                  PURPORT All material activities involve actions and reactions in the threemodes of material nature. They are meant for fruitive results, whichcause bondage in the material world. The Vedas deal mostly with fruitiveactivities to gradually elevate the general public from the field ofsense gratification to a position on the transcendental plane. Arjuna,as a student and friend of Lord Krsna, is advised to raise himself tothe transcendental position of Vedanta philosophy where, in thebeginning, there is brahma-jijnasa, or questions on the supremetranscendence. All the living entities who are in the material world arestruggling very hard for existence. For them the Lord, after creation ofthe material world, gave the Vedic wisdom advising how to live and getrid of the material entanglement. When the activities for sensegratification, namely the karma-kanda chapter, are finished, then thechance for spiritual realization is offered in the form of theUpanisads, which are part of different Vedas, as the Bhagavad-gita is apart of the fifth Veda, namely the Mahabharata. The Upanisads mark thebeginning of transcendental life. As long as the material body exists, there are actions and reactions inthe material modes. One has to learn tolerance in the face of dualitiessuch as happiness and distress, or cold and warmth, and by toleratingsuch dualities become free from anxieties regarding gain and loss. Thistranscendental position is achieved in full Krsna consciousness when oneis fully dependent on the good will of Krsna.Bhagavad-Gita As It isBooks of A.C. Bhaktivedanta Swami       ---------------------------------------------------------      |                Don't forget to chant:                   |      |                                                         |      |  Hare Krishna Hare Krishna, Krishna Krishna Hare Hare   |      |       Hare Rama Hare Rama, Rama Rama Hare Hare          |      |                                                         |      |    Kalki's Infoline BBS Aiken, South Carolina, USA      |      |          (system@kalki33.lakes.trenton.sc.us)           |       ---------------------------------------------------------\n",
      " - \n",
      " -- Closest to medoid doc: 56240164d8381b8bc263acb6b8e979e3aea48851\n",
      "Path: cantaloupe.srv.cs.cmu.edu!rochester!udel!darwin.sura.net!zaphod.mps.ohio-state.edu!sdd.hp.com!saimiri.primate.wisc.edu!zazen!uwec.edu!mcelwreFrom: mcelwre@cnsvax.uwec.eduNewsgroups: sci.spaceSubject: LARSONIAN Astronomy and PhysicsMessage-ID: <1993Apr26.121008.6448@cnsvax.uwec.edu>Date: 26 Apr 93 12:10:08 -0600Organization: University of Wisconsin Eau ClaireLines: 552                      LARSONIAN Astronomy and Physics               Orthodox physicists, astronomers, and astrophysicists           CLAIM to be looking for a \"Unified Field Theory\" in which all           of the forces of the universe can be explained with a single           set of laws or equations.  But they have been systematically           IGNORING or SUPPRESSING an excellent one for 30 years!                The late Physicist Dewey B. Larson's comprehensive           GENERAL UNIFIED Theory of the physical universe, which he           calls the \"Reciprocal System\", is built on two fundamental           postulates about the physical and mathematical natures of           space and time:                    (1) \"The physical universe is composed ENTIRELY of ONE           component, MOTION, existing in THREE dimensions, in DISCRETE           UNITS, and in two RECIPROCAL forms, SPACE and TIME.\"                    (2) \"The physical universe conforms to the relations of           ORDINARY COMMUTATIVE mathematics, its magnitudes are           ABSOLUTE, and its geometry is EUCLIDEAN.\"                    From these two postulates, Larson developed a COMPLETE           Theoretical Universe, using various combinations of           translational, vibrational, rotational, and vibrational-          rotational MOTIONS, the concepts of IN-ward and OUT-ward           SCALAR MOTIONS, and speeds in relation to the Speed of Light           (which Larson called \"UNIT VELOCITY\" and \"THE NATURAL           DATUM\").                      At each step in the development, Larson was able to           MATCH objects in his Theoretical Universe with objects in the           REAL physical universe, (photons, sub-atomic particles           [INCOMPLETE ATOMS], charges, atoms, molecules, globular star           clusters, galaxies, binary star systems, solar systems, white           dwarf stars, pulsars, quasars, ETC.), even objects NOT YET           DISCOVERED THEN (such as EXPLODING GALAXIES, and GAMMA-RAY           BURSTS).                          And applying his Theory to his NEW model of the atom,           Larson was able to precisely and accurately CALCULATE inter-          atomic distances in crystals and molecules, compressibility           and thermal expansion of solids, and other properties of           matter.                All of this is described in good detail, with-OUT fancy           complex mathematics, in his books.               BOOKS of Dewey B. Larson                         The following is a complete list of the late Physicist           Dewey B. Larson's books about his comprehensive GENERAL           UNIFIED Theory of the physical universe.  Some of the early           books are out of print now, but still available through           inter-library loan.                    \"The Structure of the Physical Universe\" (1959)                    \"The Case AGAINST the Nuclear Atom\" (1963)                   \"Beyond Newton\" (1964)                    \"New Light on Space and Time\" (1965)                    \"Quasars and Pulsars\" (1971)                    \"NOTHING BUT MOTION\" (1979)                     [A $9.50 SUBSTITUTE for the $8.3 BILLION \"Super                                                             Collider\".]                     [The last four chapters EXPLAIN chemical bonding.]               \"The Neglected Facts of Science\" (1982)                     \"THE UNIVERSE OF MOTION\" (1984)                    [FINAL SOLUTIONS to most ALL astrophysical                                                            mysteries.]                      \"BASIC PROPERTIES OF MATTER\" (1988)               All but the last of these books were published by North           Pacific Publishers, P.O. Box 13255, Portland, OR  97213, and           should be available via inter-library loan if your local           university or public library doesn't have each of them.                Several of them, INCLUDING the last one, are available           from: The International Society of Unified Science (ISUS),           1680 E. Atkin Ave., Salt Lake City, Utah  84106.  This is the           organization that was started to promote Larson's Theory.            They have other related publications, including the quarterly           journal \"RECIPROCITY\".                     Physicist Dewey B. Larson's Background                   Physicist Dewey B. Larson was a retired Engineer           (Chemical or Electrical).  He was about 91 years old when he           died in May 1989.  He had a Bachelor of Science Degree in           Engineering Science from Oregon State University.  He           developed his comprehensive GENERAL UNIFIED Theory of the           physical universe while trying to develop a way to COMPUTE           chemical properties based only on the elements used.                    Larson's lack of a fancy \"PH.D.\" degree might be one           reason that orthodox physicists are ignoring him, but it is           NOT A VALID REASON.  Sometimes it takes a relative outsider           to CLEARLY SEE THE FOREST THROUGH THE TREES.  At the same           time, it is clear from his books that he also knew ORTHODOX           physics and astronomy as well as ANY physicist or astronomer,           well enough to point out all their CONTRADICTIONS, AD HOC           ASSUMPTIONS, PRINCIPLES OF IMPOTENCE, IN-CONSISTENCIES, ETC..                     Larson did NOT have the funds, etc. to experimentally           test his Theory.  And it was NOT necessary for him to do so.            He simply compared the various parts of his Theory with OTHER           researchers' experimental and observational data.  And in           many cases, HIS explanation FIT BETTER.                    A SELF-CONSISTENT Theory is MUCH MORE than the ORTHODOX           physicists and astronomers have!  They CLAIM to be looking           for a \"unified field theory\" that works, but have been           IGNORING one for over 30 years now!                    \"Modern physics\" does NOT explain the physical universe           so well.  Some parts of some of Larson's books are FULL of           quotations of leading orthodox physicists and astronomers who           agree.  And remember that \"epicycles\", \"crystal spheres\",           \"geocentricity\", \"flat earth theory\", etc., ALSO once SEEMED           to explain it well, but were later proved CONCEPTUALLY WRONG.                        Prof. Frank H. Meyer, Professor Emeritus of UW-Superior,           was/is a STRONG PROPONENT of Larson's Theory, and was (or           still is) President of Larson's organization, \"THE           INTERNATIONAL SOCIETY OF UNIFIED SCIENCE\", and Editor of           their quarterly Journal \"RECIPROCITY\".  He moved to           Minneapolis after retiring.               \"Super Collider\" BOONDOGGLE!                         I am AGAINST contruction of the \"Superconducting Super           Collider\", in Texas or anywhere else.  It would be a GROSS           WASTE of money, and contribute almost NOTHING of \"scientific\"           value.                    Most physicists don't realize it, but, according to the           comprehensive GENERAL UNIFIED Theory of the late Physicist           Dewey B. Larson, as described in his books, the strange GOOFY           particles (\"mesons\", \"hyperons\", ALLEGED \"quarks\", etc.)           which they are finding in EXISTING colliders (Fermi Lab,           Cern, etc.) are really just ATOMS of ANTI-MATTER, which are           CREATED by the high-energy colliding beams, and which quickly           disintegrate like cosmic rays because they are incompatible           with their environment.                    A larger and more expensive collider will ONLY create a           few more elements of anti-matter that the physicists have not           seen there before, and the physicists will be EVEN MORE           CONFUSED THAN THEY ARE NOW!                    Are a few more types of anti-matter atoms worth the $8.3           BILLION cost?!!  Don't we have much more important uses for           this WASTED money?!                         Another thing to consider is that the primary proposed           location in Texas has a serious and growing problem with some           kind of \"fire ants\" eating the insulation off underground           cables.  How much POISONING of the ground and ground water           with insecticides will be required to keep the ants out of           the \"Supercollider\"?!                              Naming the \"Super Collider\" after Ronald Reagon, as           proposed, is TOTALLY ABSURD!  If it is built, it should be           named after a leading particle PHYSICIST.                 LARSONIAN Anti-Matter                         In Larson's comprehensive GENERAL UNIFIED Theory of the           physical universe, anti-matter is NOT a simple case of           opposite charges of the same types of particles.  It has more           to do with the rates of vibrations and rotations of the           photons of which they are made, in relation to the           vibrational and rotational equivalents of the speed of light,           which Larson calls \"Unit Velocity\" and the \"Natural Datum\".                     In Larson's Theory, a positron is actually a particle of           MATTER, NOT anti-matter.  When a positron and electron meet,           the rotational vibrations (charges) and rotations of their           respective photons (of which they are made) neutralize each           other.                      In Larson's Theory, the ANTI-MATTER half of the physical           universe has THREE dimensions of TIME, and ONLY ONE dimension           of space, and exists in a RECIPROCAL RELATIONSHIP to our           MATERIAL half.                  LARSONIAN Relativity                         The perihelion point in the orbit of the planet Mercury           has been observed and precisely measured to ADVANCE at the           rate of 574 seconds of arc per century.  531 seconds of this           advance are attributed via calculations to gravitational           perturbations from the other planets (Venus, Earth, Jupiter,           etc.).  The remaining 43 seconds of arc are being used to           help \"prove\" Einstein's \"General Theory of Relativity\".                    But the late Physicist Dewey B. Larson achieved results           CLOSER to the 43 seconds than \"General Relativity\" can, by           INSTEAD using \"SPECIAL Relativity\".  In one or more of his           books, he applied the LORENTZ TRANSFORMATION on the HIGH           ORBITAL SPEED of Mercury.                    Larson TOTALLY REJECTED \"General Relativity\" as another           MATHEMATICAL FANTASY.  He also REJECTED most of \"Special           Relativity\", including the parts about \"mass increases\" near           the speed of light, and the use of the Lorentz Transform on           doppler shifts, (Those quasars with red-shifts greater than           1.000 REALLY ARE MOVING FASTER THAN THE SPEED OF LIGHT,           although most of that motion is away from us IN TIME.).                     In Larson's comprehensive GENERAL UNIFIED Theory of the           physical universe, there are THREE dimensions of time instead           of only one.  But two of those dimensions can NOT be measured           from our material half of the physical universe.  The one           dimension that we CAN measure is the CLOCK time.  At low           relative speeds, the values of the other two dimensions are           NEGLIGIBLE; but at high speeds, they become significant, and           the Lorentz Transformation must be used as a FUDGE FACTOR.           [Larson often used the term \"COORDINATE TIME\" when writing           about this.]                         In regard to \"mass increases\", it has been PROVEN in           atomic accelerators that acceleration drops toward zero near           the speed of light.  But the formula for acceleration is           ACCELERATION = FORCE / MASS, (a = F/m).  Orthodox physicists           are IGNORING the THIRD FACTOR: FORCE.  In Larson's Theory,           mass STAYS CONSTANT and FORCE drops toward zero.  FORCE is           actually a MOTION, or COMBINATIONS of MOTIONS, or RELATIONS           BETWEEN MOTIONS, including INward and OUTward SCALAR MOTIONS.            The expansion of the universe, for example, is an OUTward           SCALAR motion inherent in the universe and NOT a result of           the so-called \"Big Bang\" (which is yet another MATHEMATICAL           FANTASY).                                                             THE UNIVERSE OF MOTION               I wish to recommend to EVERYONE the book \"THE UNIVERSE           OF MOTION\", by Dewey B. Larson, 1984, North Pacific           Publishers, (P.O. Box 13255, Portland, Oregon  97213), 456           pages, indexed, hardcover.                    It contains the Astrophysical portions of a GENERAL           UNIFIED Theory of the physical universe developed by that           author, an UNrecognized GENIUS, more than thirty years ago.                    It contains FINAL SOLUTIONS to most ALL Astrophysical           mysteries, including the FORMATION of galaxies, binary and           multiple star systems, and solar systems, the TRUE ORIGIN of           the \"3-degree\" background radiation, cosmic rays, and gamma-          ray bursts, and the TRUE NATURE of quasars, pulsars, white           dwarfs, exploding galaxies, etc..                    It contains what astronomers and astrophysicists are ALL           looking for, if they are ready to seriously consider it with           OPEN MINDS!                    The following is an example of his Theory's success:           In his first book in 1959, \"THE STRUCTURE OF THE PHYSICAL           UNIVERSE\", Larson predicted the existence of EXPLODING           GALAXIES, several years BEFORE astronomers started finding           them.  They are a NECESSARY CONSEQUENCE of Larson's           comprehensive Theory.  And when QUASARS were discovered, he           had an immediate related explanation for them also.                GAMMA-RAY BURSTS               Astro-physicists and astronomers are still scratching           their heads about the mysterious GAMMA-RAY BURSTS.  They were           originally thought to originate from \"neutron stars\" in the           disc of our galaxy.  But the new Gamma Ray Telescope now in           Earth orbit has been detecting them in all directions           uniformly, and their source locations in space do NOT           correspond to any known objects, (except for a few cases of           directional coincidence).                    Gamma-ray bursts are a NECESSARY CONSEQUENCE of the           GENERAL UNIFIED Theory of the physical universe developed by           the late Physicist Dewey B. Larson.  According to page 386 of           his book \"THE UNIVERSE OF MOTION\", published in 1984, the           gamma-ray bursts are coming from SUPERNOVA EXPLOSIONS in the           ANTI-MATTER HALF of the physical universe, which Larson calls           the \"Cosmic Sector\".  Because of the relationship between the           anti-matter and material halves of the physical universe, and           the way they are connected together, the gamma-ray bursts can           pop into our material half anywhere in space, seemingly at           random.  (This is WHY the source locations of the bursts do           not correspond with known objects, and come from all           directions uniformly.)                    I wonder how close to us in space a source location           would have to be for a gamma-ray burst to kill all or most           life on Earth!  There would be NO WAY to predict one, NOR to           stop it!                    Perhaps some of the MASS EXTINCTIONS of the past, which           are now being blamed on impacts of comets and asteroids, were           actually caused by nearby GAMMA-RAY BURSTS!               LARSONIAN Binary Star Formation                         About half of all the stars in the galaxy in the           vicinity of the sun are binary or double.  But orthodox           astronomers and astrophysicists still have no satisfactory           theory about how they form or why there are so many of them.                    But binary star systems are actually a LIKELY           CONSEQUENCE of the comprehensive GENERAL UNIFIED Theory of           the physical universe developed by the late Physicist Dewey           B. Larson.                    I will try to summarize Larsons explanation, which is           detailed in Chapter 7 of his book \"THE UNIVERSE OF MOTION\"           and in some of his other books.                    First of all, according to Larson, stars do NOT generate           energy by \"fusion\".  A small fraction comes from slow           gravitational collapse.  The rest results from the COMPLETE           ANNIHILATION of HEAVY elements (heavier than IRON).  Each           element has a DESTRUCTIVE TEMPERATURE LIMIT.  The heavier the           element is, the lower is this limit.  A star's internal           temperature increases as it grows in mass via accretion and           absorption of the decay products of cosmic rays, gradually           reaching the destructive temperature limit of lighter and           lighter elements.                    When the internal temperature of the star reaches the           destructive temperature limit of IRON, there is a Type I           SUPERNOVA EXPLOSION!  This is because there is SO MUCH iron           present; and that is related to the structure of iron atoms           and the atom building process, which Larson explains in some           of his books [better than I can].                    When the star explodes, the lighter material on the           outer portion of the star is blown outward in space at less           than the speed of light.  The heavier material in the center           portion of the star was already bouncing around at close to           the speed of light, because of the high temperature.  The           explosion pushes that material OVER the speed of light, and           it expands OUTWARD IN TIME, which is equivalent to INWARD IN           SPACE, and it often actually DISAPPEARS for a while.                    Over long periods of time, both masses start to fall           back gravitationally.  The material that had been blown           outward in space now starts to form a RED GIANT star.  The           material that had been blown OUTWARD IN TIME starts to form a           WHITE DWARF star.  BOTH stars then start moving back toward           the \"MAIN SEQUENCE\" from opposite directions on the H-R           Diagram.                    The chances of the two masses falling back into the           exact same location in space, making a single lone star           again, are near zero.  They will instead form a BINARY           system, orbiting each other.                     According to Larson, a white dwarf star has an INVERSE           DENSITY GRADIENT (is densest at its SURFACE), because the           material at its center is most widely dispersed (blown           outward) in time.   This ELIMINATES the need to resort to           MATHEMATICAL FANTASIES about \"degenerate matter\", \"neutron           stars\", \"black holes\", etc..               LARSONIAN Solar System Formation               If the mass of the heavy material at the center of the           exploding star is relatively SMALL, then, instead of a single           white dwarf star, there will be SEVERAL \"mini\" white dwarf           stars (revolving around the red giant star, but probably           still too far away in three-dimensional TIME to be affected           by its heat, etc.).  These will become PLANETS!                      In Chapter 7 of THE UNIVERSE OF MOTION, Larson used all           this information, and other principles of his comprehensive           GENERAL UNIFIED Theory of the physical universe, to derive           his own version of Bode's Law.                     \"Black Hole\" FANTASY!               I heard that physicist Stephen W. Hawking recently           completed a theoretical mathematical analysis of TWO \"black           holes\" merging together into a SINGLE \"black hole\", and           concluded that the new \"black hole\" would have MORE MASS than           the sum of the two original \"black holes\".                    Such a result should be recognized by EVERYone as a RED           FLAG, causing widespread DOUBT about the whole IDEA of \"black           holes\", etc.!                    After reading Physicist Dewey B. Larson's books about           his comprehensive GENERAL UNIFIED Theory of the physical           universe, especially his book \"THE UNIVERSE OF MOTION\", it is           clear to me that \"black holes\" are NOTHING more than           MATHEMATICAL FANTASIES!  The strange object at Cygnus X-1 is           just an unusually massive WHITE DWARF STAR, NOT the \"black           hole\" that orthodox astronomers and physicists so badly want           to \"prove\" their theory.                        By the way, I do NOT understand why so much publicity is           being given to physicist Stephen Hawking.  The physicists and           astronomers seem to be acting as if Hawking's severe physical           problem somehow makes him \"wiser\".  It does NOT!                    I wish the same attention had been given to Physicist           Dewey B. Larson while he was still alive.  Widespread           publicity and attention should NOW be given to Larson's           Theory, books, and organization (The International Society of           Unified Science).                                         ELECTRO-MAGNETIC PROPULSION               I heard of that concept many years ago, in connection           with UFO's and unorthodox inventors, but I never was able to           find out how or why they work, or how they are constructed.                    I found a possible clue about why they might work on           pages 112-113 of the book \"BASIC PROPERTIES OF MATTER\", by           the late Physicist Dewey B. Larson, which describes part of           Larson's comprehensive GENERAL UNIFIED Theory of the physical           universe.  I quote one paragraph:                    \"As indicated in the preceding chapter, the development           of the theory of the universe of motion arrives at a totally           different concept of the nature of electrical resistance.            The electrons, we find, are derived from the environment.  It           was brought out in Volume I [Larson's book \"NOTHING BUT           MOTION\"] that there are physical processes in operation which           produce electrons in substantial quantities, and that,           although the motions that constitute these electrons are, in           many cases, absorbed by atomic structures, the opportunities           for utilizing this type of motion in such structures are           limited.  It follows that there is always a large excess of           free electrons in the material sector [material half] of the           universe, most of which are uncharged.  In this uncharged           state the electrons cannot move with respect to extension           space, because they are inherently rotating units of space,           and the relation of space to space is not motion.  In open           space, therefore, each uncharged electron remains permanently           in the same location with respect to the natural reference           system, in the manner of a photon.  In the context of the           stationary spatial reference system the uncharged electron,           like the photon, is carried outward at the speed of light by           the progression of the natural reference system.  All           material aggregates are thus exposed to a flux of electrons           similar to the continual bombardment by photons of radiation.            Meanwhile there are other processes, to be discussed later,           whereby electrons are returned to the environment.  The           electron population of a material aggregate such as the earth           therefore stabilizes at an equilibrium level.\"                          Note that in Larson's Theory, UNcharged electrons are           also massLESS, and are basically photons of light of a           particular frequency (above the \"unit\" frequency) spinning           around one axis at a particular rate (below the \"unit\" rate).            (\"Unit velocity\" is the speed of light, and there are           vibrational and rotational equivalents to the speed of light,           according to Larson's Theory.)  [I might have the \"above\" and           \"below\" labels mixed up.]                    Larson is saying that outer space is filled with mass-          LESS UN-charged electrons flying around at the speed of           light!                    If this is true, then the ELECTRO-MAGNETIC PROPULSION           fields of spacecraft might be able to interact with these           electrons, or other particles in space, perhaps GIVING them a           charge (and mass) and shooting them toward the rear to           achieve propulsion. (In Larson's Theory, an electrical charge           is a one-dimensional rotational vibration of a particular           frequency (above the \"unit\" frequency) superimposed on the           rotation of the particle.)                      The paragraph quoted above might also give a clue to           confused meteorologists about how and why lightning is           generated in clouds.           SUPPRESSION of LARSONIAN Physics               The comprehensive GENERAL UNIFIED Theory of the physical           universe developed by the late Physicist Dewey B. Larson has           been available for more than 30 YEARS, published in 1959 in           his first book \"THE STRUCTURE OF THE PHYSICAL UNIVERSE\".                    It is TOTALLY UN-SCIENTIFIC for Hawking, Wheeler, Sagan,           and the other SACRED PRIESTS of the RELIGION they call           \"science\" (or \"physics\", or \"astronomy\", etc.), as well as           the \"scientific\" literature and the \"education\" systems, to           TOTALLY IGNORE Larson's Theory has they have.                    Larson's Theory has excellent explanations for many           things now puzzling orthodox physicists and astronomers, such           as gamma-ray bursts and the nature of quasars.                    Larson's Theory deserves to be HONESTLY and OPENLY           discussed in the physics, chemistry, and astronomy journals,           in the U.S. and elsewhere.  And at least the basic principles           of Larson's Theory should be included in all related courses           at UW-EC, UW-Madison, Cambridge, Cornell University, and           elsewhere, so that students are not kept in the dark about a           worthy alternative to the DOGMA they are being fed.                              For more information, answers to your questions, etc.,           please consult my CITED SOURCES (especially Larson's BOOKS).                UN-altered REPRODUCTION and DISSEMINATION of this           IMPORTANT partial summary is ENCOURAGED.                                        Robert E. McElwaine                                       B.S., Physics and Astronomy, UW-EC          \n",
      " -- \n",
      " --- Second closest to medoid doc: 041144c5c55a2c5c70ddd97542130515a2c712c6\n",
      "Path: cantaloupe.srv.cs.cmu.edu!magnesium.club.cc.cmu.edu!news.sei.cmu.edu!cis.ohio-state.edu!pacific.mps.ohio-state.edu!zaphod.mps.ohio-state.edu!saimiri.primate.wisc.edu!zazen!uwec.edu!mcelwreFrom: mcelwre@cnsvax.uwec.eduNewsgroups: talk.religion.miscSubject: LARSONIAN Astronomy, Physics, CREATIONMessage-ID: <1993Apr26.124710.6460@cnsvax.uwec.edu>Date: 26 Apr 93 12:47:10 -0600Organization: University of Wisconsin Eau ClaireLines: 556     The following partial summary of a Theory of the Universe includes alittle-known description of the CREATION of our Solar System:                      LARSONIAN Astronomy and Physics               Orthodox physicists, astronomers, and astrophysicists           CLAIM to be looking for a \"Unified Field Theory\" in which all           of the forces of the universe can be explained with a single           set of laws or equations.  But they have been systematically           IGNORING or SUPPRESSING an excellent one for 30 years!                The late Physicist Dewey B. Larson's comprehensive           GENERAL UNIFIED Theory of the physical universe, which he           calls the \"Reciprocal System\", is built on two fundamental           postulates about the physical and mathematical natures of           space and time:                    (1) \"The physical universe is composed ENTIRELY of ONE           component, MOTION, existing in THREE dimensions, in DISCRETE           UNITS, and in two RECIPROCAL forms, SPACE and TIME.\"                    (2) \"The physical universe conforms to the relations of           ORDINARY COMMUTATIVE mathematics, its magnitudes are           ABSOLUTE, and its geometry is EUCLIDEAN.\"                    From these two postulates, Larson developed a COMPLETE           Theoretical Universe, using various combinations of           translational, vibrational, rotational, and vibrational-          rotational MOTIONS, the concepts of IN-ward and OUT-ward           SCALAR MOTIONS, and speeds in relation to the Speed of Light           (which Larson called \"UNIT VELOCITY\" and \"THE NATURAL           DATUM\").                      At each step in the development, Larson was able to           MATCH objects in his Theoretical Universe with objects in the           REAL physical universe, (photons, sub-atomic particles           [INCOMPLETE ATOMS], charges, atoms, molecules, globular star           clusters, galaxies, binary star systems, solar systems, white           dwarf stars, pulsars, quasars, ETC.), even objects NOT YET           DISCOVERED THEN (such as EXPLODING GALAXIES, and GAMMA-RAY           BURSTS).                          And applying his Theory to his NEW model of the atom,           Larson was able to precisely and accurately CALCULATE inter-          atomic distances in crystals and molecules, compressibility           and thermal expansion of solids, and other properties of           matter.                All of this is described in good detail, with-OUT fancy           complex mathematics, in his books.               BOOKS of Dewey B. Larson                         The following is a complete list of the late Physicist           Dewey B. Larson's books about his comprehensive GENERAL           UNIFIED Theory of the physical universe.  Some of the early           books are out of print now, but still available through           inter-library loan.                    \"The Structure of the Physical Universe\" (1959)                    \"The Case AGAINST the Nuclear Atom\" (1963)                   \"Beyond Newton\" (1964)                    \"New Light on Space and Time\" (1965)                    \"Quasars and Pulsars\" (1971)                    \"NOTHING BUT MOTION\" (1979)                     [A $9.50 SUBSTITUTE for the $8.3 BILLION \"Super                                                             Collider\".]                     [The last four chapters EXPLAIN chemical bonding.]               \"The Neglected Facts of Science\" (1982)                     \"THE UNIVERSE OF MOTION\" (1984)                    [FINAL SOLUTIONS to most ALL astrophysical                                                            mysteries.]                      \"BASIC PROPERTIES OF MATTER\" (1988)               All but the last of these books were published by North           Pacific Publishers, P.O. Box 13255, Portland, OR  97213, and           should be available via inter-library loan if your local           university or public library doesn't have each of them.                Several of them, INCLUDING the last one, are available           from: The International Society of Unified Science (ISUS),           1680 E. Atkin Ave., Salt Lake City, Utah  84106.  This is the           organization that was started to promote Larson's Theory.            They have other related publications, including the quarterly           journal \"RECIPROCITY\".                     Physicist Dewey B. Larson's Background                   Physicist Dewey B. Larson was a retired Engineer           (Chemical or Electrical).  He was about 91 years old when he           died in May 1989.  He had a Bachelor of Science Degree in           Engineering Science from Oregon State University.  He           developed his comprehensive GENERAL UNIFIED Theory of the           physical universe while trying to develop a way to COMPUTE           chemical properties based only on the elements used.                    Larson's lack of a fancy \"PH.D.\" degree might be one           reason that orthodox physicists are ignoring him, but it is           NOT A VALID REASON.  Sometimes it takes a relative outsider           to CLEARLY SEE THE FOREST THROUGH THE TREES.  At the same           time, it is clear from his books that he also knew ORTHODOX           physics and astronomy as well as ANY physicist or astronomer,           well enough to point out all their CONTRADICTIONS, AD HOC           ASSUMPTIONS, PRINCIPLES OF IMPOTENCE, IN-CONSISTENCIES, ETC..                     Larson did NOT have the funds, etc. to experimentally           test his Theory.  And it was NOT necessary for him to do so.            He simply compared the various parts of his Theory with OTHER           researchers' experimental and observational data.  And in           many cases, HIS explanation FIT BETTER.                    A SELF-CONSISTENT Theory is MUCH MORE than the ORTHODOX           physicists and astronomers have!  They CLAIM to be looking           for a \"unified field theory\" that works, but have been           IGNORING one for over 30 years now!                    \"Modern physics\" does NOT explain the physical universe           so well.  Some parts of some of Larson's books are FULL of           quotations of leading orthodox physicists and astronomers who           agree.  And remember that \"epicycles\", \"crystal spheres\",           \"geocentricity\", \"flat earth theory\", etc., ALSO once SEEMED           to explain it well, but were later proved CONCEPTUALLY WRONG.                        Prof. Frank H. Meyer, Professor Emeritus of UW-Superior,           was/is a STRONG PROPONENT of Larson's Theory, and was (or           still is) President of Larson's organization, \"THE           INTERNATIONAL SOCIETY OF UNIFIED SCIENCE\", and Editor of           their quarterly Journal \"RECIPROCITY\".  He moved to           Minneapolis after retiring.               \"Super Collider\" BOONDOGGLE!                         I am AGAINST contruction of the \"Superconducting Super           Collider\", in Texas or anywhere else.  It would be a GROSS           WASTE of money, and contribute almost NOTHING of \"scientific\"           value.                    Most physicists don't realize it, but, according to the           comprehensive GENERAL UNIFIED Theory of the late Physicist           Dewey B. Larson, as described in his books, the strange GOOFY           particles (\"mesons\", \"hyperons\", ALLEGED \"quarks\", etc.)           which they are finding in EXISTING colliders (Fermi Lab,           Cern, etc.) are really just ATOMS of ANTI-MATTER, which are           CREATED by the high-energy colliding beams, and which quickly           disintegrate like cosmic rays because they are incompatible           with their environment.                    A larger and more expensive collider will ONLY create a           few more elements of anti-matter that the physicists have not           seen there before, and the physicists will be EVEN MORE           CONFUSED THAN THEY ARE NOW!                    Are a few more types of anti-matter atoms worth the $8.3           BILLION cost?!!  Don't we have much more important uses for           this WASTED money?!                         Another thing to consider is that the primary proposed           location in Texas has a serious and growing problem with some           kind of \"fire ants\" eating the insulation off underground           cables.  How much POISONING of the ground and ground water           with insecticides will be required to keep the ants out of           the \"Supercollider\"?!                              Naming the \"Super Collider\" after Ronald Reagon, as           proposed, is TOTALLY ABSURD!  If it is built, it should be           named after a leading particle PHYSICIST.                 LARSONIAN Anti-Matter                         In Larson's comprehensive GENERAL UNIFIED Theory of the           physical universe, anti-matter is NOT a simple case of           opposite charges of the same types of particles.  It has more           to do with the rates of vibrations and rotations of the           photons of which they are made, in relation to the           vibrational and rotational equivalents of the speed of light,           which Larson calls \"Unit Velocity\" and the \"Natural Datum\".                     In Larson's Theory, a positron is actually a particle of           MATTER, NOT anti-matter.  When a positron and electron meet,           the rotational vibrations (charges) and rotations of their           respective photons (of which they are made) neutralize each           other.                      In Larson's Theory, the ANTI-MATTER half of the physical           universe has THREE dimensions of TIME, and ONLY ONE dimension           of space, and exists in a RECIPROCAL RELATIONSHIP to our           MATERIAL half.                  LARSONIAN Relativity                         The perihelion point in the orbit of the planet Mercury           has been observed and precisely measured to ADVANCE at the           rate of 574 seconds of arc per century.  531 seconds of this           advance are attributed via calculations to gravitational           perturbations from the other planets (Venus, Earth, Jupiter,           etc.).  The remaining 43 seconds of arc are being used to           help \"prove\" Einstein's \"General Theory of Relativity\".                    But the late Physicist Dewey B. Larson achieved results           CLOSER to the 43 seconds than \"General Relativity\" can, by           INSTEAD using \"SPECIAL Relativity\".  In one or more of his           books, he applied the LORENTZ TRANSFORMATION on the HIGH           ORBITAL SPEED of Mercury.                    Larson TOTALLY REJECTED \"General Relativity\" as another           MATHEMATICAL FANTASY.  He also REJECTED most of \"Special           Relativity\", including the parts about \"mass increases\" near           the speed of light, and the use of the Lorentz Transform on           doppler shifts, (Those quasars with red-shifts greater than           1.000 REALLY ARE MOVING FASTER THAN THE SPEED OF LIGHT,           although most of that motion is away from us IN TIME.).                     In Larson's comprehensive GENERAL UNIFIED Theory of the           physical universe, there are THREE dimensions of time instead           of only one.  But two of those dimensions can NOT be measured           from our material half of the physical universe.  The one           dimension that we CAN measure is the CLOCK time.  At low           relative speeds, the values of the other two dimensions are           NEGLIGIBLE; but at high speeds, they become significant, and           the Lorentz Transformation must be used as a FUDGE FACTOR.           [Larson often used the term \"COORDINATE TIME\" when writing           about this.]                         In regard to \"mass increases\", it has been PROVEN in           atomic accelerators that acceleration drops toward zero near           the speed of light.  But the formula for acceleration is           ACCELERATION = FORCE / MASS, (a = F/m).  Orthodox physicists           are IGNORING the THIRD FACTOR: FORCE.  In Larson's Theory,           mass STAYS CONSTANT and FORCE drops toward zero.  FORCE is           actually a MOTION, or COMBINATIONS of MOTIONS, or RELATIONS           BETWEEN MOTIONS, including INward and OUTward SCALAR MOTIONS.            The expansion of the universe, for example, is an OUTward           SCALAR motion inherent in the universe and NOT a result of           the so-called \"Big Bang\" (which is yet another MATHEMATICAL           FANTASY).                                                             THE UNIVERSE OF MOTION               I wish to recommend to EVERYONE the book \"THE UNIVERSE           OF MOTION\", by Dewey B. Larson, 1984, North Pacific           Publishers, (P.O. Box 13255, Portland, Oregon  97213), 456           pages, indexed, hardcover.                    It contains the Astrophysical portions of a GENERAL           UNIFIED Theory of the physical universe developed by that           author, an UNrecognized GENIUS, more than thirty years ago.                    It contains FINAL SOLUTIONS to most ALL Astrophysical           mysteries, including the FORMATION of galaxies, binary and           multiple star systems, and solar systems, the TRUE ORIGIN of           the \"3-degree\" background radiation, cosmic rays, and gamma-          ray bursts, and the TRUE NATURE of quasars, pulsars, white           dwarfs, exploding galaxies, etc..                    It contains what astronomers and astrophysicists are ALL           looking for, if they are ready to seriously consider it with           OPEN MINDS!                    The following is an example of his Theory's success:           In his first book in 1959, \"THE STRUCTURE OF THE PHYSICAL           UNIVERSE\", Larson predicted the existence of EXPLODING           GALAXIES, several years BEFORE astronomers started finding           them.  They are a NECESSARY CONSEQUENCE of Larson's           comprehensive Theory.  And when QUASARS were discovered, he           had an immediate related explanation for them also.                GAMMA-RAY BURSTS               Astro-physicists and astronomers are still scratching           their heads about the mysterious GAMMA-RAY BURSTS.  They were           originally thought to originate from \"neutron stars\" in the           disc of our galaxy.  But the new Gamma Ray Telescope now in           Earth orbit has been detecting them in all directions           uniformly, and their source locations in space do NOT           correspond to any known objects, (except for a few cases of           directional coincidence).                    Gamma-ray bursts are a NECESSARY CONSEQUENCE of the           GENERAL UNIFIED Theory of the physical universe developed by           the late Physicist Dewey B. Larson.  According to page 386 of           his book \"THE UNIVERSE OF MOTION\", published in 1984, the           gamma-ray bursts are coming from SUPERNOVA EXPLOSIONS in the           ANTI-MATTER HALF of the physical universe, which Larson calls           the \"Cosmic Sector\".  Because of the relationship between the           anti-matter and material halves of the physical universe, and           the way they are connected together, the gamma-ray bursts can           pop into our material half anywhere in space, seemingly at           random.  (This is WHY the source locations of the bursts do           not correspond with known objects, and come from all           directions uniformly.)                    I wonder how close to us in space a source location           would have to be for a gamma-ray burst to kill all or most           life on Earth!  There would be NO WAY to predict one, NOR to           stop it!                    Perhaps some of the MASS EXTINCTIONS of the past, which           are now being blamed on impacts of comets and asteroids, were           actually caused by nearby GAMMA-RAY BURSTS!               LARSONIAN Binary Star Formation                         About half of all the stars in the galaxy in the           vicinity of the sun are binary or double.  But orthodox           astronomers and astrophysicists still have no satisfactory           theory about how they form or why there are so many of them.                    But binary star systems are actually a LIKELY           CONSEQUENCE of the comprehensive GENERAL UNIFIED Theory of           the physical universe developed by the late Physicist Dewey           B. Larson.                    I will try to summarize Larsons explanation, which is           detailed in Chapter 7 of his book \"THE UNIVERSE OF MOTION\"           and in some of his other books.                    First of all, according to Larson, stars do NOT generate           energy by \"fusion\".  A small fraction comes from slow           gravitational collapse.  The rest results from the COMPLETE           ANNIHILATION of HEAVY elements (heavier than IRON).  Each           element has a DESTRUCTIVE TEMPERATURE LIMIT.  The heavier the           element is, the lower is this limit.  A star's internal           temperature increases as it grows in mass via accretion and           absorption of the decay products of cosmic rays, gradually           reaching the destructive temperature limit of lighter and           lighter elements.                    When the internal temperature of the star reaches the           destructive temperature limit of IRON, there is a Type I           SUPERNOVA EXPLOSION!  This is because there is SO MUCH iron           present; and that is related to the structure of iron atoms           and the atom building process, which Larson explains in some           of his books [better than I can].                    When the star explodes, the lighter material on the           outer portion of the star is blown outward in space at less           than the speed of light.  The heavier material in the center           portion of the star was already bouncing around at close to           the speed of light, because of the high temperature.  The           explosion pushes that material OVER the speed of light, and           it expands OUTWARD IN TIME, which is equivalent to INWARD IN           SPACE, and it often actually DISAPPEARS for a while.                    Over long periods of time, both masses start to fall           back gravitationally.  The material that had been blown           outward in space now starts to form a RED GIANT star.  The           material that had been blown OUTWARD IN TIME starts to form a           WHITE DWARF star.  BOTH stars then start moving back toward           the \"MAIN SEQUENCE\" from opposite directions on the H-R           Diagram.                    The chances of the two masses falling back into the           exact same location in space, making a single lone star           again, are near zero.  They will instead form a BINARY           system, orbiting each other.                     According to Larson, a white dwarf star has an INVERSE           DENSITY GRADIENT (is densest at its SURFACE), because the           material at its center is most widely dispersed (blown           outward) in time.   This ELIMINATES the need to resort to           MATHEMATICAL FANTASIES about \"degenerate matter\", \"neutron           stars\", \"black holes\", etc..               LARSONIAN Solar System Formation               If the mass of the heavy material at the center of the           exploding star is relatively SMALL, then, instead of a single           white dwarf star, there will be SEVERAL \"mini\" white dwarf           stars (revolving around the red giant star, but probably           still too far away in three-dimensional TIME to be affected           by its heat, etc.).  These will become PLANETS!                      In Chapter 7 of THE UNIVERSE OF MOTION, Larson used all           this information, and other principles of his comprehensive           GENERAL UNIFIED Theory of the physical universe, to derive           his own version of Bode's Law.                     \"Black Hole\" FANTASY!               I heard that physicist Stephen W. Hawking recently           completed a theoretical mathematical analysis of TWO \"black           holes\" merging together into a SINGLE \"black hole\", and           concluded that the new \"black hole\" would have MORE MASS than           the sum of the two original \"black holes\".                    Such a result should be recognized by EVERYone as a RED           FLAG, causing widespread DOUBT about the whole IDEA of \"black           holes\", etc.!                    After reading Physicist Dewey B. Larson's books about           his comprehensive GENERAL UNIFIED Theory of the physical           universe, especially his book \"THE UNIVERSE OF MOTION\", it is           clear to me that \"black holes\" are NOTHING more than           MATHEMATICAL FANTASIES!  The strange object at Cygnus X-1 is           just an unusually massive WHITE DWARF STAR, NOT the \"black           hole\" that orthodox astronomers and physicists so badly want           to \"prove\" their theory.                        By the way, I do NOT understand why so much publicity is           being given to physicist Stephen Hawking.  The physicists and           astronomers seem to be acting as if Hawking's severe physical           problem somehow makes him \"wiser\".  It does NOT!                    I wish the same attention had been given to Physicist           Dewey B. Larson while he was still alive.  Widespread           publicity and attention should NOW be given to Larson's           Theory, books, and organization (The International Society of           Unified Science).                                         ELECTRO-MAGNETIC PROPULSION               I heard of that concept many years ago, in connection           with UFO's and unorthodox inventors, but I never was able to           find out how or why they work, or how they are constructed.                    I found a possible clue about why they might work on           pages 112-113 of the book \"BASIC PROPERTIES OF MATTER\", by           the late Physicist Dewey B. Larson, which describes part of           Larson's comprehensive GENERAL UNIFIED Theory of the physical           universe.  I quote one paragraph:                    \"As indicated in the preceding chapter, the development           of the theory of the universe of motion arrives at a totally           different concept of the nature of electrical resistance.            The electrons, we find, are derived from the environment.  It           was brought out in Volume I [Larson's book \"NOTHING BUT           MOTION\"] that there are physical processes in operation which           produce electrons in substantial quantities, and that,           although the motions that constitute these electrons are, in           many cases, absorbed by atomic structures, the opportunities           for utilizing this type of motion in such structures are           limited.  It follows that there is always a large excess of           free electrons in the material sector [material half] of the           universe, most of which are uncharged.  In this uncharged           state the electrons cannot move with respect to extension           space, because they are inherently rotating units of space,           and the relation of space to space is not motion.  In open           space, therefore, each uncharged electron remains permanently           in the same location with respect to the natural reference           system, in the manner of a photon.  In the context of the           stationary spatial reference system the uncharged electron,           like the photon, is carried outward at the speed of light by           the progression of the natural reference system.  All           material aggregates are thus exposed to a flux of electrons           similar to the continual bombardment by photons of radiation.            Meanwhile there are other processes, to be discussed later,           whereby electrons are returned to the environment.  The           electron population of a material aggregate such as the earth           therefore stabilizes at an equilibrium level.\"                          Note that in Larson's Theory, UNcharged electrons are           also massLESS, and are basically photons of light of a           particular frequency (above the \"unit\" frequency) spinning           around one axis at a particular rate (below the \"unit\" rate).            (\"Unit velocity\" is the speed of light, and there are           vibrational and rotational equivalents to the speed of light,           according to Larson's Theory.)  [I might have the \"above\" and           \"below\" labels mixed up.]                    Larson is saying that outer space is filled with mass-          LESS UN-charged electrons flying around at the speed of           light!                    If this is true, then the ELECTRO-MAGNETIC PROPULSION           fields of spacecraft might be able to interact with these           electrons, or other particles in space, perhaps GIVING them a           charge (and mass) and shooting them toward the rear to           achieve propulsion. (In Larson's Theory, an electrical charge           is a one-dimensional rotational vibration of a particular           frequency (above the \"unit\" frequency) superimposed on the           rotation of the particle.)                      The paragraph quoted above might also give a clue to           confused meteorologists about how and why lightning is           generated in clouds.           SUPPRESSION of LARSONIAN Physics               The comprehensive GENERAL UNIFIED Theory of the physical           universe developed by the late Physicist Dewey B. Larson has           been available for more than 30 YEARS, published in 1959 in           his first book \"THE STRUCTURE OF THE PHYSICAL UNIVERSE\".                    It is TOTALLY UN-SCIENTIFIC for Hawking, Wheeler, Sagan,           and the other SACRED PRIESTS of the RELIGION they call           \"science\" (or \"physics\", or \"astronomy\", etc.), as well as           the \"scientific\" literature and the \"education\" systems, to           TOTALLY IGNORE Larson's Theory has they have.                    Larson's Theory has excellent explanations for many           things now puzzling orthodox physicists and astronomers, such           as gamma-ray bursts and the nature of quasars.                    Larson's Theory deserves to be HONESTLY and OPENLY           discussed in the physics, chemistry, and astronomy journals,           in the U.S. and elsewhere.  And at least the basic principles           of Larson's Theory should be included in all related courses           at UW-EC, UW-Madison, Cambridge, Cornell University, and           elsewhere, so that students are not kept in the dark about a           worthy alternative to the DOGMA they are being fed.                              For more information, answers to your questions, etc.,           please consult my CITED SOURCES (especially Larson's BOOKS).                UN-altered REPRODUCTION and DISSEMINATION of this           IMPORTANT partial summary is ENCOURAGED.                                        Robert E. McElwaine                                       B.S., Physics and Astronomy, UW-EC          \n",
      " --- \n",
      "Group: 96\n",
      " - Medoid doc: aad5914b9868c167169550405fdcd99f786035ed\n",
      "Newsgroups: talk.politics.gunsPath: cantaloupe.srv.cs.cmu.edu!magnesium.club.cc.cmu.edu!news.sei.cmu.edu!fs7.ece.cmu.edu!europa.eng.gtefsd.com!howland.reston.ans.net!usc!cs.utexas.edu!convex!convex!bjonesFrom: bjones@convex.com (Brad Jones)Subject: Re: Letter to the PresidentSender: usenet@news.eng.convex.com (news access account)Message-ID: <bjones.735320585@neptune>Date: Tue, 20 Apr 1993 15:43:05 GMTReferences: <1993Apr20.140647.6274@icd.ab.com>Nntp-Posting-Host: neptune.convex.comOrganization: Engineering, CONVEX Computer Corp., Richardson, Tx., USAX-Disclaimer: This message was written by a user at CONVEX Computer              Corp. The opinions expressed are those of the user and              not necessarily those of CONVEX.Lines: 8kdw@icd.ab.com (Kenneth D. Whitehead) writes:>the dismissal or resignation of Lloyd Bensen, Secretary of the Treasury,In case you haven't sent it yet, it's \"Bentsen\", not \"Bensen\".Brad\n",
      " - \n",
      " -- Closest to medoid doc: f56bf5f1d648a27681d108e955b87b67436a6788\n",
      "Newsgroups: sci.spacePath: cantaloupe.srv.cs.cmu.edu!das-news.harvard.edu!noc.near.net!howland.reston.ans.net!zaphod.mps.ohio-state.edu!cs.utexas.edu!convex!schumachFrom: schumach@convex.com (Richard A. Schumacher)Subject: Re: Gamma Ray Bursters. WHere are they.Message-ID: <schumach.736269361@convex.convex.com>Sender: usenet@convex.com (news access account)Nntp-Posting-Host: starman.convex.comOrganization: CONVEX Computer Corporation, Richardson, Tx., USAReferences: <1radsr$att@access.digex.net> <STEINLY.93Apr25180118@topaz.ucsc.edu> <29601@galaxy.ucr.edu> <1rlrpv$5ta@access.digex.net> <1993Apr30.144341.11546@sed.stel.com>Date: Sat, 1 May 1993 15:16:01 GMTX-Disclaimer: This message was written by a user at CONVEX Computer              Corp. The opinions expressed are those of the user and              not necessarily those of CONVEX.Lines: 3You should have been following the discussion of GRBsgoing on in sci.astro. It's been discussed in some detail,with references even.\n",
      " -- \n",
      " --- Second closest to medoid doc: fe78d300d9cb4862d589786bf6650369b1aa086b\n",
      "Newsgroups: sci.spacePath: cantaloupe.srv.cs.cmu.edu!crabapple.srv.cs.cmu.edu!fs7.ece.cmu.edu!europa.eng.gtefsd.com!gatech!usenet.ins.cwru.edu!howland.reston.ans.net!zaphod.mps.ohio-state.edu!darwin.sura.net!convex!schumachFrom: schumach@convex.com (Richard A. Schumacher)Subject: Re: space news from Feb 1 AW&STMessage-ID: <schumach.735001829@convex.convex.com>Sender: usenet@convex.com (news access account)Nntp-Posting-Host: starman.convex.comOrganization: CONVEX Computer Corporation, Richardson, Tx., USAReferences: <C5K81D.34w@zoo.toronto.edu>Date: Fri, 16 Apr 1993 23:10:29 GMTX-Disclaimer: This message was written by a user at CONVEX Computer              Corp. The opinions expressed are those of the user and              not necessarily those of CONVEX.Lines: 10>Marshall is investigating a small but odd pressure rise in one SRB>during the Jan 12 Endeavour launch.  It lasted only three seconds and>the thrust difference between the two SRBs was not enough to cause>nozzle gimballing.  The SRB casing shows no abnormalities.Is this the one that had the {wrench|pliers} found inside afterrecovery?\n",
      " --- \n"
     ]
    }
   ],
   "source": [
    "# Let's check three sample groups, their medoid documents, and two other closer documents.\n",
    "for i in [32, 64, 96]:\n",
    "    print('Group: %d' % i)\n",
    "    center = chosen_model.cluster_centers_[i]\n",
    "    group_points = data[chosen_model_labels == i]\n",
    "    group_doc_ids = ids[chosen_model_labels == i]\n",
    "\n",
    "    # Let's find the medoid and their closest points\n",
    "    distancesMatrix = pairwise_distances(group_points, metric='euclidean')\n",
    "    closest_to_medoid_indexes = np.argsort(distancesMatrix.sum(axis=0))\n",
    "    medoid_index = closest_to_medoid_indexes[0]\n",
    "\n",
    "    print(' - Medoid doc: {}'.format(group_doc_ids[medoid_index]))\n",
    "    print(loadDocument(group_doc_ids[medoid_index]))\n",
    "    print(' - ')\n",
    "    print(' -- Closest to medoid doc: {}'.format(group_doc_ids[closest_to_medoid_indexes[1]]))\n",
    "    print(loadDocument(group_doc_ids[closest_to_medoid_indexes[1]]))\n",
    "    print(' -- ')\n",
    "    print(' --- Second closest to medoid doc: {}'.format(group_doc_ids[closest_to_medoid_indexes[2]]))\n",
    "    print(loadDocument(group_doc_ids[closest_to_medoid_indexes[2]]))\n",
    "    print(' --- ')"
   ]
  },
  {
   "cell_type": "code",
   "execution_count": null,
   "metadata": {
    "collapsed": true
   },
   "outputs": [],
   "source": []
  }
 ],
 "metadata": {
  "kernelspec": {
   "display_name": "Python 2",
   "language": "python",
   "name": "python2"
  },
  "language_info": {
   "codemirror_mode": {
    "name": "ipython",
    "version": 2
   },
   "file_extension": ".py",
   "mimetype": "text/x-python",
   "name": "python",
   "nbconvert_exporter": "python",
   "pygments_lexer": "ipython2",
   "version": "2.7.10"
  }
 },
 "nbformat": 4,
 "nbformat_minor": 2
}
