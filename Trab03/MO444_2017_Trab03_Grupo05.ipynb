{
 "cells": [
  {
   "cell_type": "code",
   "execution_count": 1,
   "metadata": {
    "collapsed": true
   },
   "outputs": [],
   "source": [
    "# MO444-A 2s/2017 - Third assignment\n",
    "#\n",
    "#         Group 05\n",
    "#\n",
    "# - Anderson Rossanez (124136)\n",
    "# - Bruno Branta Lopes (31470)\n",
    "#\n",
    "\n",
    "import matplotlib.pyplot as plt\n",
    "import numpy as np\n",
    "import pandas as pd\n",
    "from datetime import datetime\n",
    "from sklearn.cluster import MiniBatchKMeans\n",
    "from sklearn.metrics import pairwise_distances\n",
    "from sklearn.metrics import silhouette_score\n",
    "from sklearn.preprocessing import Normalizer\n",
    "from sklearn.preprocessing import scale\n",
    "\n",
    "def loadIDs():\n",
    "    lines=[]\n",
    "    with open('documents/ids', \"r\") as f:\n",
    "        lines = f.read().splitlines()\n",
    "    return np.asarray(lines)\n",
    "\n",
    "def loadFeatures():\n",
    "    features = pd.read_csv('documents/data.csv', sep=',', header=None)\n",
    "    return features.values\n",
    "\n",
    "def loadDocument(docID):\n",
    "    data = None\n",
    "    with open('documents/docs/' + docID, 'r') as docfile:\n",
    "        data = docfile.read().replace('\\n', '')\n",
    "    return data\n",
    "    "
   ]
  },
  {
   "cell_type": "code",
   "execution_count": 2,
   "metadata": {},
   "outputs": [
    {
     "name": "stdout",
     "output_type": "stream",
     "text": [
      "IDs shape: (19924,)\n",
      "Data shape: (19924, 2209)\n"
     ]
    }
   ],
   "source": [
    "ids = loadIDs()\n",
    "print('IDs shape: {}'.format(ids.shape))\n",
    "\n",
    "data = loadFeatures()\n",
    "print('Data shape: {}'.format(data.shape))"
   ]
  },
  {
   "cell_type": "code",
   "execution_count": 3,
   "metadata": {},
   "outputs": [
    {
     "name": "stdout",
     "output_type": "stream",
     "text": [
      "['832e15531654188fa0b951faa5f68540dfb1ca5a'\n",
      " 'aa5163928a6edfd3bf69fd11fe763aacecf4602d'\n",
      " 'e886703afff0c70d6598bcae0c2d69a5a237807f'\n",
      " 'c1ea507b177b2e1673ce7a576057f91b75ae9d29'\n",
      " 'bbf73405c85d22702fafc1c0916e8f713810ff8d']\n"
     ]
    }
   ],
   "source": [
    "# Let's look at the 5 first instances of the IDs\n",
    "print(ids[0:5])"
   ]
  },
  {
   "cell_type": "code",
   "execution_count": 4,
   "metadata": {},
   "outputs": [
    {
     "data": {
      "text/html": [
       "<div>\n",
       "<style>\n",
       "    .dataframe thead tr:only-child th {\n",
       "        text-align: right;\n",
       "    }\n",
       "\n",
       "    .dataframe thead th {\n",
       "        text-align: left;\n",
       "    }\n",
       "\n",
       "    .dataframe tbody tr th {\n",
       "        vertical-align: top;\n",
       "    }\n",
       "</style>\n",
       "<table border=\"1\" class=\"dataframe\">\n",
       "  <thead>\n",
       "    <tr style=\"text-align: right;\">\n",
       "      <th></th>\n",
       "      <th>0</th>\n",
       "      <th>1</th>\n",
       "      <th>2</th>\n",
       "      <th>3</th>\n",
       "      <th>4</th>\n",
       "      <th>5</th>\n",
       "      <th>6</th>\n",
       "      <th>7</th>\n",
       "      <th>8</th>\n",
       "      <th>9</th>\n",
       "      <th>...</th>\n",
       "      <th>2199</th>\n",
       "      <th>2200</th>\n",
       "      <th>2201</th>\n",
       "      <th>2202</th>\n",
       "      <th>2203</th>\n",
       "      <th>2204</th>\n",
       "      <th>2205</th>\n",
       "      <th>2206</th>\n",
       "      <th>2207</th>\n",
       "      <th>2208</th>\n",
       "    </tr>\n",
       "  </thead>\n",
       "  <tbody>\n",
       "    <tr>\n",
       "      <th>0</th>\n",
       "      <td>0.077257</td>\n",
       "      <td>0.0</td>\n",
       "      <td>0.0</td>\n",
       "      <td>0.0</td>\n",
       "      <td>0.000000</td>\n",
       "      <td>0.000000</td>\n",
       "      <td>0.0</td>\n",
       "      <td>0.0</td>\n",
       "      <td>0.0</td>\n",
       "      <td>0.0</td>\n",
       "      <td>...</td>\n",
       "      <td>0.000000</td>\n",
       "      <td>0.0</td>\n",
       "      <td>0.000000</td>\n",
       "      <td>0.0</td>\n",
       "      <td>0.0</td>\n",
       "      <td>0.0</td>\n",
       "      <td>0.0</td>\n",
       "      <td>0.000000</td>\n",
       "      <td>0.0</td>\n",
       "      <td>0.0</td>\n",
       "    </tr>\n",
       "    <tr>\n",
       "      <th>1</th>\n",
       "      <td>0.000000</td>\n",
       "      <td>0.0</td>\n",
       "      <td>0.0</td>\n",
       "      <td>0.0</td>\n",
       "      <td>0.000000</td>\n",
       "      <td>0.000000</td>\n",
       "      <td>0.0</td>\n",
       "      <td>0.0</td>\n",
       "      <td>0.0</td>\n",
       "      <td>0.0</td>\n",
       "      <td>...</td>\n",
       "      <td>0.000000</td>\n",
       "      <td>0.0</td>\n",
       "      <td>0.000000</td>\n",
       "      <td>0.0</td>\n",
       "      <td>0.0</td>\n",
       "      <td>0.0</td>\n",
       "      <td>0.0</td>\n",
       "      <td>0.055755</td>\n",
       "      <td>0.0</td>\n",
       "      <td>0.0</td>\n",
       "    </tr>\n",
       "    <tr>\n",
       "      <th>2</th>\n",
       "      <td>0.042250</td>\n",
       "      <td>0.0</td>\n",
       "      <td>0.0</td>\n",
       "      <td>0.0</td>\n",
       "      <td>0.000000</td>\n",
       "      <td>0.000000</td>\n",
       "      <td>0.0</td>\n",
       "      <td>0.0</td>\n",
       "      <td>0.0</td>\n",
       "      <td>0.0</td>\n",
       "      <td>...</td>\n",
       "      <td>0.093693</td>\n",
       "      <td>0.0</td>\n",
       "      <td>0.099296</td>\n",
       "      <td>0.0</td>\n",
       "      <td>0.0</td>\n",
       "      <td>0.0</td>\n",
       "      <td>0.0</td>\n",
       "      <td>0.000000</td>\n",
       "      <td>0.0</td>\n",
       "      <td>0.0</td>\n",
       "    </tr>\n",
       "    <tr>\n",
       "      <th>3</th>\n",
       "      <td>0.000000</td>\n",
       "      <td>0.0</td>\n",
       "      <td>0.0</td>\n",
       "      <td>0.0</td>\n",
       "      <td>0.069105</td>\n",
       "      <td>0.000000</td>\n",
       "      <td>0.0</td>\n",
       "      <td>0.0</td>\n",
       "      <td>0.0</td>\n",
       "      <td>0.0</td>\n",
       "      <td>...</td>\n",
       "      <td>0.000000</td>\n",
       "      <td>0.0</td>\n",
       "      <td>0.000000</td>\n",
       "      <td>0.0</td>\n",
       "      <td>0.0</td>\n",
       "      <td>0.0</td>\n",
       "      <td>0.0</td>\n",
       "      <td>0.036811</td>\n",
       "      <td>0.0</td>\n",
       "      <td>0.0</td>\n",
       "    </tr>\n",
       "    <tr>\n",
       "      <th>4</th>\n",
       "      <td>0.000000</td>\n",
       "      <td>0.0</td>\n",
       "      <td>0.0</td>\n",
       "      <td>0.0</td>\n",
       "      <td>0.000000</td>\n",
       "      <td>0.041917</td>\n",
       "      <td>0.0</td>\n",
       "      <td>0.0</td>\n",
       "      <td>0.0</td>\n",
       "      <td>0.0</td>\n",
       "      <td>...</td>\n",
       "      <td>0.000000</td>\n",
       "      <td>0.0</td>\n",
       "      <td>0.000000</td>\n",
       "      <td>0.0</td>\n",
       "      <td>0.0</td>\n",
       "      <td>0.0</td>\n",
       "      <td>0.0</td>\n",
       "      <td>0.000000</td>\n",
       "      <td>0.0</td>\n",
       "      <td>0.0</td>\n",
       "    </tr>\n",
       "  </tbody>\n",
       "</table>\n",
       "<p>5 rows × 2209 columns</p>\n",
       "</div>"
      ],
      "text/plain": [
       "       0     1     2     3         4         5     6     7     8     9     \\\n",
       "0  0.077257   0.0   0.0   0.0  0.000000  0.000000   0.0   0.0   0.0   0.0   \n",
       "1  0.000000   0.0   0.0   0.0  0.000000  0.000000   0.0   0.0   0.0   0.0   \n",
       "2  0.042250   0.0   0.0   0.0  0.000000  0.000000   0.0   0.0   0.0   0.0   \n",
       "3  0.000000   0.0   0.0   0.0  0.069105  0.000000   0.0   0.0   0.0   0.0   \n",
       "4  0.000000   0.0   0.0   0.0  0.000000  0.041917   0.0   0.0   0.0   0.0   \n",
       "\n",
       "   ...       2199  2200      2201  2202  2203  2204  2205      2206  2207  \\\n",
       "0  ...   0.000000   0.0  0.000000   0.0   0.0   0.0   0.0  0.000000   0.0   \n",
       "1  ...   0.000000   0.0  0.000000   0.0   0.0   0.0   0.0  0.055755   0.0   \n",
       "2  ...   0.093693   0.0  0.099296   0.0   0.0   0.0   0.0  0.000000   0.0   \n",
       "3  ...   0.000000   0.0  0.000000   0.0   0.0   0.0   0.0  0.036811   0.0   \n",
       "4  ...   0.000000   0.0  0.000000   0.0   0.0   0.0   0.0  0.000000   0.0   \n",
       "\n",
       "   2208  \n",
       "0   0.0  \n",
       "1   0.0  \n",
       "2   0.0  \n",
       "3   0.0  \n",
       "4   0.0  \n",
       "\n",
       "[5 rows x 2209 columns]"
      ]
     },
     "execution_count": 4,
     "metadata": {},
     "output_type": "execute_result"
    }
   ],
   "source": [
    "# Now, let's have a look at the 5 first instances of the data (bag-of-words feature vectors)\n",
    "data_frame = pd.DataFrame(data)\n",
    "data_frame.head(5)"
   ]
  },
  {
   "cell_type": "code",
   "execution_count": 5,
   "metadata": {},
   "outputs": [
    {
     "name": "stdout",
     "output_type": "stream",
     "text": [
      "Min. value: 0.0\n",
      "Max. value: 0.999901\n"
     ]
    }
   ],
   "source": [
    "# Checking the value ranges\n",
    "print('Min. value: {}'.format(np.min(data.flatten())))\n",
    "print('Max. value: {}'.format(np.max(data.flatten())))\n",
    "\n",
    "# Let's scale and normalize the data\n",
    "data = scale(data)\n",
    "\n",
    "normalizer = Normalizer()\n",
    "normalizer = normalizer.fit(data)\n",
    "\n",
    "data = normalizer.transform(data)"
   ]
  },
  {
   "cell_type": "code",
   "execution_count": 6,
   "metadata": {},
   "outputs": [
    {
     "name": "stdout",
     "output_type": "stream",
     "text": [
      "Elapsed time: 0:05:40.168869\n"
     ]
    }
   ],
   "source": [
    "# Attempting Mini-Batch K means with some different number of centroids.\n",
    "num_centroids = xrange(2, 100)\n",
    "kmeans = [MiniBatchKMeans(n_clusters=i, init='k-means++', batch_size=1000, random_state=1) for i in num_centroids]\n",
    "\n",
    "start_time = datetime.now()\n",
    "costs, labels = [], []\n",
    "for i in range(len(kmeans)):\n",
    "    labels.append(kmeans[i].fit_predict(data))\n",
    "    costs.append(kmeans[i].inertia_)\n",
    "\n",
    "print('Elapsed time: {}'.format(datetime.now() - start_time))"
   ]
  },
  {
   "cell_type": "code",
   "execution_count": 7,
   "metadata": {},
   "outputs": [
    {
     "data": {
      "image/png": "[encoded data removed]",
      "text/plain": [
       "<matplotlib.figure.Figure at 0x1036ab590>"
      ]
     },
     "metadata": {},
     "output_type": "display_data"
    }
   ],
   "source": [
    "# Plot an elbow curve.\n",
    "plt.plot(num_centroids, costs, color='blue')\n",
    "plt.xlabel('centroids')\n",
    "plt.ylabel('cost')\n",
    "plt.show()"
   ]
  },
  {
   "cell_type": "code",
   "execution_count": 8,
   "metadata": {},
   "outputs": [
    {
     "name": "stdout",
     "output_type": "stream",
     "text": [
      "centroids: 95, silhouette average: 0.022405\n",
      "centroids: 96, silhouette average: 0.022595\n",
      "centroids: 97, silhouette average: 0.021322\n",
      "centroids: 98, silhouette average: 0.022454\n",
      "centroids: 99, silhouette average: 0.022056\n",
      "Elapsed time: 0:01:46.994121\n"
     ]
    }
   ],
   "source": [
    "# Check some silhouette scores.\n",
    "start_time = datetime.now()\n",
    "sil_avgs, sil_avgs_centroids = [], []\n",
    "for i in xrange(95, 100):\n",
    "    sil_avg = silhouette_score(data, labels[i-2])\n",
    "    print('centroids: %d, silhouette average: %f' % (kmeans[i-2].n_clusters, sil_avg))\n",
    "    sil_avgs.append(sil_avg)\n",
    "    sil_avgs_centroids.append(kmeans[i-2].n_clusters)\n",
    "\n",
    "print('Elapsed time: {}'.format(datetime.now() - start_time))"
   ]
  },
  {
   "cell_type": "code",
   "execution_count": 9,
   "metadata": {},
   "outputs": [
    {
     "data": {
      "image/png": "[encoded data removed]",
      "text/plain": [
       "<matplotlib.figure.Figure at 0x1036ab690>"
      ]
     },
     "metadata": {},
     "output_type": "display_data"
    }
   ],
   "source": [
    "# Plot the silhouette averages\n",
    "plt.plot(sil_avgs_centroids, sil_avgs, color='blue')\n",
    "plt.xlabel('centroids')\n",
    "plt.ylabel('silhouette averages')\n",
    "plt.show()"
   ]
  },
  {
   "cell_type": "code",
   "execution_count": 10,
   "metadata": {
    "collapsed": true
   },
   "outputs": [],
   "source": [
    "# Chosen number of centroids: 96\n",
    "chosen_model = kmeans[96-2]\n",
    "chosen_model_labels = labels[96-2]"
   ]
  },
  {
   "cell_type": "code",
   "execution_count": 11,
   "metadata": {},
   "outputs": [
    {
     "name": "stdout",
     "output_type": "stream",
     "text": [
      "Group: 24\n",
      " - Medoid doc: 3642a06bfe192d05b0c7314be16d3d8f9a7b9322\n",
      "Newsgroups: comp.sys.mac.hardwarePath: cantaloupe.srv.cs.cmu.edu!crabapple.srv.cs.cmu.edu!bb3.andrew.cmu.edu!news.sei.cmu.edu!cis.ohio-state.edu!zaphod.mps.ohio-state.edu!cs.utexas.edu!uunet!s5!is1.is.morgan.com!is0.is.morgan.com!gmichFrom: gmich@is.morgan.com (George Michaels)Subject: NTSC and thMessage-ID: <GMICH.93Apr19145538@idt114.is.morgan.com>Sender: news@is.morgan.comNntp-Posting-Host: idt114Organization: Morgan Stanley & CompanyDistribution: compDate: Mon, 19 Apr 1993 19:55:38 GMTLines: 0\n",
      " - \n",
      " -- Closest to medoid doc: 416b7e833bac2c603bdfb5b52dd067ced2778507\n",
      "Path: cantaloupe.srv.cs.cmu.edu!magnesium.club.cc.cmu.edu!news.sei.cmu.edu!cis.ohio-state.edu!pacific.mps.ohio-state.edu!zaphod.mps.ohio-state.edu!cs.utexas.edu!unisql!wratFrom: wrat@unisql.UUCP (wharfie)Newsgroups: rec.autosSubject: Re: Where can I get a New York taxi?Message-ID: <5277@unisql.UUCP>Date: 20 Apr 93 13:54:14 GMTReferences: <5266@unisql.UUCP> <C5r66A.6rB@srgenprp.sr.hp.com>Distribution: naOrganization: UniSQL, Inc., Austin, Texas, USALines: 7In article <C5r66A.6rB@srgenprp.sr.hp.com> almanb@sr.hp.com (Bob Alman) writes:>          \"hose\"  h-o-s-e\tDork.  d-o-r-k.\n",
      " -- \n",
      " --- Second closest to medoid doc: e21ae5fba0d991e7c063c30d25d74af057ef75ce\n",
      "Newsgroups: rec.autosPath: cantaloupe.srv.cs.cmu.edu!magnesium.club.cc.cmu.edu!news.sei.cmu.edu!cis.ohio-state.edu!zaphod.mps.ohio-state.edu!usc!cs.utexas.edu!hermes.chpc.utexas.edu!news.utdallas.edu!goyalFrom: goyal@utdallas.edu (MOHIT K GOYAL)Subject: Which radar detector should I buy?Message-ID: <C648L4.9n9@utdallas.edu>Sender: usenet@utdallas.eduNntp-Posting-Host: apache.utdallas.eduOrganization: Univ. of Texas at DallasDate: Tue, 27 Apr 1993 00:12:40 GMTLines: 8I just entered the market for a Radar Detector and am looking forany & all advice/recommendations/warnings/etc from anyone in this group.Email is preferred.Thanks.\n",
      " --- \n",
      "Group: 48\n",
      " - Medoid doc: bb2d9d7fd6dd4167b2b699f2d038339127647a5c\n",
      "Path: cantaloupe.srv.cs.cmu.edu!rochester!news.crd.ge.com!uunet!gatech!howland.reston.ans.net!usenet.ins.cwru.edu!po.CWRU.Edu!jdl6From: jdl6@po.CWRU.Edu (Justin D. Lowe)Newsgroups: rec.sport.baseballSubject: Re: And America's Team is....But Why?Date: 18 Apr 1993 22:21:33 GMTOrganization: Case Western Reserve University, Cleveland, OH (USA)Lines: 35Message-ID: <1qsk9d$dck@usenet.INS.CWRU.Edu>References: <kingoz.735066879@camelot> <C5p3yr.GH2@news.cso.uiuc.edu> <C5p6xq.GuI@me.utoronto.ca>Reply-To: jdl6@po.CWRU.Edu (Justin D. Lowe)NNTP-Posting-Host: slc8.ins.cwru.eduIn a previous article, steinman@me.utoronto.ca (David Steinman) says:>cka52397@uxa.cso.uiuc.edu (OrioleFan@uiuc) writes:>>>\tThe defenition of the Underdog is a team that has no talent and comes>>out of nowhere to contend.  The '69 Mets and '89 Orioles are prime examples,>>not the Cubs. >>Sorry, but it is *virtually* impossible to win a division with \"no talent\">over 162 games.>>I would amend your definition to:>>underdog:  a team expected to lose, but which wins thanks to underestimated>           talent.>-->Dave!>OK, the Mets and O's are good examples, but what about the '90 Reds?  Do youreally think that anyone expected them to sweep the A's?  I know people whodidn't even think they'd win a game, let alone win the Series.  We proved them wrong, though, didn't we?As for this year, ignore their record now.  They've had a rocky start, andthat has nothing to do with Colorado.  They shall rise again.  The hunt fora Reds' October continues. (with all due respect to WLW)  Bye.--              MICHELSON- - - - -1993 SPRING OLYMPICS CHAMPIONSRoad Rally, 5-legged Race, Rope Pull, Snarf, Penny Wars, Banner, Spirit Cheer.                    The Michelson Menace rides again!(Don't you just love that intense nationalistic feeling in a residence hall?)\n",
      " - \n",
      " -- Closest to medoid doc: 2901ac42c93c6f176f7b2997f0b1714d1c957ce0\n",
      "Newsgroups: rec.sport.baseballPath: cantaloupe.srv.cs.cmu.edu!das-news.harvard.edu!noc.near.net!howland.reston.ans.net!gatech!news.ans.net!cmcl2!panix!spiraFrom: spira@panix.com (Greg \"Sarcasm Is A Way Of Life\" Spira)Subject: Re: And America's Team is....But Why?Message-ID: <C5pHqv.85K@panix.com>Sender: spira@panix.com (Greg Spira)Organization: Boo!References: <kingoz.735066879@camelot> <C5p3yr.GH2@news.cso.uiuc.edu> <C5p6xq.GuI@me.utoronto.ca> <1qsk9d$dck@usenet.INS.CWRU.Edu>Date: Mon, 19 Apr 1993 01:06:30 GMTLines: 36In <1qsk9d$dck@usenet.INS.CWRU.Edu> jdl6@po.CWRU.Edu (Justin D. Lowe) writes:>In a previous article, steinman@me.utoronto.ca (David Steinman) says:>>cka52397@uxa.cso.uiuc.edu (OrioleFan@uiuc) writes:>>>>>\tThe defenition of the Underdog is a team that has no talent and comes>>>out of nowhere to contend.  The '69 Mets and '89 Orioles are prime examples,>>>not the Cubs. >>>>Sorry, but it is *virtually* impossible to win a division with \"no talent\">>over 162 games.>>>>I would amend your definition to:>>>>underdog:  a team expected to lose, but which wins thanks to underestimated>>           talent.>>-->>Dave!>>>OK, the Mets and O's are good examples, but what about the '90 Reds?  Do you>really think that anyone expected them to sweep the A's?  I know people who>didn't even think they'd win a game, let alone win the Series. These people were very silly.  Any team that gets to the World Seriescan win the World Series, and anybody who ever expects a sweep iscrazy.  If you put the best team in baseball in the Series againstthe worst team in baseball, the worst team would win at least a gamemost of the time and very well could win the Series, though the oddswould certainly be against them.Greg \n",
      " -- \n",
      " --- Second closest to medoid doc: f875540de89f5cef1d38438a0d3bab8182114bc9\n",
      "Newsgroups: rec.sport.baseballPath: cantaloupe.srv.cs.cmu.edu!rochester!news.bbn.com!usc!elroy.jpl.nasa.gov!swrinde!cs.utexas.edu!utnut!skule.ecf!drill.me!steinmanFrom: steinman@me.utoronto.ca (David Steinman)Subject: Re: And America's Team is....But Why?Message-ID: <C5p6xq.GuI@me.utoronto.ca>Sender: news@me.utoronto.ca (News Reader)Organization: UofT Mechanical EngineeringReferences: <kingoz.735066879@camelot> <C5p3yr.GH2@news.cso.uiuc.edu>Date: Sun, 18 Apr 1993 21:13:02 GMTLines: 15cka52397@uxa.cso.uiuc.edu (OrioleFan@uiuc) writes:>\tThe defenition of the Underdog is a team that has no talent and comes>out of nowhere to contend.  The '69 Mets and '89 Orioles are prime examples,>not the Cubs. Sorry, but it is *virtually* impossible to win a division with \"no talent\"over 162 games.I would amend your definition to:underdog:  a team expected to lose, but which wins thanks to underestimated           talent.--Dave!\n",
      " --- \n",
      "Group: 72\n",
      " - Medoid doc: c43a3ceac1aa615adc1af456d15e8b1596f68d20\n",
      "Xref: cantaloupe.srv.cs.cmu.edu talk.religion.misc:83826 talk.politics.guns:54497 soc.culture.jewish:63250Newsgroups: talk.religion.misc,talk.politics.guns,soc.culture.jewishPath: cantaloupe.srv.cs.cmu.edu!das-news.harvard.edu!noc.near.net!news.cs.brandeis.edu!ST922957@pip.cc.brandeis.eduFrom: st922957@pip.cc.brandeis.edu (Arnold Schwarzenweisengreenbluenbraunenburger)Subject: Re: Who's next?  Mormons and Jews?Message-ID: <1993Apr21.045548.17418@news.cs.brandeis.edu>Sender: news@news.cs.brandeis.edu (USENET News System)Reply-To: st922957@pip.cc.brandeis.eduOrganization: Brandeis UniversityReferences: <1qvfik$6rf@usenet.INS.CWRU.Edu> <C5rLnE.4pC@murdoch.acc.Virginia.EDU>,<1r1i41$4t@transfer.stratus.com>Date: Wed, 21 Apr 1993 04:55:48 GMTLines: 6Y'know, when the right to bear arms was \"invented\", all we had to worryabout was the shotgun and pistol. Now, we have to worry about drive-byswith Uzis sparaying the entire neighborhood with bullets.Just because someting was good once, does not mean it will be forever.\n",
      " - \n",
      " -- Closest to medoid doc: c43a3ceac1aa615adc1af456d15e8b1596f68d20\n",
      "Xref: cantaloupe.srv.cs.cmu.edu talk.religion.misc:83826 talk.politics.guns:54497 soc.culture.jewish:63250Newsgroups: talk.religion.misc,talk.politics.guns,soc.culture.jewishPath: cantaloupe.srv.cs.cmu.edu!das-news.harvard.edu!noc.near.net!news.cs.brandeis.edu!ST922957@pip.cc.brandeis.eduFrom: st922957@pip.cc.brandeis.edu (Arnold Schwarzenweisengreenbluenbraunenburger)Subject: Re: Who's next?  Mormons and Jews?Message-ID: <1993Apr21.045548.17418@news.cs.brandeis.edu>Sender: news@news.cs.brandeis.edu (USENET News System)Reply-To: st922957@pip.cc.brandeis.eduOrganization: Brandeis UniversityReferences: <1qvfik$6rf@usenet.INS.CWRU.Edu> <C5rLnE.4pC@murdoch.acc.Virginia.EDU>,<1r1i41$4t@transfer.stratus.com>Date: Wed, 21 Apr 1993 04:55:48 GMTLines: 6Y'know, when the right to bear arms was \"invented\", all we had to worryabout was the shotgun and pistol. Now, we have to worry about drive-byswith Uzis sparaying the entire neighborhood with bullets.Just because someting was good once, does not mean it will be forever.\n",
      " -- \n",
      " --- Second closest to medoid doc: 6e24a2229c45c8e162bae271fa4c687d4b6c874d\n",
      "Xref: cantaloupe.srv.cs.cmu.edu talk.religion.misc:84317 talk.politics.guns:55070 soc.culture.jewish:63671Path: cantaloupe.srv.cs.cmu.edu!crabapple.srv.cs.cmu.edu!bb3.andrew.cmu.edu!news.sei.cmu.edu!fs7.ece.cmu.edu!europa.eng.gtefsd.com!howland.reston.ans.net!zaphod.mps.ohio-state.edu!uwm.edu!caen!cmuvm.csv.cmich.edu!34aej7dDate: Thursday, 22 Apr 1993 12:37:44 EDTFrom: <34AEJ7D@CMUVM.BITNET>Message-ID: <93112.12374434AEJ7D@CMUVM.BITNET>Newsgroups: talk.religion.misc,talk.politics.guns,soc.culture.jewishSubject: Re: Who's next? Mormons and Jews?References: <1qvfik$6rf@usenet.INS.CWRU.Edu> <C5rLnE.4pC@murdoch.acc.Virginia.EDU>,<1r1i41$4t@transfer.stratus.com> <1993Apr21.045548.17418@news.cs.brandeis.edu>Lines: 12In article <1993Apr21.045548.17418@news.cs.brandeis.edu>,st922957@pip.cc.brandeis.edu (Arnold Schwarzenweisengreenbluenbraunenburger)says:>>Y'know, when the right to bear arms was \"invented\", all we had to worry>about was the shotgun and pistol. Now, we have to worry about drive-bys>with Uzis sparaying the entire neighborhood with bullets.>>Just because someting was good once, does not mean it will be forever.Quite so. All automobiles should be banned immediately.\n",
      " --- \n"
     ]
    }
   ],
   "source": [
    "# Let's check three sample groups, their medoid documents, and two other closer documents.\n",
    "for i in [24, 48, 72]:\n",
    "    print('Group: %d' % i)\n",
    "    center = chosen_model.cluster_centers_[i]\n",
    "    group_points = data[chosen_model_labels == i]\n",
    "    group_doc_ids = ids[chosen_model_labels == i]\n",
    "\n",
    "    # Let's find the medoid and their closest points\n",
    "    distancesMatrix = pairwise_distances(group_points, metric='euclidean')\n",
    "    closest_to_medoid_indexes = np.argsort(distancesMatrix.sum(axis=0))\n",
    "    medoid_index = closest_to_medoid_indexes[0]\n",
    "\n",
    "    print(' - Medoid doc: {}'.format(group_doc_ids[medoid_index]))\n",
    "    print(loadDocument(group_doc_ids[medoid_index]))\n",
    "    print(' - ')\n",
    "    print(' -- Closest to medoid doc: {}'.format(group_doc_ids[closest_to_medoid_indexes[1]]))\n",
    "    print(loadDocument(group_doc_ids[closest_to_medoid_indexes[1]]))\n",
    "    print(' -- ')\n",
    "    print(' --- Second closest to medoid doc: {}'.format(group_doc_ids[closest_to_medoid_indexes[2]]))\n",
    "    print(loadDocument(group_doc_ids[closest_to_medoid_indexes[2]]))\n",
    "    print(' --- ')"
   ]
  }
 ],
 "metadata": {
  "kernelspec": {
   "display_name": "Python 2",
   "language": "python",
   "name": "python2"
  },
  "language_info": {
   "codemirror_mode": {
    "name": "ipython",
    "version": 2
   },
   "file_extension": ".py",
   "mimetype": "text/x-python",
   "name": "python",
   "nbconvert_exporter": "python",
   "pygments_lexer": "ipython2",
   "version": "2.7.10"
  }
 },
 "nbformat": 4,
 "nbformat_minor": 2
}
