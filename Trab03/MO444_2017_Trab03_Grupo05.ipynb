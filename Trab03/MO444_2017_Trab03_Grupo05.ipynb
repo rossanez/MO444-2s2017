{
 "cells": [
  {
   "cell_type": "code",
   "execution_count": 2,
   "metadata": {
    "collapsed": true
   },
   "outputs": [],
   "source": [
    "# MO444-A 2s/2017 - Third assignment\n",
    "#\n",
    "#         Group 05\n",
    "#\n",
    "# - Anderson Rossanez (124136)\n",
    "# - Bruno Branta Lopes (31470)\n",
    "#\n",
    "\n",
    "import matplotlib.pyplot as plt\n",
    "import numpy as np\n",
    "import pandas as pd\n",
    "from datetime import datetime\n",
    "from sklearn.cluster import MiniBatchKMeans\n",
    "from sklearn.metrics import pairwise_distances\n",
    "from sklearn.metrics import silhouette_score\n",
    "from sklearn.preprocessing import Normalizer\n",
    "from sklearn.preprocessing import scale\n",
    "from sklearn.model_selection import KFold\n",
    "\n",
    "def loadIDs():\n",
    "    lines=[]\n",
    "    with open('documents/ids', \"r\") as f:\n",
    "        lines = f.read().splitlines()\n",
    "    return np.asarray(lines)\n",
    "\n",
    "def loadFeatures():\n",
    "    features = pd.read_csv('documents/data.csv', sep=',', header=None)\n",
    "    return features.values\n",
    "\n",
    "def loadDocument(docID):\n",
    "    data = None\n",
    "    with open('documents/docs/' + docID, 'r') as docfile:\n",
    "        data = docfile.read().replace('\\n', '')\n",
    "    return data\n",
    "\n",
    "def runKFoldClustering(model, data):\n",
    "    random_state = np.random.RandomState(1)\n",
    "    k5_fold = KFold(n_splits=5, shuffle=True, random_state=random_state)\n",
    "    costs, sil_avgs = [], []\n",
    "    for train_index, validation_index in k5_fold.split(data):\n",
    "        train_data, validation_data = data[train_index], data[validation_index]\n",
    "        model.fit(train_data)\n",
    "        labels = model.predict(validation_data)\n",
    "        costs.append(model.inertia_)\n",
    "        sil_avgs.append(silhouette_score(validation_data, labels))\n",
    "    return np.mean(costs), np.std(costs), np.mean(sil_avgs), np.std(sil_avgs)\n"
   ]
  },
  {
   "cell_type": "code",
   "execution_count": 3,
   "metadata": {
    "collapsed": false
   },
   "outputs": [
    {
     "name": "stdout",
     "output_type": "stream",
     "text": [
      "IDs shape: (19924,)\n",
      "Data shape: (19924, 2209)\n"
     ]
    }
   ],
   "source": [
    "ids = loadIDs()\n",
    "print('IDs shape: {}'.format(ids.shape))\n",
    "\n",
    "data = loadFeatures()\n",
    "print('Data shape: {}'.format(data.shape))"
   ]
  },
  {
   "cell_type": "code",
   "execution_count": 3,
   "metadata": {
    "collapsed": false
   },
   "outputs": [
    {
     "name": "stdout",
     "output_type": "stream",
     "text": [
      "['832e15531654188fa0b951faa5f68540dfb1ca5a'\n",
      " 'aa5163928a6edfd3bf69fd11fe763aacecf4602d'\n",
      " 'e886703afff0c70d6598bcae0c2d69a5a237807f'\n",
      " 'c1ea507b177b2e1673ce7a576057f91b75ae9d29'\n",
      " 'bbf73405c85d22702fafc1c0916e8f713810ff8d']\n"
     ]
    }
   ],
   "source": [
    "# Let's look at the 5 first instances of the IDs\n",
    "print(ids[0:5])"
   ]
  },
  {
   "cell_type": "code",
   "execution_count": 4,
   "metadata": {
    "collapsed": false
   },
   "outputs": [
    {
     "data": {
      "text/html": [
       "<div>\n",
       "<style>\n",
       "    .dataframe thead tr:only-child th {\n",
       "        text-align: right;\n",
       "    }\n",
       "\n",
       "    .dataframe thead th {\n",
       "        text-align: left;\n",
       "    }\n",
       "\n",
       "    .dataframe tbody tr th {\n",
       "        vertical-align: top;\n",
       "    }\n",
       "</style>\n",
       "<table border=\"1\" class=\"dataframe\">\n",
       "  <thead>\n",
       "    <tr style=\"text-align: right;\">\n",
       "      <th></th>\n",
       "      <th>0</th>\n",
       "      <th>1</th>\n",
       "      <th>2</th>\n",
       "      <th>3</th>\n",
       "      <th>4</th>\n",
       "      <th>5</th>\n",
       "      <th>6</th>\n",
       "      <th>7</th>\n",
       "      <th>8</th>\n",
       "      <th>9</th>\n",
       "      <th>...</th>\n",
       "      <th>2199</th>\n",
       "      <th>2200</th>\n",
       "      <th>2201</th>\n",
       "      <th>2202</th>\n",
       "      <th>2203</th>\n",
       "      <th>2204</th>\n",
       "      <th>2205</th>\n",
       "      <th>2206</th>\n",
       "      <th>2207</th>\n",
       "      <th>2208</th>\n",
       "    </tr>\n",
       "  </thead>\n",
       "  <tbody>\n",
       "    <tr>\n",
       "      <th>0</th>\n",
       "      <td>0.077257</td>\n",
       "      <td>0.0</td>\n",
       "      <td>0.0</td>\n",
       "      <td>0.0</td>\n",
       "      <td>0.000000</td>\n",
       "      <td>0.000000</td>\n",
       "      <td>0.0</td>\n",
       "      <td>0.0</td>\n",
       "      <td>0.0</td>\n",
       "      <td>0.0</td>\n",
       "      <td>...</td>\n",
       "      <td>0.000000</td>\n",
       "      <td>0.0</td>\n",
       "      <td>0.000000</td>\n",
       "      <td>0.0</td>\n",
       "      <td>0.0</td>\n",
       "      <td>0.0</td>\n",
       "      <td>0.0</td>\n",
       "      <td>0.000000</td>\n",
       "      <td>0.0</td>\n",
       "      <td>0.0</td>\n",
       "    </tr>\n",
       "    <tr>\n",
       "      <th>1</th>\n",
       "      <td>0.000000</td>\n",
       "      <td>0.0</td>\n",
       "      <td>0.0</td>\n",
       "      <td>0.0</td>\n",
       "      <td>0.000000</td>\n",
       "      <td>0.000000</td>\n",
       "      <td>0.0</td>\n",
       "      <td>0.0</td>\n",
       "      <td>0.0</td>\n",
       "      <td>0.0</td>\n",
       "      <td>...</td>\n",
       "      <td>0.000000</td>\n",
       "      <td>0.0</td>\n",
       "      <td>0.000000</td>\n",
       "      <td>0.0</td>\n",
       "      <td>0.0</td>\n",
       "      <td>0.0</td>\n",
       "      <td>0.0</td>\n",
       "      <td>0.055755</td>\n",
       "      <td>0.0</td>\n",
       "      <td>0.0</td>\n",
       "    </tr>\n",
       "    <tr>\n",
       "      <th>2</th>\n",
       "      <td>0.042250</td>\n",
       "      <td>0.0</td>\n",
       "      <td>0.0</td>\n",
       "      <td>0.0</td>\n",
       "      <td>0.000000</td>\n",
       "      <td>0.000000</td>\n",
       "      <td>0.0</td>\n",
       "      <td>0.0</td>\n",
       "      <td>0.0</td>\n",
       "      <td>0.0</td>\n",
       "      <td>...</td>\n",
       "      <td>0.093693</td>\n",
       "      <td>0.0</td>\n",
       "      <td>0.099296</td>\n",
       "      <td>0.0</td>\n",
       "      <td>0.0</td>\n",
       "      <td>0.0</td>\n",
       "      <td>0.0</td>\n",
       "      <td>0.000000</td>\n",
       "      <td>0.0</td>\n",
       "      <td>0.0</td>\n",
       "    </tr>\n",
       "    <tr>\n",
       "      <th>3</th>\n",
       "      <td>0.000000</td>\n",
       "      <td>0.0</td>\n",
       "      <td>0.0</td>\n",
       "      <td>0.0</td>\n",
       "      <td>0.069105</td>\n",
       "      <td>0.000000</td>\n",
       "      <td>0.0</td>\n",
       "      <td>0.0</td>\n",
       "      <td>0.0</td>\n",
       "      <td>0.0</td>\n",
       "      <td>...</td>\n",
       "      <td>0.000000</td>\n",
       "      <td>0.0</td>\n",
       "      <td>0.000000</td>\n",
       "      <td>0.0</td>\n",
       "      <td>0.0</td>\n",
       "      <td>0.0</td>\n",
       "      <td>0.0</td>\n",
       "      <td>0.036811</td>\n",
       "      <td>0.0</td>\n",
       "      <td>0.0</td>\n",
       "    </tr>\n",
       "    <tr>\n",
       "      <th>4</th>\n",
       "      <td>0.000000</td>\n",
       "      <td>0.0</td>\n",
       "      <td>0.0</td>\n",
       "      <td>0.0</td>\n",
       "      <td>0.000000</td>\n",
       "      <td>0.041917</td>\n",
       "      <td>0.0</td>\n",
       "      <td>0.0</td>\n",
       "      <td>0.0</td>\n",
       "      <td>0.0</td>\n",
       "      <td>...</td>\n",
       "      <td>0.000000</td>\n",
       "      <td>0.0</td>\n",
       "      <td>0.000000</td>\n",
       "      <td>0.0</td>\n",
       "      <td>0.0</td>\n",
       "      <td>0.0</td>\n",
       "      <td>0.0</td>\n",
       "      <td>0.000000</td>\n",
       "      <td>0.0</td>\n",
       "      <td>0.0</td>\n",
       "    </tr>\n",
       "  </tbody>\n",
       "</table>\n",
       "<p>5 rows × 2209 columns</p>\n",
       "</div>"
      ],
      "text/plain": [
       "       0     1     2     3         4         5     6     7     8     9     \\\n",
       "0  0.077257   0.0   0.0   0.0  0.000000  0.000000   0.0   0.0   0.0   0.0   \n",
       "1  0.000000   0.0   0.0   0.0  0.000000  0.000000   0.0   0.0   0.0   0.0   \n",
       "2  0.042250   0.0   0.0   0.0  0.000000  0.000000   0.0   0.0   0.0   0.0   \n",
       "3  0.000000   0.0   0.0   0.0  0.069105  0.000000   0.0   0.0   0.0   0.0   \n",
       "4  0.000000   0.0   0.0   0.0  0.000000  0.041917   0.0   0.0   0.0   0.0   \n",
       "\n",
       "   ...       2199  2200      2201  2202  2203  2204  2205      2206  2207  \\\n",
       "0  ...   0.000000   0.0  0.000000   0.0   0.0   0.0   0.0  0.000000   0.0   \n",
       "1  ...   0.000000   0.0  0.000000   0.0   0.0   0.0   0.0  0.055755   0.0   \n",
       "2  ...   0.093693   0.0  0.099296   0.0   0.0   0.0   0.0  0.000000   0.0   \n",
       "3  ...   0.000000   0.0  0.000000   0.0   0.0   0.0   0.0  0.036811   0.0   \n",
       "4  ...   0.000000   0.0  0.000000   0.0   0.0   0.0   0.0  0.000000   0.0   \n",
       "\n",
       "   2208  \n",
       "0   0.0  \n",
       "1   0.0  \n",
       "2   0.0  \n",
       "3   0.0  \n",
       "4   0.0  \n",
       "\n",
       "[5 rows x 2209 columns]"
      ]
     },
     "execution_count": 4,
     "metadata": {},
     "output_type": "execute_result"
    }
   ],
   "source": [
    "# Now, let's have a look at the 5 first instances of the data (bag-of-words feature vectors)\n",
    "data_frame = pd.DataFrame(data)\n",
    "data_frame.head(5)"
   ]
  },
  {
   "cell_type": "code",
   "execution_count": 40,
   "metadata": {
    "collapsed": false
   },
   "outputs": [
    {
     "name": "stdout",
     "output_type": "stream",
     "text": [
      "Min. value: 0.0\n",
      "Max. value: 0.999901\n"
     ]
    }
   ],
   "source": [
    "# Checking the value ranges\n",
    "print('Min. value: {}'.format(np.min(data.flatten())))\n",
    "print('Max. value: {}'.format(np.max(data.flatten())))\n",
    "\n",
    "# Let's scale and normalize the data\n",
    "data = scale(data)\n",
    "\n",
    "normalizer = Normalizer()\n",
    "normalizer = normalizer.fit(data)\n",
    "\n",
    "data = normalizer.transform(data)"
   ]
  },
  {
   "cell_type": "code",
   "execution_count": 41,
   "metadata": {
    "collapsed": false
   },
   "outputs": [
    {
     "name": "stdout",
     "output_type": "stream",
     "text": [
      "2 clusters: Cost 15839.92 ± 0.76 ; Silhouette avg 0.00618 ±0.00013\n",
      "4 clusters: Cost 15756.58 ± 5.40 ; Silhouette avg 0.00483 ±0.00026\n",
      "8 clusters: Cost 15602.82 ±14.17 ; Silhouette avg 0.00658 ±0.00040\n",
      "16 clusters: Cost 15409.90 ±11.12 ; Silhouette avg 0.00973 ±0.00067\n",
      "32 clusters: Cost 15100.33 ±24.79 ; Silhouette avg 0.01374 ±0.00098\n",
      "64 clusters: Cost 14667.04 ±12.01 ; Silhouette avg 0.01799 ±0.00112\n",
      "128 clusters: Cost 14210.46 ±20.63 ; Silhouette avg 0.01795 ±0.00060\n",
      "256 clusters: Cost 13816.03 ±42.99 ; Silhouette avg 0.01376 ±0.00115\n",
      "512 clusters: Cost 13738.17 ±150.86 ; Silhouette avg -0.00415 ±0.00405\n"
     ]
    }
   ],
   "source": [
    "# Attempting Mini-Batch K means with some different number of centroids.\n",
    "kmeans, costs, costs_sd, sil_avgs, sil_avgs_sd = [], [], [], [], []\n",
    "num_centroids = [2, 4, 8, 16, 32, 64, 128, 256, 512]\n",
    "for i in num_centroids:\n",
    "    model = MiniBatchKMeans(n_clusters=i, init='k-means++', batch_size=1000, random_state=1)\n",
    "    cost_mean, cost_sd, sil_avg, sil_avg_sd = runKFoldClustering(model, data)\n",
    "    kmeans.append(model)\n",
    "    costs.append(cost_mean)\n",
    "    costs_sd.append(cost_sd)\n",
    "    sil_avgs.append(sil_avg)\n",
    "    sil_avgs_sd.append(sil_avg_sd)\n",
    "    print('%d clusters: Cost %5.2f ±%5.2f ; Silhouette avg %5.5f ±%5.5f' % (i, cost_mean, cost_sd, sil_avg, sil_avg_sd))"
   ]
  },
  {
   "cell_type": "code",
   "execution_count": 51,
   "metadata": {
    "collapsed": false
   },
   "outputs": [
    {
     "data": {
      "image/png": "[encoded data removed]",
      "text/plain": [
       "<matplotlib.figure.Figure at 0x7f9fd6245dd0>"
      ]
     },
     "metadata": {},
     "output_type": "display_data"
    }
   ],
   "source": [
    "fig, ax1 = plt.subplots()\n",
    "\n",
    "# Plot costs curve\n",
    "ax1.set_xlabel('centroids')\n",
    "ax1.errorbar(num_centroids, costs, costs_sd, \n",
    "             fmt='-o', ecolor='b', capthick=1, capsize=3, color='b')\n",
    "ax1.set_ylabel('cost', color='b')\n",
    "ax1.tick_params('y', colors='b')\n",
    "\n",
    "# Plot the silhouette averages\n",
    "ax2 = ax1.twinx()\n",
    "ax2.errorbar(num_centroids, sil_avgs, sil_avgs_sd, \n",
    "             fmt='-o', ecolor='g', capthick=1, capsize=3, color='g')\n",
    "ax2.set_ylabel('silhouettes', color='g')\n",
    "ax2.tick_params('y', colors='g')\n",
    "\n",
    "fig.tight_layout()\n",
    "plt.show()"
   ]
  },
  {
   "cell_type": "code",
   "execution_count": 8,
   "metadata": {
    "collapsed": true
   },
   "outputs": [],
   "source": [
    "# Chosen number of centroids: 64\n",
    "chosen_model = kmeans[5]\n",
    "chosen_model_labels = chosen_model.predict(data)"
   ]
  },
  {
   "cell_type": "code",
   "execution_count": 9,
   "metadata": {
    "collapsed": false
   },
   "outputs": [
    {
     "name": "stdout",
     "output_type": "stream",
     "text": [
      "Group: 26\n",
      " - Medoid doc: aad5914b9868c167169550405fdcd99f786035ed\n",
      "Newsgroups: talk.politics.gunsPath: cantaloupe.srv.cs.cmu.edu!magnesium.club.cc.cmu.edu!news.sei.cmu.edu!fs7.ece.cmu.edu!europa.eng.gtefsd.com!howland.reston.ans.net!usc!cs.utexas.edu!convex!convex!bjonesFrom: bjones@convex.com (Brad Jones)Subject: Re: Letter to the PresidentSender: usenet@news.eng.convex.com (news access account)Message-ID: <bjones.735320585@neptune>Date: Tue, 20 Apr 1993 15:43:05 GMTReferences: <1993Apr20.140647.6274@icd.ab.com>Nntp-Posting-Host: neptune.convex.comOrganization: Engineering, CONVEX Computer Corp., Richardson, Tx., USAX-Disclaimer: This message was written by a user at CONVEX Computer              Corp. The opinions expressed are those of the user and              not necessarily those of CONVEX.Lines: 8kdw@icd.ab.com (Kenneth D. Whitehead) writes:>the dismissal or resignation of Lloyd Bensen, Secretary of the Treasury,In case you haven't sent it yet, it's \"Bentsen\", not \"Bensen\".Brad\n",
      " - \n",
      " -- Closest to medoid doc: fe78d300d9cb4862d589786bf6650369b1aa086b\n",
      "Newsgroups: sci.spacePath: cantaloupe.srv.cs.cmu.edu!crabapple.srv.cs.cmu.edu!fs7.ece.cmu.edu!europa.eng.gtefsd.com!gatech!usenet.ins.cwru.edu!howland.reston.ans.net!zaphod.mps.ohio-state.edu!darwin.sura.net!convex!schumachFrom: schumach@convex.com (Richard A. Schumacher)Subject: Re: space news from Feb 1 AW&STMessage-ID: <schumach.735001829@convex.convex.com>Sender: usenet@convex.com (news access account)Nntp-Posting-Host: starman.convex.comOrganization: CONVEX Computer Corporation, Richardson, Tx., USAReferences: <C5K81D.34w@zoo.toronto.edu>Date: Fri, 16 Apr 1993 23:10:29 GMTX-Disclaimer: This message was written by a user at CONVEX Computer              Corp. The opinions expressed are those of the user and              not necessarily those of CONVEX.Lines: 10>Marshall is investigating a small but odd pressure rise in one SRB>during the Jan 12 Endeavour launch.  It lasted only three seconds and>the thrust difference between the two SRBs was not enough to cause>nozzle gimballing.  The SRB casing shows no abnormalities.Is this the one that had the {wrench|pliers} found inside afterrecovery?\n",
      " -- \n",
      " --- Second closest to medoid doc: f56bf5f1d648a27681d108e955b87b67436a6788\n",
      "Newsgroups: sci.spacePath: cantaloupe.srv.cs.cmu.edu!das-news.harvard.edu!noc.near.net!howland.reston.ans.net!zaphod.mps.ohio-state.edu!cs.utexas.edu!convex!schumachFrom: schumach@convex.com (Richard A. Schumacher)Subject: Re: Gamma Ray Bursters. WHere are they.Message-ID: <schumach.736269361@convex.convex.com>Sender: usenet@convex.com (news access account)Nntp-Posting-Host: starman.convex.comOrganization: CONVEX Computer Corporation, Richardson, Tx., USAReferences: <1radsr$att@access.digex.net> <STEINLY.93Apr25180118@topaz.ucsc.edu> <29601@galaxy.ucr.edu> <1rlrpv$5ta@access.digex.net> <1993Apr30.144341.11546@sed.stel.com>Date: Sat, 1 May 1993 15:16:01 GMTX-Disclaimer: This message was written by a user at CONVEX Computer              Corp. The opinions expressed are those of the user and              not necessarily those of CONVEX.Lines: 3You should have been following the discussion of GRBsgoing on in sci.astro. It's been discussed in some detail,with references even.\n",
      " --- \n",
      "Group: 32\n",
      " - Medoid doc: 897a16b061083550da83f71a2467e470e6c1f6f5\n",
      "Path: cantaloupe.srv.cs.cmu.edu!das-news.harvard.edu!noc.near.net!howland.reston.ans.net!zaphod.mps.ohio-state.edu!cs.utexas.edu!uunet!digex.com!lynx.unm.edu!dns1.NMSU.Edu!dns1.NMSU.Edu!usenetFrom: mcole@spock (COLE)Newsgroups: sci.electronicsSubject: microsteppingDate: 23 Apr 1993 15:10:22 GMTOrganization: New Mexico State UniversityLines: 3Message-ID: <1r90suINNq3m@dns1.NMSU.Edu>NNTP-Posting-Host: spock.nmsu.eduDoes anyone know where to get a schematic for a micro stepping circuit?Any help would be appreciated.mcole@nmsu.edu\n",
      " - \n",
      " -- Closest to medoid doc: 3642a06bfe192d05b0c7314be16d3d8f9a7b9322\n",
      "Newsgroups: comp.sys.mac.hardwarePath: cantaloupe.srv.cs.cmu.edu!crabapple.srv.cs.cmu.edu!bb3.andrew.cmu.edu!news.sei.cmu.edu!cis.ohio-state.edu!zaphod.mps.ohio-state.edu!cs.utexas.edu!uunet!s5!is1.is.morgan.com!is0.is.morgan.com!gmichFrom: gmich@is.morgan.com (George Michaels)Subject: NTSC and thMessage-ID: <GMICH.93Apr19145538@idt114.is.morgan.com>Sender: news@is.morgan.comNntp-Posting-Host: idt114Organization: Morgan Stanley & CompanyDistribution: compDate: Mon, 19 Apr 1993 19:55:38 GMTLines: 0\n",
      " -- \n",
      " --- Second closest to medoid doc: 3da12577b9f4a48b644d1d7311c38a8194c146f7\n",
      "Path: cantaloupe.srv.cs.cmu.edu!das-news.harvard.edu!noc.near.net!howland.reston.ans.net!zaphod.mps.ohio-state.edu!cs.utexas.edu!uunet!digex.com!lynx.unm.edu!dns1.NMSU.Edu!dns1.NMSU.Edu!usenetFrom: mcole@spock (COLE)Newsgroups: sci.electronicsSubject: HM8350 or HM8348Date: 23 Apr 1993 15:12:42 GMTOrganization: New Mexico State UniversityLines: 3Message-ID: <1r911aINNq4l@dns1.NMSU.Edu>NNTP-Posting-Host: spock.nmsu.eduI have some MICE that have a chip numbered HM8348 and HM8350.  I have not  been able to find information on these.  Any help would be appreciated.mcole@nmsu.edu\n",
      " --- \n",
      "Group: 58\n",
      " - Medoid doc: b4bd15ded5e5cf620abc6f97f97bd4f03bc292e2\n",
      "Path: cantaloupe.srv.cs.cmu.edu!das-news.harvard.edu!noc.near.net!howland.reston.ans.net!usc!elroy.jpl.nasa.gov!news.claremont.edu!nntp-server.caltech.edu!keithFrom: keith@cco.caltech.edu (Keith Allan Schneider)Newsgroups: alt.atheismSubject: Re: <Political Atheists?Date: 16 Apr 1993 00:57:55 GMTOrganization: California Institute of Technology, PasadenaLines: 9Message-ID: <1ql0ajINN2kj@gap.caltech.edu>References: <1p3bn9INN98r@gap.caltech.edu> <1pa0stINNpqa@gap.caltech.edu> <1pan4f$b6j@fido.asd.sgi.com> <1q0fngINNahu@gap.caltech.edu> <C5C9FA.6zH@acsu.buffalo.edu> <1qabe7INNaff@gap.caltech.edu> <kmr4.1538.734573965@po.CWRU.edu>NNTP-Posting-Host: lloyd.caltech.edukmr4@po.CWRU.edu (Keith M. Ryan) writes:>>But chimps are almost human...>Does this mean that Chimps have a moral will?Well, chimps must have some system.  They live in social groupsas we do, so they must have some \"laws\" dictating undesired behavior.keith\n",
      " - \n",
      " -- Closest to medoid doc: 2f055bc4c7e0ea31fb1ba7d12d564c8ce17c4df8\n",
      "Path: cantaloupe.srv.cs.cmu.edu!crabapple.srv.cs.cmu.edu!fs7.ece.cmu.edu!europa.eng.gtefsd.com!howland.reston.ans.net!noc.near.net!news.centerline.com!uunet!olivea!sgigate!sgiblab!adagio.panasonic.com!nntp-server.caltech.edu!keithFrom: keith@cco.caltech.edu (Keith Allan Schneider)Newsgroups: alt.atheismSubject: Re: >>>>>>Pompous assMessage-ID: <1pi9btINNqa5@gap.caltech.edu>Date: 2 Apr 93 20:57:33 GMTReferences: <1ou4koINNe67@gap.caltech.edu> <1p72bkINNjt7@gap.caltech.edu> <93089.050046MVS104@psuvm.psu.edu> <1pa6ntINNs5d@gap.caltech.edu> <1993Mar30.210423.1302@bmerh85.bnr.ca> <1pcnqjINNpon@gap.caltech.edu> <kmr4.1344.733611641@po.CWRU.edu>Organization: California Institute of Technology, PasadenaLines: 9NNTP-Posting-Host: punisher.caltech.edukmr4@po.CWRU.edu (Keith M. Ryan) writes:>>Then why do people keep asking the same questions over and over?>Because you rarely ever answer them.Nope, I've answered each question posed, and most were answered multipletimes.keith\n",
      " -- \n",
      " --- Second closest to medoid doc: ef1810b42ecff66404155a23b72ba477ebb401a3\n",
      "Path: cantaloupe.srv.cs.cmu.edu!crabapple.srv.cs.cmu.edu!fs7.ece.cmu.edu!europa.eng.gtefsd.com!howland.reston.ans.net!zaphod.mps.ohio-state.edu!sdd.hp.com!sgiblab!adagio.panasonic.com!nntp-server.caltech.edu!keithFrom: keith@cco.caltech.edu (Keith Allan Schneider)Newsgroups: alt.atheismSubject: Re: <Political Atheists?Date: 2 Apr 1993 23:00:29 GMTOrganization: California Institute of Technology, PasadenaLines: 8Message-ID: <1pigidINNsot@gap.caltech.edu>References: <1p9bseINNi6o@gap.caltech.edu> <1pamva$b6j@fido.asd.sgi.com> <1993Mar31.002303.4748@blaze.cs.jhu.edu> <930401.111834.4c3.rusnews.w165w@mantis.co.uk>NNTP-Posting-Host: punisher.caltech.edumathew <mathew@mantis.co.uk> writes:>As for rape, surely there the burden of guilt is solely on the rapist?Not so.  If you are thrown into a cage with a tiger and get mauled, do youblame the tiger?keith\n",
      " --- \n"
     ]
    }
   ],
   "source": [
    "# Let's check three sample groups, their medoid documents, and two other closer documents.\n",
    "for i in [26, 32, 58]:\n",
    "    print('Group: %d' % i)\n",
    "    center = chosen_model.cluster_centers_[i]\n",
    "    group_points = data[chosen_model_labels == i]\n",
    "    group_doc_ids = ids[chosen_model_labels == i]\n",
    "\n",
    "    # Let's find the medoid and their closest points\n",
    "    distancesMatrix = pairwise_distances(group_points, metric='euclidean')\n",
    "    closest_to_medoid_indexes = np.argsort(distancesMatrix.sum(axis=0))\n",
    "    medoid_index = closest_to_medoid_indexes[0]\n",
    "\n",
    "    print(' - Medoid doc: {}'.format(group_doc_ids[medoid_index]))\n",
    "    print(loadDocument(group_doc_ids[medoid_index]))\n",
    "    print(' - ')\n",
    "    print(' -- Closest to medoid doc: {}'.format(group_doc_ids[closest_to_medoid_indexes[1]]))\n",
    "    print(loadDocument(group_doc_ids[closest_to_medoid_indexes[1]]))\n",
    "    print(' -- ')\n",
    "    print(' --- Second closest to medoid doc: {}'.format(group_doc_ids[closest_to_medoid_indexes[2]]))\n",
    "    print(loadDocument(group_doc_ids[closest_to_medoid_indexes[2]]))\n",
    "    print(' --- ')"
   ]
  }
 ],
 "metadata": {
  "kernelspec": {
   "display_name": "Python 2",
   "language": "python",
   "name": "python2"
  },
  "language_info": {
   "codemirror_mode": {
    "name": "ipython",
    "version": 2
   },
   "file_extension": ".py",
   "mimetype": "text/x-python",
   "name": "python",
   "nbconvert_exporter": "python",
   "pygments_lexer": "ipython2",
   "version": "2.7.13"
  }
 },
 "nbformat": 4,
 "nbformat_minor": 2
}
