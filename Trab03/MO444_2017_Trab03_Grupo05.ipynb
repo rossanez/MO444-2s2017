{
 "cells": [
  {
   "cell_type": "code",
   "execution_count": 60,
   "metadata": {},
   "outputs": [],
   "source": [
    "# MO444-A 2s/2017 - Third assignment\n",
    "#\n",
    "#         Group 05\n",
    "#\n",
    "# - Anderson Rossanez (124136)\n",
    "# - Bruno Branta Lopes (31470)\n",
    "#\n",
    "\n",
    "import matplotlib.pyplot as plt\n",
    "import numpy as np\n",
    "import pandas as pd\n",
    "from datetime import datetime\n",
    "from IPython.display import Markdown, display\n",
    "from sklearn.cluster import MiniBatchKMeans\n",
    "from sklearn.metrics import pairwise_distances\n",
    "from sklearn.metrics import silhouette_score\n",
    "from sklearn.metrics import calinski_harabaz_score\n",
    "from sklearn.preprocessing import Normalizer\n",
    "from sklearn.preprocessing import scale\n",
    "\n",
    "def printm(msg):\n",
    "    \"\"\"Print in notebook using markups.\"\"\"\n",
    "    display(Markdown(msg))\n",
    "\n",
    "def loadIDs():\n",
    "    lines=[]\n",
    "    with open('documents/ids', \"r\") as f:\n",
    "        lines = f.read().splitlines()\n",
    "    return np.asarray(lines)\n",
    "\n",
    "def loadFeatures():\n",
    "    features = pd.read_csv('documents/data.csv', sep=',', header=None)\n",
    "    return features.values\n",
    "\n",
    "def loadDocument(docID):\n",
    "    data = None\n",
    "    with open('documents/docs/' + docID, 'r') as docfile:\n",
    "        data = docfile.read().replace('\\n', '')\n",
    "    return data\n",
    "\n",
    "def computeKMeansMetrics(model, data):\n",
    "    labels = model.fit_predict(data)\n",
    "    cost = model.inertia_\n",
    "    sil_avg = silhouette_score(data, labels)\n",
    "    ch_score = calinski_harabaz_score(data, labels)\n",
    "    return labels, cost, sil_avg, ch_score"
   ]
  },
  {
   "cell_type": "code",
   "execution_count": 3,
   "metadata": {},
   "outputs": [
    {
     "name": "stdout",
     "output_type": "stream",
     "text": [
      "IDs shape: (19924,)\n",
      "Data shape: (19924, 2209)\n"
     ]
    }
   ],
   "source": [
    "ids = loadIDs()\n",
    "print('IDs shape: {}'.format(ids.shape))\n",
    "\n",
    "data = loadFeatures()\n",
    "print('Data shape: {}'.format(data.shape))"
   ]
  },
  {
   "cell_type": "code",
   "execution_count": 4,
   "metadata": {},
   "outputs": [
    {
     "name": "stdout",
     "output_type": "stream",
     "text": [
      "['832e15531654188fa0b951faa5f68540dfb1ca5a'\n",
      " 'aa5163928a6edfd3bf69fd11fe763aacecf4602d'\n",
      " 'e886703afff0c70d6598bcae0c2d69a5a237807f'\n",
      " 'c1ea507b177b2e1673ce7a576057f91b75ae9d29'\n",
      " 'bbf73405c85d22702fafc1c0916e8f713810ff8d']\n"
     ]
    }
   ],
   "source": [
    "# Let's look at the 5 first instances of the IDs\n",
    "print(ids[0:5])"
   ]
  },
  {
   "cell_type": "code",
   "execution_count": 5,
   "metadata": {},
   "outputs": [
    {
     "data": {
      "text/html": [
       "<div>\n",
       "<style scoped>\n",
       "    .dataframe tbody tr th:only-of-type {\n",
       "        vertical-align: middle;\n",
       "    }\n",
       "\n",
       "    .dataframe tbody tr th {\n",
       "        vertical-align: top;\n",
       "    }\n",
       "\n",
       "    .dataframe thead th {\n",
       "        text-align: right;\n",
       "    }\n",
       "</style>\n",
       "<table border=\"1\" class=\"dataframe\">\n",
       "  <thead>\n",
       "    <tr style=\"text-align: right;\">\n",
       "      <th></th>\n",
       "      <th>0</th>\n",
       "      <th>1</th>\n",
       "      <th>2</th>\n",
       "      <th>3</th>\n",
       "      <th>4</th>\n",
       "      <th>5</th>\n",
       "      <th>6</th>\n",
       "      <th>7</th>\n",
       "      <th>8</th>\n",
       "      <th>9</th>\n",
       "      <th>...</th>\n",
       "      <th>2199</th>\n",
       "      <th>2200</th>\n",
       "      <th>2201</th>\n",
       "      <th>2202</th>\n",
       "      <th>2203</th>\n",
       "      <th>2204</th>\n",
       "      <th>2205</th>\n",
       "      <th>2206</th>\n",
       "      <th>2207</th>\n",
       "      <th>2208</th>\n",
       "    </tr>\n",
       "  </thead>\n",
       "  <tbody>\n",
       "    <tr>\n",
       "      <th>0</th>\n",
       "      <td>0.077257</td>\n",
       "      <td>0.0</td>\n",
       "      <td>0.0</td>\n",
       "      <td>0.0</td>\n",
       "      <td>0.000000</td>\n",
       "      <td>0.000000</td>\n",
       "      <td>0.0</td>\n",
       "      <td>0.0</td>\n",
       "      <td>0.0</td>\n",
       "      <td>0.0</td>\n",
       "      <td>...</td>\n",
       "      <td>0.000000</td>\n",
       "      <td>0.0</td>\n",
       "      <td>0.000000</td>\n",
       "      <td>0.0</td>\n",
       "      <td>0.0</td>\n",
       "      <td>0.0</td>\n",
       "      <td>0.0</td>\n",
       "      <td>0.000000</td>\n",
       "      <td>0.0</td>\n",
       "      <td>0.0</td>\n",
       "    </tr>\n",
       "    <tr>\n",
       "      <th>1</th>\n",
       "      <td>0.000000</td>\n",
       "      <td>0.0</td>\n",
       "      <td>0.0</td>\n",
       "      <td>0.0</td>\n",
       "      <td>0.000000</td>\n",
       "      <td>0.000000</td>\n",
       "      <td>0.0</td>\n",
       "      <td>0.0</td>\n",
       "      <td>0.0</td>\n",
       "      <td>0.0</td>\n",
       "      <td>...</td>\n",
       "      <td>0.000000</td>\n",
       "      <td>0.0</td>\n",
       "      <td>0.000000</td>\n",
       "      <td>0.0</td>\n",
       "      <td>0.0</td>\n",
       "      <td>0.0</td>\n",
       "      <td>0.0</td>\n",
       "      <td>0.055755</td>\n",
       "      <td>0.0</td>\n",
       "      <td>0.0</td>\n",
       "    </tr>\n",
       "    <tr>\n",
       "      <th>2</th>\n",
       "      <td>0.042250</td>\n",
       "      <td>0.0</td>\n",
       "      <td>0.0</td>\n",
       "      <td>0.0</td>\n",
       "      <td>0.000000</td>\n",
       "      <td>0.000000</td>\n",
       "      <td>0.0</td>\n",
       "      <td>0.0</td>\n",
       "      <td>0.0</td>\n",
       "      <td>0.0</td>\n",
       "      <td>...</td>\n",
       "      <td>0.093693</td>\n",
       "      <td>0.0</td>\n",
       "      <td>0.099296</td>\n",
       "      <td>0.0</td>\n",
       "      <td>0.0</td>\n",
       "      <td>0.0</td>\n",
       "      <td>0.0</td>\n",
       "      <td>0.000000</td>\n",
       "      <td>0.0</td>\n",
       "      <td>0.0</td>\n",
       "    </tr>\n",
       "    <tr>\n",
       "      <th>3</th>\n",
       "      <td>0.000000</td>\n",
       "      <td>0.0</td>\n",
       "      <td>0.0</td>\n",
       "      <td>0.0</td>\n",
       "      <td>0.069105</td>\n",
       "      <td>0.000000</td>\n",
       "      <td>0.0</td>\n",
       "      <td>0.0</td>\n",
       "      <td>0.0</td>\n",
       "      <td>0.0</td>\n",
       "      <td>...</td>\n",
       "      <td>0.000000</td>\n",
       "      <td>0.0</td>\n",
       "      <td>0.000000</td>\n",
       "      <td>0.0</td>\n",
       "      <td>0.0</td>\n",
       "      <td>0.0</td>\n",
       "      <td>0.0</td>\n",
       "      <td>0.036811</td>\n",
       "      <td>0.0</td>\n",
       "      <td>0.0</td>\n",
       "    </tr>\n",
       "    <tr>\n",
       "      <th>4</th>\n",
       "      <td>0.000000</td>\n",
       "      <td>0.0</td>\n",
       "      <td>0.0</td>\n",
       "      <td>0.0</td>\n",
       "      <td>0.000000</td>\n",
       "      <td>0.041917</td>\n",
       "      <td>0.0</td>\n",
       "      <td>0.0</td>\n",
       "      <td>0.0</td>\n",
       "      <td>0.0</td>\n",
       "      <td>...</td>\n",
       "      <td>0.000000</td>\n",
       "      <td>0.0</td>\n",
       "      <td>0.000000</td>\n",
       "      <td>0.0</td>\n",
       "      <td>0.0</td>\n",
       "      <td>0.0</td>\n",
       "      <td>0.0</td>\n",
       "      <td>0.000000</td>\n",
       "      <td>0.0</td>\n",
       "      <td>0.0</td>\n",
       "    </tr>\n",
       "  </tbody>\n",
       "</table>\n",
       "<p>5 rows × 2209 columns</p>\n",
       "</div>"
      ],
      "text/plain": [
       "       0     1     2     3         4         5     6     7     8     9     \\\n",
       "0  0.077257   0.0   0.0   0.0  0.000000  0.000000   0.0   0.0   0.0   0.0   \n",
       "1  0.000000   0.0   0.0   0.0  0.000000  0.000000   0.0   0.0   0.0   0.0   \n",
       "2  0.042250   0.0   0.0   0.0  0.000000  0.000000   0.0   0.0   0.0   0.0   \n",
       "3  0.000000   0.0   0.0   0.0  0.069105  0.000000   0.0   0.0   0.0   0.0   \n",
       "4  0.000000   0.0   0.0   0.0  0.000000  0.041917   0.0   0.0   0.0   0.0   \n",
       "\n",
       "   ...       2199  2200      2201  2202  2203  2204  2205      2206  2207  \\\n",
       "0  ...   0.000000   0.0  0.000000   0.0   0.0   0.0   0.0  0.000000   0.0   \n",
       "1  ...   0.000000   0.0  0.000000   0.0   0.0   0.0   0.0  0.055755   0.0   \n",
       "2  ...   0.093693   0.0  0.099296   0.0   0.0   0.0   0.0  0.000000   0.0   \n",
       "3  ...   0.000000   0.0  0.000000   0.0   0.0   0.0   0.0  0.036811   0.0   \n",
       "4  ...   0.000000   0.0  0.000000   0.0   0.0   0.0   0.0  0.000000   0.0   \n",
       "\n",
       "   2208  \n",
       "0   0.0  \n",
       "1   0.0  \n",
       "2   0.0  \n",
       "3   0.0  \n",
       "4   0.0  \n",
       "\n",
       "[5 rows x 2209 columns]"
      ]
     },
     "execution_count": 5,
     "metadata": {},
     "output_type": "execute_result"
    }
   ],
   "source": [
    "# Now, let's have a look at the 5 first instances of the data (bag-of-words feature vectors)\n",
    "data_frame = pd.DataFrame(data)\n",
    "data_frame.head(5)"
   ]
  },
  {
   "cell_type": "code",
   "execution_count": 6,
   "metadata": {},
   "outputs": [
    {
     "name": "stdout",
     "output_type": "stream",
     "text": [
      "Min. value: 0.0\n",
      "Max. value: 0.999901\n"
     ]
    }
   ],
   "source": [
    "# Checking the value ranges\n",
    "print('Min. value: {}'.format(np.min(data.flatten())))\n",
    "print('Max. value: {}'.format(np.max(data.flatten())))\n",
    "\n",
    "# Let's scale and normalize the data\n",
    "data = scale(data)\n",
    "\n",
    "normalizer = Normalizer()\n",
    "normalizer = normalizer.fit(data)\n",
    "\n",
    "data = normalizer.transform(data)"
   ]
  },
  {
   "cell_type": "code",
   "execution_count": 38,
   "metadata": {},
   "outputs": [
    {
     "name": "stdout",
     "output_type": "stream",
     "text": [
      "2 clusters: Cost 19800.31 ; Silhouette avg 0.00620; CH Score 123.59\n",
      "4 clusters: Cost 19700.97 ; Silhouette avg 0.00489; CH Score 75.24\n",
      "6 clusters: Cost 19626.00 ; Silhouette avg 0.00487; CH Score 61.02\n",
      "8 clusters: Cost 19512.65 ; Silhouette avg 0.00627; CH Score 60.47\n",
      "10 clusters: Cost 19470.62 ; Silhouette avg 0.00697; CH Score 52.24\n",
      "15 clusters: Cost 19298.33 ; Silhouette avg 0.00880; CH Score 47.28\n",
      "20 clusters: Cost 19160.94 ; Silhouette avg 0.01065; CH Score 42.66\n",
      "25 clusters: Cost 19009.95 ; Silhouette avg 0.01246; CH Score 40.45\n",
      "30 clusters: Cost 18904.53 ; Silhouette avg 0.01470; CH Score 37.75\n",
      "35 clusters: Cost 18842.39 ; Silhouette avg 0.01425; CH Score 34.22\n",
      "40 clusters: Cost 18685.07 ; Silhouette avg 0.01643; CH Score 34.38\n",
      "45 clusters: Cost 18640.97 ; Silhouette avg 0.01788; CH Score 31.79\n",
      "50 clusters: Cost 18556.98 ; Silhouette avg 0.01755; CH Score 30.45\n",
      "60 clusters: Cost 18427.54 ; Silhouette avg 0.01976; CH Score 27.91\n",
      "70 clusters: Cost 18297.54 ; Silhouette avg 0.02169; CH Score 26.05\n",
      "80 clusters: Cost 18201.27 ; Silhouette avg 0.02105; CH Score 24.20\n",
      "90 clusters: Cost 18062.59 ; Silhouette avg 0.02199; CH Score 23.42\n",
      "100 clusters: Cost 18007.88 ; Silhouette avg 0.02111; CH Score 21.71\n",
      "120 clusters: Cost 17861.08 ; Silhouette avg 0.01878; CH Score 19.65\n",
      "140 clusters: Cost 17708.48 ; Silhouette avg 0.01727; CH Score 18.25\n",
      "160 clusters: Cost 17575.24 ; Silhouette avg 0.02081; CH Score 16.99\n",
      "180 clusters: Cost 17503.69 ; Silhouette avg 0.01563; CH Score 15.66\n",
      "200 clusters: Cost 17521.83 ; Silhouette avg 0.00188; CH Score 13.93\n"
     ]
    }
   ],
   "source": [
    "# Attempting Mini-Batch K means with some different number of centroids.\n",
    "kmeans, labels, costs, sil_avgs, ch_scores = [], [], [], [], []\n",
    "num_centroids = [2, 4, 6, 8, 10, 15, 20, 25, 30, 35, 40, 45, 50, 60, 70, 80, 90, 100, 120, 140, 160, 180, 200]\n",
    "for i in num_centroids:\n",
    "    model = MiniBatchKMeans(n_clusters=i, init='k-means++', batch_size=1000, random_state=1)\n",
    "    myLabels, cost, sil_avg, ch_score = computeKMeansMetrics(model, data)\n",
    "    kmeans.append(model)\n",
    "    labels.append(myLabels)\n",
    "    costs.append(cost)\n",
    "    sil_avgs.append(sil_avg)\n",
    "    ch_scores.append(ch_score)\n",
    "    print('%d clusters: Cost %5.2f; Silhouette avg %5.5f; Calinski-Harabasz Index: %5.2f' % (i, cost, sil_avg, ch_score))"
   ]
  },
  {
   "cell_type": "code",
   "execution_count": 39,
   "metadata": {},
   "outputs": [
    {
     "data": {
      "image/png": "[encoded data removed]",
      "text/plain": [
       "<matplotlib.figure.Figure at 0x112347790>"
      ]
     },
     "metadata": {},
     "output_type": "display_data"
    }
   ],
   "source": [
    "%matplotlib inline \n",
    "\n",
    "f, (ax1, ax2, ax3) = plt.subplots(1, 3, sharex='col')\n",
    "\n",
    "ax1.set_title('cost')\n",
    "ax1.plot(num_centroids, costs)\n",
    "\n",
    "ax2.set_title('silhouettes')\n",
    "ax2.plot(num_centroids, sil_avgs)\n",
    "\n",
    "ax3.set_title('calinski harabaz score')\n",
    "ax3.plot(num_centroids, ch_scores)\n",
    "\n",
    "f.subplots_adjust(top=0.92, bottom=0.08, left=0.10, right=0.95, hspace=0.25, wspace=0.35)\n",
    "f.set_size_inches(15, 5)\n",
    "f.show()\n"
   ]
  },
  {
   "cell_type": "code",
   "execution_count": 55,
   "metadata": {},
   "outputs": [
    {
     "name": "stdout",
     "output_type": "stream",
     "text": [
      "Chosen # of centroids: 70\n",
      "Cost:                             18297.541\n",
      "Silhouette avg:                       0.022\n",
      "Calinski-Harabasz Index:             26.047\n"
     ]
    }
   ],
   "source": [
    "# Chosen number of centroids\n",
    "chosen_i = 14\n",
    "chosen_model = kmeans[chosen_i]\n",
    "chosen_model_labels = labels[chosen_i]\n",
    "print('Chosen # of centroids: {}'.format(chosen_model.n_clusters))\n",
    "print('Cost:                    %18.3f' % costs[chosen_i])\n",
    "print('Silhouette avg:          %18.3f' % sil_avgs[chosen_i])\n",
    "print('Calinski-Harabasz Index: %18.3f' % ch_scores[chosen_i])"
   ]
  },
  {
   "cell_type": "code",
   "execution_count": 65,
   "metadata": {},
   "outputs": [
    {
     "name": "stdout",
     "output_type": "stream",
     "text": [
      "Group: 26\n"
     ]
    },
    {
     "data": {
      "text/markdown": [
       "# Medoid doc 2b75d2428e9dee17af550deee18a6b06ba56c860"
      ],
      "text/plain": [
       "<IPython.core.display.Markdown object>"
      ]
     },
     "metadata": {},
     "output_type": "display_data"
    },
    {
     "name": "stdout",
     "output_type": "stream",
     "text": [
      "Path: cantaloupe.srv.cs.cmu.edu!crabapple.srv.cs.cmu.edu!fs7.ece.cmu.edu!europa.eng.gtefsd.com!howland.reston.ans.net!usenet.ins.cwru.edu!cleveland.Freenet.Edu!au021From: au021@cleveland.Freenet.Edu (Roland Behunin)Newsgroups: rec.sport.hockeySubject: Now if ESPN wanted to show a good game...Date: 22 Apr 1993 18:07:21 GMTOrganization: Case Western Reserve University, Cleveland, Ohio (USA)Lines: 9Message-ID: <1r6msp$b5e@usenet.INS.CWRU.Edu>NNTP-Posting-Host: hela.ins.cwru.eduThey could put on a Quebec-Montreal game.Talk a bout areivalry!opps rivalry..roland-- Roland\n"
     ]
    },
    {
     "data": {
      "text/markdown": [
       "## Closest to medoid doc: e2905a7f2e199fbe7c95f15b9657f934ff9a999e"
      ],
      "text/plain": [
       "<IPython.core.display.Markdown object>"
      ]
     },
     "metadata": {},
     "output_type": "display_data"
    },
    {
     "name": "stdout",
     "output_type": "stream",
     "text": [
      "Xref: cantaloupe.srv.cs.cmu.edu alt.magick:9989 alt.pagan:29823 talk.religion.misc:84021Path: cantaloupe.srv.cs.cmu.edu!crabapple.srv.cs.cmu.edu!bb3.andrew.cmu.edu!news.sei.cmu.edu!fs7.ece.cmu.edu!europa.eng.gtefsd.com!howland.reston.ans.net!usenet.ins.cwru.edu!cleveland.Freenet.Edu!ch981From: ch981@cleveland.Freenet.Edu (Tony Alicea)Newsgroups: alt.magick,alt.pagan,talk.religion.miscSubject: Re: Rosicrucian Order(s) ?!Date: 21 Apr 1993 17:43:19 GMTOrganization: Case Western Reserve University, Cleveland, OH (USA)Lines: 13Message-ID: <1r413n$plr@usenet.INS.CWRU.Edu>References: <alamutC5p1I3.In4@netcom.com> <N2382B6w165w@tweekco.uucp> <C5r5zz.Jnz@rahul.net> <1qvibv$b75@usenet.INS.CWRU.Edu> <sandvik-190493193847@sandvik-kent.apple.com> <1r0pb6$bes@usenet.INS.CWRU.Edu> <sandvik-200493235951@sandvik-kent.apple.com>Reply-To: ch981@cleveland.Freenet.Edu (Tony Alicea)NNTP-Posting-Host: hela.ins.cwru.eduIn a previous article, sandvik@newton.apple.com (Kent Sandvik) says:>Well, it depends how you look at it. If you are interested I might>find out what the latest status is in this legal battle.>Kent>\tPlease do! And if you don't want to post it here, email to me:-) I don't know how this discussion is appreciated here. I hate'invading' newsgroups with themes of limited interest :-)Tony\n",
      " ## Second closest to medoid doc: 28c0d4b04a63c94c68e448b5d51614ae192f3241\n",
      "Path: cantaloupe.srv.cs.cmu.edu!crabapple.srv.cs.cmu.edu!fs7.ece.cmu.edu!europa.eng.gtefsd.com!howland.reston.ans.net!usenet.ins.cwru.edu!cleveland.Freenet.Edu!af774From: af774@cleveland.Freenet.Edu (Chad Cipiti)Newsgroups: comp.graphicsSubject: Good shareware paint and/or animation software for SGI?Date: 14 Apr 1993 13:24:52 GMTOrganization: Case Western Reserve University, Cleveland, OH (USA)Lines: 15Message-ID: <1qh3b5$7nc@usenet.INS.CWRU.Edu>Reply-To: af774@cleveland.Freenet.Edu (Chad Cipiti)NNTP-Posting-Host: hela.ins.cwru.eduDoes anyone know of any good shareware animation or paint software for an SGI machine?  I've exhausted everyplace on the net I can find and still don't hava a nice piece of software.Thanks alot!Chad-- Knock, knock.                                         Chad CipitiWho's there?                                    af774@cleveland.freenet.edu                                               cipiti@bobcat.ent.ohiou.eduIt might be Heisenberg.                          chad@voxel.zool.ohiou.edu\n",
      "Group: 32\n"
     ]
    },
    {
     "data": {
      "text/markdown": [
       "# Medoid doc aad5914b9868c167169550405fdcd99f786035ed"
      ],
      "text/plain": [
       "<IPython.core.display.Markdown object>"
      ]
     },
     "metadata": {},
     "output_type": "display_data"
    },
    {
     "name": "stdout",
     "output_type": "stream",
     "text": [
      "Newsgroups: talk.politics.gunsPath: cantaloupe.srv.cs.cmu.edu!magnesium.club.cc.cmu.edu!news.sei.cmu.edu!fs7.ece.cmu.edu!europa.eng.gtefsd.com!howland.reston.ans.net!usc!cs.utexas.edu!convex!convex!bjonesFrom: bjones@convex.com (Brad Jones)Subject: Re: Letter to the PresidentSender: usenet@news.eng.convex.com (news access account)Message-ID: <bjones.735320585@neptune>Date: Tue, 20 Apr 1993 15:43:05 GMTReferences: <1993Apr20.140647.6274@icd.ab.com>Nntp-Posting-Host: neptune.convex.comOrganization: Engineering, CONVEX Computer Corp., Richardson, Tx., USAX-Disclaimer: This message was written by a user at CONVEX Computer              Corp. The opinions expressed are those of the user and              not necessarily those of CONVEX.Lines: 8kdw@icd.ab.com (Kenneth D. Whitehead) writes:>the dismissal or resignation of Lloyd Bensen, Secretary of the Treasury,In case you haven't sent it yet, it's \"Bentsen\", not \"Bensen\".Brad\n"
     ]
    },
    {
     "data": {
      "text/markdown": [
       "## Closest to medoid doc: f56bf5f1d648a27681d108e955b87b67436a6788"
      ],
      "text/plain": [
       "<IPython.core.display.Markdown object>"
      ]
     },
     "metadata": {},
     "output_type": "display_data"
    },
    {
     "name": "stdout",
     "output_type": "stream",
     "text": [
      "Newsgroups: sci.spacePath: cantaloupe.srv.cs.cmu.edu!das-news.harvard.edu!noc.near.net!howland.reston.ans.net!zaphod.mps.ohio-state.edu!cs.utexas.edu!convex!schumachFrom: schumach@convex.com (Richard A. Schumacher)Subject: Re: Gamma Ray Bursters. WHere are they.Message-ID: <schumach.736269361@convex.convex.com>Sender: usenet@convex.com (news access account)Nntp-Posting-Host: starman.convex.comOrganization: CONVEX Computer Corporation, Richardson, Tx., USAReferences: <1radsr$att@access.digex.net> <STEINLY.93Apr25180118@topaz.ucsc.edu> <29601@galaxy.ucr.edu> <1rlrpv$5ta@access.digex.net> <1993Apr30.144341.11546@sed.stel.com>Date: Sat, 1 May 1993 15:16:01 GMTX-Disclaimer: This message was written by a user at CONVEX Computer              Corp. The opinions expressed are those of the user and              not necessarily those of CONVEX.Lines: 3You should have been following the discussion of GRBsgoing on in sci.astro. It's been discussed in some detail,with references even.\n",
      " ## Second closest to medoid doc: fe78d300d9cb4862d589786bf6650369b1aa086b\n",
      "Newsgroups: sci.spacePath: cantaloupe.srv.cs.cmu.edu!crabapple.srv.cs.cmu.edu!fs7.ece.cmu.edu!europa.eng.gtefsd.com!gatech!usenet.ins.cwru.edu!howland.reston.ans.net!zaphod.mps.ohio-state.edu!darwin.sura.net!convex!schumachFrom: schumach@convex.com (Richard A. Schumacher)Subject: Re: space news from Feb 1 AW&STMessage-ID: <schumach.735001829@convex.convex.com>Sender: usenet@convex.com (news access account)Nntp-Posting-Host: starman.convex.comOrganization: CONVEX Computer Corporation, Richardson, Tx., USAReferences: <C5K81D.34w@zoo.toronto.edu>Date: Fri, 16 Apr 1993 23:10:29 GMTX-Disclaimer: This message was written by a user at CONVEX Computer              Corp. The opinions expressed are those of the user and              not necessarily those of CONVEX.Lines: 10>Marshall is investigating a small but odd pressure rise in one SRB>during the Jan 12 Endeavour launch.  It lasted only three seconds and>the thrust difference between the two SRBs was not enough to cause>nozzle gimballing.  The SRB casing shows no abnormalities.Is this the one that had the {wrench|pliers} found inside afterrecovery?\n",
      "Group: 58\n"
     ]
    },
    {
     "data": {
      "text/markdown": [
       "# Medoid doc 088950cb5a5d633c4dd322e8cce1f2cb0d6cb440"
      ],
      "text/plain": [
       "<IPython.core.display.Markdown object>"
      ]
     },
     "metadata": {},
     "output_type": "display_data"
    },
    {
     "name": "stdout",
     "output_type": "stream",
     "text": [
      "Xref: cantaloupe.srv.cs.cmu.edu soc.culture.arabic:18385 talk.politics.mideast:75907Path: cantaloupe.srv.cs.cmu.edu!rochester!udel!gatech!howland.reston.ans.net!zaphod.mps.ohio-state.edu!malgudi.oar.net!news.ysu.edu!psuvm!frmop11.cnusc.fr!barilvm!vms.huji.ac.il!wisipc.weizmann.ac.il!wiscon.weizmann.ac.il!jhsegalNewsgroups: soc.culture.arabic,talk.politics.mideastSubject: Re: How many israeli soldiers does it take to kill a 5 yr old child?Message-ID: <1993Apr15.170221.18542@wisipc.weizmann.ac.il>From: jhsegal@wiscon.weizmann.ac.il (Livian Segal)Date: Thu, 15 Apr 1993 17:02:21 GMTSender: news@wisipc.weizmann.ac.ilReferences: <1qcaqd$a5b@news.ysu.edu> <1qch0h$ijj@hal.gnu.ai.mit.edu> <1qhv50$222@bagel.cs.huji.ac.il>Organization: Weizmann Institute of Science, Computation CenterLines: 16In article <1qhv50$222@bagel.cs.huji.ac.il> ranen@falafel.cs.huji.ac.il (Ranen Goren) writes:>Q: How many Nick Steel's does it take to twist any truth around?>A: Only one, and thank God there's only one.>>\tRanen.Absolutely not true!There are lots of them!  _____   __Livian__  ______    ___    __Segal__  __  __      __  __      __ *\\   /*    |       |       \\      \\     \\      |   |   |       |   \\       |***\\ /***   |       |   |__  |  /_  \\     \\     |   |   |       |    \\      ||---O---|   |       |       /        |     \\    |   |   |       |     \\     |\\  /*\\  /    \\___   /   |  \\    |    |   |  \\   |   |    \\___   /   |   /   | \\/***\\/           /    |   \\   |    |   |      |   |          /    |       |VM/CMS: JhsegalL@Weizmann.weizmann.ac.il UNIX: Jhsegal@wiscon.weizmann.ac.il\n"
     ]
    },
    {
     "data": {
      "text/markdown": [
       "## Closest to medoid doc: 005ecd5d4225fc9d2f36d72109c183d07dadd060"
      ],
      "text/plain": [
       "<IPython.core.display.Markdown object>"
      ]
     },
     "metadata": {},
     "output_type": "display_data"
    },
    {
     "name": "stdout",
     "output_type": "stream",
     "text": [
      "Xref: cantaloupe.srv.cs.cmu.edu soc.culture.arabic:18702 talk.politics.mideast:76218 soc.culture.jewish:63561Path: cantaloupe.srv.cs.cmu.edu!magnesium.club.cc.cmu.edu!news.sei.cmu.edu!cis.ohio-state.edu!zaphod.mps.ohio-state.edu!howland.reston.ans.net!newsserver.jvnc.net!gmd.de!dearn!barilvm!vms.huji.ac.il!bagel.cs.huji.ac.il!nntpserver!amossNewsgroups: soc.culture.arabic,talk.politics.mideast,soc.culture.jewishSubject: Re: Israeli TerrorismMessage-ID: <AMOSS.93Apr25163327@shuldig.cs.huji.ac.il>From: amoss@shuldig.cs.huji.ac.il (Amos Shapira)Date: 25 Apr 93 16:33:27References: <1rbhf8$b4p@usenet.INS.CWRU.Edu> <1993Apr24.203620.6531@Virginia.EDU><2BD9C01D.11546@news.service.uci.edu> <1rd7eo$1a4@usenet.INS.CWRU.Edu>Organization: Inst. of Comp. Sci., Hebrew University, Jerusalem, IsraelNNTP-Posting-Host: shuldig.cs.huji.ac.ilIn-reply-to: cy779@cleveland.Freenet.Edu's message of 25 Apr 1993 05:26:48 GMTLines: 14cy779@cleveland.Freenet.Edu (Anas Omran) writes:                                                           The Israelis   used to arrest and sometimes to kill some of these neutral reporters.Eh????  Could you please give me details about an event where a \"NeutralObserver\" was killed by purpose by an Israeli soldier?--Amos----Amos Shapira (Jumper Extraordinaire) |  \"It is true that power corrupts,C.S. System Group, Hebrew University,  |   but absolute power is better!\"Jerusalem 91904, ISRAEL                |amoss@cs.huji.ac.il                    |          -- the Demon to his son\n",
      " ## Second closest to medoid doc: e9e496c8803fddddb4027843f27a91444f8673a1\n",
      "Xref: cantaloupe.srv.cs.cmu.edu soc.culture.arabic:18988 talk.politics.mideast:76397 soc.culture.jewish:63904Path: cantaloupe.srv.cs.cmu.edu!magnesium.club.cc.cmu.edu!pitt.edu!gatech!howland.reston.ans.net!newsserver.jvnc.net!gmd.de!dearn!barilvm!vms.huji.ac.il!bagel.cs.huji.ac.il!nntpserver!amossFrom: amoss@shuldig.cs.huji.ac.il (Amos Shapira)Newsgroups: soc.culture.arabic,talk.politics.mideast,soc.culture.jewishSubject: Re: Israeli TerrorismMessage-ID: <AMOSS.93Apr27140637@shuldig.cs.huji.ac.il>Date: 27 Apr 93 18:06:37 GMTReferences: <1rd7eo$1a4@usenet.INS.CWRU.Edu><AMOSS.93Apr25163327@shuldig.cs.huji.ac.il><2B DAD779.24910@news.service.uci.edu><1993Apr26.184547.20058@das.harvard.edu><1rh nb4$1pp@usenet.INS.CWRU.Edu><EGGERTJ.93Apr26212846@moses.atc.ll.mit.edu>Organization: Inst. of Comp. Sci., Hebrew University, Jerusalem, IsraelLines: 25NNTP-Posting-Host: shuldig.cs.huji.ac.ilIn-reply-to: eggertj@moses.atc.ll.mit.edu's message of 26 Apr 93 21:28:46eggertj@moses.atc.ll.mit.edu (Jim Eggert x6127 g41) writes:|Not exactly the same, but reminiscent of the assassination of Count|Bernadotte, who was _the_ UN negotiator during the 1948 Israeli war of|independence.  He was killed by the Israelis.  Seems he was being too|successful in negotiating a cease-fire, which would have worked|territorially against the nascent Israel, compared to continued war.That operation was done by a small Jewish fraction BEFORE the state evenexisted and, as far as I remember, was disaproved by most of the Jews.Saying that \"He was killed by the Israelis\" is plain wrong because there wasn't\"Israel\" at the time.And as far as the Jews liked the idea of having part of the land you can seetheir reaction to the UN resolution from 29 November,  and the Arab's reactiontoo  (no,  it wasn't that the Arabs danced in the streets with doznes of Jewishstates invading them but quite the other way around).Bye,----Amos Shapira (Jumper Extraordinaire) |  \"It is true that power corrupts,C.S. System Group, Hebrew University,  |   but absolute power is better!\"Jerusalem 91904, ISRAEL                |amoss@cs.huji.ac.il                    |          -- the Demon to his son\n"
     ]
    }
   ],
   "source": [
    "##### Let's check three sample groups, their medoid documents, and two other closer documents.\n",
    "for i in [26, 32, 58]:\n",
    "    print('Group: %d' % i)\n",
    "    center = chosen_model.cluster_centers_[i]\n",
    "    group_points = data[chosen_model_labels == i]\n",
    "    group_doc_ids = ids[chosen_model_labels == i]\n",
    "\n",
    "    # Let's find the medoid and their closest points\n",
    "    distancesMatrix = pairwise_distances(group_points, metric='euclidean')\n",
    "    closest_to_medoid_indexes = np.argsort(distancesMatrix.sum(axis=0))\n",
    "    medoid_index = closest_to_medoid_indexes[0]\n",
    "\n",
    "    printm('# Medoid doc {}'.format(group_doc_ids[medoid_index]))\n",
    "    print(loadDocument(group_doc_ids[medoid_index]))\n",
    "    printm('## Closest to medoid doc: {}'.format(group_doc_ids[closest_to_medoid_indexes[1]]))\n",
    "    print(loadDocument(group_doc_ids[closest_to_medoid_indexes[1]]))\n",
    "    print(' ## Second closest to medoid doc: {}'.format(group_doc_ids[closest_to_medoid_indexes[2]]))\n",
    "    print(loadDocument(group_doc_ids[closest_to_medoid_indexes[2]]))"
   ]
  },
  {
   "cell_type": "code",
   "execution_count": null,
   "metadata": {},
   "outputs": [],
   "source": []
  }
 ],
 "metadata": {
  "kernelspec": {
   "display_name": "Python 2",
   "language": "python",
   "name": "python2"
  },
  "language_info": {
   "codemirror_mode": {
    "name": "ipython",
    "version": 2
   },
   "file_extension": ".py",
   "mimetype": "text/x-python",
   "name": "python",
   "nbconvert_exporter": "python",
   "pygments_lexer": "ipython2",
   "version": "2.7.10"
  }
 },
 "nbformat": 4,
 "nbformat_minor": 2
}
