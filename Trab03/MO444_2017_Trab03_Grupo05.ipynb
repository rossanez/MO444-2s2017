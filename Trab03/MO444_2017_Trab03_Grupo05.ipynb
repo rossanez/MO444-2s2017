{
 "cells": [
  {
   "cell_type": "code",
   "execution_count": 8,
   "metadata": {
    "collapsed": true
   },
   "outputs": [],
   "source": [
    "# MO444-A 2s/2017 - Third assignment\n",
    "#\n",
    "#         Group 05\n",
    "#\n",
    "# - Anderson Rossanez (124136)\n",
    "# - Bruno Branta Lopes (31470)\n",
    "#\n",
    "\n",
    "import matplotlib.pyplot as plt\n",
    "import numpy as np\n",
    "import pandas as pd\n",
    "from datetime import datetime\n",
    "from sklearn.cluster import MiniBatchKMeans\n",
    "from sklearn.metrics import pairwise_distances\n",
    "from sklearn.metrics import silhouette_score\n",
    "from sklearn.preprocessing import Normalizer\n",
    "from sklearn.preprocessing import scale\n",
    "from sklearn.model_selection import KFold\n",
    "\n",
    "def loadIDs():\n",
    "    lines=[]\n",
    "    with open('documents/ids', \"r\") as f:\n",
    "        lines = f.read().splitlines()\n",
    "    return np.asarray(lines)\n",
    "\n",
    "def loadFeatures():\n",
    "    features = pd.read_csv('documents/data.csv', sep=',', header=None)\n",
    "    return features.values\n",
    "\n",
    "def loadDocument(docID):\n",
    "    data = None\n",
    "    with open('documents/docs/' + docID, 'r') as docfile:\n",
    "        data = docfile.read().replace('\\n', '')\n",
    "    return data\n",
    "\n",
    "def runKFoldClustering(model, data):\n",
    "    random_state = np.random.RandomState(1)\n",
    "    k5_fold = KFold(n_splits=5, shuffle=True, random_state=random_state)\n",
    "    costs = []\n",
    "    for train_index, validation_index in k5_fold.split(data):\n",
    "        train_data, validation_data = data[train_index], data[validation_index]\n",
    "        model.fit(train_data)\n",
    "        model.predict(validation_data)\n",
    "        costs.append(model.inertia_)\n",
    "    return np.mean(costs), np.std(costs)\n"
   ]
  },
  {
   "cell_type": "code",
   "execution_count": 4,
   "metadata": {
    "collapsed": false
   },
   "outputs": [
    {
     "name": "stdout",
     "output_type": "stream",
     "text": [
      "IDs shape: (19924,)\n",
      "Data shape: (19924, 2209)\n"
     ]
    }
   ],
   "source": [
    "ids = loadIDs()\n",
    "print('IDs shape: {}'.format(ids.shape))\n",
    "\n",
    "data = loadFeatures()\n",
    "print('Data shape: {}'.format(data.shape))"
   ]
  },
  {
   "cell_type": "code",
   "execution_count": 3,
   "metadata": {
    "collapsed": false
   },
   "outputs": [
    {
     "name": "stdout",
     "output_type": "stream",
     "text": [
      "['832e15531654188fa0b951faa5f68540dfb1ca5a'\n",
      " 'aa5163928a6edfd3bf69fd11fe763aacecf4602d'\n",
      " 'e886703afff0c70d6598bcae0c2d69a5a237807f'\n",
      " 'c1ea507b177b2e1673ce7a576057f91b75ae9d29'\n",
      " 'bbf73405c85d22702fafc1c0916e8f713810ff8d']\n"
     ]
    }
   ],
   "source": [
    "# Let's look at the 5 first instances of the IDs\n",
    "print(ids[0:5])"
   ]
  },
  {
   "cell_type": "code",
   "execution_count": 4,
   "metadata": {
    "collapsed": false
   },
   "outputs": [
    {
     "data": {
      "text/html": [
       "<div>\n",
       "<style>\n",
       "    .dataframe thead tr:only-child th {\n",
       "        text-align: right;\n",
       "    }\n",
       "\n",
       "    .dataframe thead th {\n",
       "        text-align: left;\n",
       "    }\n",
       "\n",
       "    .dataframe tbody tr th {\n",
       "        vertical-align: top;\n",
       "    }\n",
       "</style>\n",
       "<table border=\"1\" class=\"dataframe\">\n",
       "  <thead>\n",
       "    <tr style=\"text-align: right;\">\n",
       "      <th></th>\n",
       "      <th>0</th>\n",
       "      <th>1</th>\n",
       "      <th>2</th>\n",
       "      <th>3</th>\n",
       "      <th>4</th>\n",
       "      <th>5</th>\n",
       "      <th>6</th>\n",
       "      <th>7</th>\n",
       "      <th>8</th>\n",
       "      <th>9</th>\n",
       "      <th>...</th>\n",
       "      <th>2199</th>\n",
       "      <th>2200</th>\n",
       "      <th>2201</th>\n",
       "      <th>2202</th>\n",
       "      <th>2203</th>\n",
       "      <th>2204</th>\n",
       "      <th>2205</th>\n",
       "      <th>2206</th>\n",
       "      <th>2207</th>\n",
       "      <th>2208</th>\n",
       "    </tr>\n",
       "  </thead>\n",
       "  <tbody>\n",
       "    <tr>\n",
       "      <th>0</th>\n",
       "      <td>0.077257</td>\n",
       "      <td>0.0</td>\n",
       "      <td>0.0</td>\n",
       "      <td>0.0</td>\n",
       "      <td>0.000000</td>\n",
       "      <td>0.000000</td>\n",
       "      <td>0.0</td>\n",
       "      <td>0.0</td>\n",
       "      <td>0.0</td>\n",
       "      <td>0.0</td>\n",
       "      <td>...</td>\n",
       "      <td>0.000000</td>\n",
       "      <td>0.0</td>\n",
       "      <td>0.000000</td>\n",
       "      <td>0.0</td>\n",
       "      <td>0.0</td>\n",
       "      <td>0.0</td>\n",
       "      <td>0.0</td>\n",
       "      <td>0.000000</td>\n",
       "      <td>0.0</td>\n",
       "      <td>0.0</td>\n",
       "    </tr>\n",
       "    <tr>\n",
       "      <th>1</th>\n",
       "      <td>0.000000</td>\n",
       "      <td>0.0</td>\n",
       "      <td>0.0</td>\n",
       "      <td>0.0</td>\n",
       "      <td>0.000000</td>\n",
       "      <td>0.000000</td>\n",
       "      <td>0.0</td>\n",
       "      <td>0.0</td>\n",
       "      <td>0.0</td>\n",
       "      <td>0.0</td>\n",
       "      <td>...</td>\n",
       "      <td>0.000000</td>\n",
       "      <td>0.0</td>\n",
       "      <td>0.000000</td>\n",
       "      <td>0.0</td>\n",
       "      <td>0.0</td>\n",
       "      <td>0.0</td>\n",
       "      <td>0.0</td>\n",
       "      <td>0.055755</td>\n",
       "      <td>0.0</td>\n",
       "      <td>0.0</td>\n",
       "    </tr>\n",
       "    <tr>\n",
       "      <th>2</th>\n",
       "      <td>0.042250</td>\n",
       "      <td>0.0</td>\n",
       "      <td>0.0</td>\n",
       "      <td>0.0</td>\n",
       "      <td>0.000000</td>\n",
       "      <td>0.000000</td>\n",
       "      <td>0.0</td>\n",
       "      <td>0.0</td>\n",
       "      <td>0.0</td>\n",
       "      <td>0.0</td>\n",
       "      <td>...</td>\n",
       "      <td>0.093693</td>\n",
       "      <td>0.0</td>\n",
       "      <td>0.099296</td>\n",
       "      <td>0.0</td>\n",
       "      <td>0.0</td>\n",
       "      <td>0.0</td>\n",
       "      <td>0.0</td>\n",
       "      <td>0.000000</td>\n",
       "      <td>0.0</td>\n",
       "      <td>0.0</td>\n",
       "    </tr>\n",
       "    <tr>\n",
       "      <th>3</th>\n",
       "      <td>0.000000</td>\n",
       "      <td>0.0</td>\n",
       "      <td>0.0</td>\n",
       "      <td>0.0</td>\n",
       "      <td>0.069105</td>\n",
       "      <td>0.000000</td>\n",
       "      <td>0.0</td>\n",
       "      <td>0.0</td>\n",
       "      <td>0.0</td>\n",
       "      <td>0.0</td>\n",
       "      <td>...</td>\n",
       "      <td>0.000000</td>\n",
       "      <td>0.0</td>\n",
       "      <td>0.000000</td>\n",
       "      <td>0.0</td>\n",
       "      <td>0.0</td>\n",
       "      <td>0.0</td>\n",
       "      <td>0.0</td>\n",
       "      <td>0.036811</td>\n",
       "      <td>0.0</td>\n",
       "      <td>0.0</td>\n",
       "    </tr>\n",
       "    <tr>\n",
       "      <th>4</th>\n",
       "      <td>0.000000</td>\n",
       "      <td>0.0</td>\n",
       "      <td>0.0</td>\n",
       "      <td>0.0</td>\n",
       "      <td>0.000000</td>\n",
       "      <td>0.041917</td>\n",
       "      <td>0.0</td>\n",
       "      <td>0.0</td>\n",
       "      <td>0.0</td>\n",
       "      <td>0.0</td>\n",
       "      <td>...</td>\n",
       "      <td>0.000000</td>\n",
       "      <td>0.0</td>\n",
       "      <td>0.000000</td>\n",
       "      <td>0.0</td>\n",
       "      <td>0.0</td>\n",
       "      <td>0.0</td>\n",
       "      <td>0.0</td>\n",
       "      <td>0.000000</td>\n",
       "      <td>0.0</td>\n",
       "      <td>0.0</td>\n",
       "    </tr>\n",
       "  </tbody>\n",
       "</table>\n",
       "<p>5 rows × 2209 columns</p>\n",
       "</div>"
      ],
      "text/plain": [
       "       0     1     2     3         4         5     6     7     8     9     \\\n",
       "0  0.077257   0.0   0.0   0.0  0.000000  0.000000   0.0   0.0   0.0   0.0   \n",
       "1  0.000000   0.0   0.0   0.0  0.000000  0.000000   0.0   0.0   0.0   0.0   \n",
       "2  0.042250   0.0   0.0   0.0  0.000000  0.000000   0.0   0.0   0.0   0.0   \n",
       "3  0.000000   0.0   0.0   0.0  0.069105  0.000000   0.0   0.0   0.0   0.0   \n",
       "4  0.000000   0.0   0.0   0.0  0.000000  0.041917   0.0   0.0   0.0   0.0   \n",
       "\n",
       "   ...       2199  2200      2201  2202  2203  2204  2205      2206  2207  \\\n",
       "0  ...   0.000000   0.0  0.000000   0.0   0.0   0.0   0.0  0.000000   0.0   \n",
       "1  ...   0.000000   0.0  0.000000   0.0   0.0   0.0   0.0  0.055755   0.0   \n",
       "2  ...   0.093693   0.0  0.099296   0.0   0.0   0.0   0.0  0.000000   0.0   \n",
       "3  ...   0.000000   0.0  0.000000   0.0   0.0   0.0   0.0  0.036811   0.0   \n",
       "4  ...   0.000000   0.0  0.000000   0.0   0.0   0.0   0.0  0.000000   0.0   \n",
       "\n",
       "   2208  \n",
       "0   0.0  \n",
       "1   0.0  \n",
       "2   0.0  \n",
       "3   0.0  \n",
       "4   0.0  \n",
       "\n",
       "[5 rows x 2209 columns]"
      ]
     },
     "execution_count": 4,
     "metadata": {},
     "output_type": "execute_result"
    }
   ],
   "source": [
    "# Now, let's have a look at the 5 first instances of the data (bag-of-words feature vectors)\n",
    "data_frame = pd.DataFrame(data)\n",
    "data_frame.head(5)"
   ]
  },
  {
   "cell_type": "code",
   "execution_count": 5,
   "metadata": {
    "collapsed": false
   },
   "outputs": [
    {
     "name": "stdout",
     "output_type": "stream",
     "text": [
      "Min. value: 0.0\n",
      "Max. value: 0.999901\n"
     ]
    }
   ],
   "source": [
    "# Checking the value ranges\n",
    "print('Min. value: {}'.format(np.min(data.flatten())))\n",
    "print('Max. value: {}'.format(np.max(data.flatten())))\n",
    "\n",
    "# Let's scale and normalize the data\n",
    "data = scale(data)\n",
    "\n",
    "normalizer = Normalizer()\n",
    "normalizer = normalizer.fit(data)\n",
    "\n",
    "data = normalizer.transform(data)"
   ]
  },
  {
   "cell_type": "code",
   "execution_count": 6,
   "metadata": {
    "collapsed": false
   },
   "outputs": [
    {
     "name": "stdout",
     "output_type": "stream",
     "text": [
      "Elapsed time: 0:00:30.171268\n"
     ]
    }
   ],
   "source": [
    "# Attempting Mini-Batch K means with some different number of centroids.\n",
    "num_centroids = xrange(149, 154)\n",
    "kmeans = [MiniBatchKMeans(n_clusters=i, init='k-means++', batch_size=1000, random_state=1) for i in num_centroids]\n",
    "\n",
    "start_time = datetime.now()\n",
    "costs, labels = [], []\n",
    "for i in range(len(kmeans)):\n",
    "    labels.append(kmeans[i].fit_predict(data))\n",
    "    costs.append(kmeans[i].inertia_)\n",
    "\n",
    "print('Elapsed time: {}'.format(datetime.now() - start_time))"
   ]
  },
  {
   "cell_type": "code",
   "execution_count": 7,
   "metadata": {
    "collapsed": false
   },
   "outputs": [
    {
     "data": {
      "image/png": "[encoded data removed]",
      "text/plain": [
       "<matplotlib.figure.Figure at 0x111b27410>"
      ]
     },
     "metadata": {},
     "output_type": "display_data"
    }
   ],
   "source": [
    "# Plot an elbow curve.\n",
    "plt.plot(num_centroids, costs, color='blue')\n",
    "plt.xlabel('centroids')\n",
    "plt.ylabel('cost')\n",
    "plt.show()"
   ]
  },
  {
   "cell_type": "code",
   "execution_count": 45,
   "metadata": {
    "collapsed": false
   },
   "outputs": [
    {
     "name": "stdout",
     "output_type": "stream",
     "text": [
      "2 clusters: Cost 14523.33 ±11.23\n",
      "4 clusters: Cost 14255.30 ±50.67\n",
      "8 clusters: Cost 13914.44 ±28.60\n",
      "16 clusters: Cost 13486.94 ±42.67\n",
      "32 clusters: Cost 12819.08 ±34.20\n",
      "64 clusters: Cost 11995.90 ±53.97\n",
      "128 clusters: Cost 11184.01 ±37.12\n",
      "256 clusters: Cost 10555.65 ±33.36\n"
     ]
    },
    {
     "data": {
      "image/png": "[encoded data removed]",
      "text/plain": [
       "<matplotlib.figure.Figure at 0x7f6709ec6850>"
      ]
     },
     "metadata": {},
     "output_type": "display_data"
    }
   ],
   "source": [
    "costs, costs_sd = [], []\n",
    "num_centroids_2 = [2, 4, 8, 16, 32, 64, 128, 256]\n",
    "for i in num_centroids_2:\n",
    "    model = MiniBatchKMeans(n_clusters=i, init='k-means++', batch_size=1000, random_state=1)\n",
    "    cost_mean, cost_sd = runKFoldClustering(model, data)\n",
    "    costs.append(cost_mean)\n",
    "    costs_sd.append(cost_sd)\n",
    "    print '%d clusters: Cost %5.2f ±%5.2f' % (i, cost_mean, cost_sd)\n",
    "\n",
    "# Plot an elbow curve.\n",
    "plt.plot(color='blue', marker='o')\n",
    "plt.errorbar(num_centroids_2, costs, yerr=costs_sd, \n",
    "             fmt='-o', ecolor='r', capthick=2)\n",
    "plt.xlabel('centroids')\n",
    "plt.ylabel('cost')\n",
    "plt.show()"
   ]
  },
  {
   "cell_type": "code",
   "execution_count": 8,
   "metadata": {
    "collapsed": false
   },
   "outputs": [
    {
     "name": "stdout",
     "output_type": "stream",
     "text": [
      "centroids: 149, silhouette average: 0.022329\n",
      "centroids: 150, silhouette average: 0.021166\n",
      "centroids: 151, silhouette average: 0.023733\n",
      "centroids: 152, silhouette average: 0.023451\n",
      "centroids: 153, silhouette average: 0.023226\n",
      "Elapsed time: 0:01:50.787880\n"
     ]
    }
   ],
   "source": [
    "# Check the silhouette scores.\n",
    "start_time = datetime.now()\n",
    "sil_avgs, sil_avgs_centroids = [], []\n",
    "for i in range(len(kmeans)):\n",
    "    sil_avg = silhouette_score(data, labels[i])\n",
    "    print('centroids: %d, silhouette average: %f' % (kmeans[i].n_clusters, sil_avg))\n",
    "    sil_avgs.append(sil_avg)\n",
    "    sil_avgs_centroids.append(kmeans[i].n_clusters)\n",
    "\n",
    "print('Elapsed time: {}'.format(datetime.now() - start_time))"
   ]
  },
  {
   "cell_type": "code",
   "execution_count": 9,
   "metadata": {
    "collapsed": false
   },
   "outputs": [
    {
     "data": {
      "image/png": "[encoded data removed]",
      "text/plain": [
       "<matplotlib.figure.Figure at 0x11053b210>"
      ]
     },
     "metadata": {},
     "output_type": "display_data"
    }
   ],
   "source": [
    "# Plot the silhouette averages\n",
    "plt.plot(sil_avgs_centroids, sil_avgs, color='blue')\n",
    "plt.xlabel('centroids')\n",
    "plt.ylabel('silhouette averages')\n",
    "plt.show()"
   ]
  },
  {
   "cell_type": "code",
   "execution_count": 10,
   "metadata": {
    "collapsed": true
   },
   "outputs": [],
   "source": [
    "# Chosen number of centroids: 151\n",
    "chosen_model = kmeans[2]\n",
    "chosen_model_labels = labels[2]"
   ]
  },
  {
   "cell_type": "code",
   "execution_count": 11,
   "metadata": {
    "collapsed": false
   },
   "outputs": [
    {
     "name": "stdout",
     "output_type": "stream",
     "text": [
      "Group: 24\n",
      " - Medoid doc: 633594b5d24305e8f2e86689322c79ab2dba947f\n",
      "Xref: cantaloupe.srv.cs.cmu.edu alt.atheism:53115 talk.religion.misc:83573 talk.origins:40872Newsgroups: alt.atheism,talk.religion.misc,talk.originsPath: cantaloupe.srv.cs.cmu.edu!das-news.harvard.edu!noc.near.net!howland.reston.ans.net!zaphod.mps.ohio-state.edu!uwm.edu!ux1.cso.uiuc.edu!news.cso.uiuc.edu!alexia!cobbFrom: cobb@alexia.lis.uiuc.edu (Mike Cobb)Subject: Re: After 2000 years, can we say that Christian Morality is Date: Thu, 15 Apr 1993 22:48:49 GMTMessage-ID: <C5JrDE.M4z@news.cso.uiuc.edu>References: <4fm9iYO00iV303voYt@andrew.cmu.edu> <C5Fuo2.FF8@news.cso.uiuc.edu> Sender: usenet@news.cso.uiuc.edu (Net Noise owner)Organization: University of Illinois at UrbanaLines: 13Theory of Creationism: MY theistic view of the theory of creationism, (there are many others) is stated in Genesis 1.  In the beginning God createdthe heavens and the earth.MAC--****************************************************************                                                    Michael A. Cobb \"...and I won't raise taxes on the middle     University of Illinois    class to pay for my programs.\"                 Champaign-Urbana          -Bill Clinton 3rd Debate             cobb@alexia.lis.uiuc.edu                                              With new taxes and spending cuts we'll still have 310 billion dollar deficits.\n",
      " - \n",
      " -- Closest to medoid doc: 633594b5d24305e8f2e86689322c79ab2dba947f\n",
      "Xref: cantaloupe.srv.cs.cmu.edu alt.atheism:53115 talk.religion.misc:83573 talk.origins:40872Newsgroups: alt.atheism,talk.religion.misc,talk.originsPath: cantaloupe.srv.cs.cmu.edu!das-news.harvard.edu!noc.near.net!howland.reston.ans.net!zaphod.mps.ohio-state.edu!uwm.edu!ux1.cso.uiuc.edu!news.cso.uiuc.edu!alexia!cobbFrom: cobb@alexia.lis.uiuc.edu (Mike Cobb)Subject: Re: After 2000 years, can we say that Christian Morality is Date: Thu, 15 Apr 1993 22:48:49 GMTMessage-ID: <C5JrDE.M4z@news.cso.uiuc.edu>References: <4fm9iYO00iV303voYt@andrew.cmu.edu> <C5Fuo2.FF8@news.cso.uiuc.edu> Sender: usenet@news.cso.uiuc.edu (Net Noise owner)Organization: University of Illinois at UrbanaLines: 13Theory of Creationism: MY theistic view of the theory of creationism, (there are many others) is stated in Genesis 1.  In the beginning God createdthe heavens and the earth.MAC--****************************************************************                                                    Michael A. Cobb \"...and I won't raise taxes on the middle     University of Illinois    class to pay for my programs.\"                 Champaign-Urbana          -Bill Clinton 3rd Debate             cobb@alexia.lis.uiuc.edu                                              With new taxes and spending cuts we'll still have 310 billion dollar deficits.\n",
      " -- \n",
      " --- Second closest to medoid doc: 5b6570990e5977abc43c79894e02647886acad39\n",
      "Xref: cantaloupe.srv.cs.cmu.edu alt.atheism:53061 talk.religion.misc:83533 talk.origins:40866Newsgroups: alt.atheism,talk.religion.misc,talk.originsPath: cantaloupe.srv.cs.cmu.edu!das-news.harvard.edu!noc.near.net!howland.reston.ans.net!wupost!sdd.hp.com!ux1.cso.uiuc.edu!news.cso.uiuc.edu!alexia!cobbFrom: cobb@alexia.lis.uiuc.edu (Mike Cobb)Subject: Re: After 2000 years, can we say that Christian Morality isDate: Mon, 19 Apr 1993 04:38:03 GMTMessage-ID: <C5prJF.5D5@news.cso.uiuc.edu>References: <4fm9iYO00iV303voYt@andrew.cmu.edu> Sender: usenet@news.cso.uiuc.edu (Net Noise owner)Organization: University of Illinois at UrbanaLines: 13Very true (length of time for discussions on creationism vs evolutionism). Atheists and Christians have been debating since ?? and still debate with unabated passion 8-).MAC--****************************************************************                                                    Michael A. Cobb \"...and I won't raise taxes on the middle     University of Illinois    class to pay for my programs.\"                 Champaign-Urbana          -Bill Clinton 3rd Debate             cobb@alexia.lis.uiuc.edu                                              With new taxes and spending cuts we'll still have 310 billion dollar deficits.\n",
      " --- \n",
      "Group: 48\n",
      " - Medoid doc: 0c761482d87994f2119b0901ee831de6c1bd15fd\n",
      "Xref: cantaloupe.srv.cs.cmu.edu talk.politics.misc:178564 alt.sex:111465 soc.men:68588 misc.legal:60749Path: cantaloupe.srv.cs.cmu.edu!rochester!udel!gatech!howland.reston.ans.net!noc.near.net!uunet!optilink!cramerFrom: cramer@optilink.COM (Clayton Cramer)Newsgroups: talk.politics.misc,ca.politics,ba.politics,alt.sex,soc.men,misc.legalSubject: New Study Out On Gay PercentageMessage-ID: <15378@optilink.COM>Date: 15 Apr 93 16:42:53 GMTOrganization: Optilink Corporation, Petaluma, CALines: 27From the Santa Rosa (Cal.) Press-Democrat, April 15, 1993, p. B2:    Male sex survey: Gay activity low    A new natonal study on male sexual behavior, the most thorough    examination of American men's sexual practices published since    the Kinsey report more than four decades ago, shows about 2    percent of the men surveyed had engaged in homosexual sex and    1 percent considered themselves exclusively homosexual.    The figures on homosexuality in the study released Wednesday    by the Alan Guttmacher Institute are significantly lower than    the 10 percent figure that has been part of the conventional    wisdom since it was published in the Kinsey report.The article also contains numbers on the number of sexual partners.The median number of sexual partners for all men 20-39 was 7.3.Compared to the table I have already posted from Masters, Johnson,and Kolodny showing male homosexual partners, it is apparent thathomosexual men are dramatically more promiscuous than the generalmale population.  It's a shame that we don't have a breakdown forstraight men vs. gay/bi men -- that would show even more dramaticallyhow much more promiscuous gay/bi men are.-- Clayton E. Cramer {uunet,pyramid}!optilink!cramer  My opinions, all mine!Relations between people to be by mutual consent, or not at all.\n",
      " - \n",
      " -- Closest to medoid doc: feacbf7dffd64b594bb268ae6e65c528c210f400\n",
      "Xref: cantaloupe.srv.cs.cmu.edu talk.politics.misc:178597 alt.sex:111490 soc.men:68600 misc.legal:60757Newsgroups: talk.politics.misc,ca.politics,ba.politics,alt.sex,soc.men,misc.legalPath: cantaloupe.srv.cs.cmu.edu!rochester!cornell!batcomputer!caen!uvaarpa!murdoch!hopper!lfoardFrom: lfoard@hopper.Virginia.EDU (Lawrence C. Foard)Subject: Re: New Study Out On Gay PercentageMessage-ID: <C5K5LC.CyF@murdoch.acc.Virginia.EDU>Sender: usenet@murdoch.acc.Virginia.EDUOrganization: ITC/UVA Community Access UNIX/Internet ProjectReferences: <15378@optilink.com>Date: Fri, 16 Apr 1993 03:55:59 GMTLines: 50In article <15378@optilink.com> cramer@optilink.COM (Clayton Cramer) writes:>>>From the Santa Rosa (Cal.) Press-Democrat, April 15, 1993, p. B2:>>    Male sex survey: Gay activity low>>    A new natonal study on male sexual behavior, the most thorough>    examination of American men's sexual practices published since>    the Kinsey report more than four decades ago, shows about 2>    percent of the men surveyed had engaged in homosexual sex and>    1 percent considered themselves exclusively homosexual.>>    The figures on homosexuality in the study released Wednesday>    by the Alan Guttmacher Institute are significantly lower than>    the 10 percent figure that has been part of the conventional>    wisdom since it was published in the Kinsey report.1) So what?2) It will be interesting to see the reaction when 2.5million queers   gather in Washington DC. After all if there are only 6million of   us then this is an event unprecidented in history...>The article also contains numbers on the number of sexual partners.>The median number of sexual partners for all men 20-39 was 7.3.Don't forget that 25% had 20 or more partners....>Compared to the table I have already posted from Masters, Johnson,>and Kolodny showing male homosexual partners, it is apparent that>homosexual men are dramatically more promiscuous than the general>male population.  And what did this study show for number of sexual contacts for thosewho said they where homosexual? Or is that number to inconvient foryou....>It's a shame that we don't have a breakdown for>straight men vs. gay/bi men -- that would show even more dramatically>how much more promiscuous gay/bi men are.Fuck off-- ------          Join the Pythagorean Reform Church!               .\\    /        Repent of your evil irrational numbers             . . \\  /   and bean eating ways. Accept 10 into your heart!        . . .  \\/   Call the Pythagorean Reform Church BBS at 508-793-9568  . . . .    \n",
      " -- \n",
      " --- Second closest to medoid doc: 6dbac400aa38d436af0252e0cb907d83340884f9\n",
      "Xref: cantaloupe.srv.cs.cmu.edu talk.politics.misc:178758 alt.sex:111606 soc.men:68657 misc.legal:60834Path: cantaloupe.srv.cs.cmu.edu!crabapple.srv.cs.cmu.edu!fs7.ece.cmu.edu!europa.eng.gtefsd.com!howland.reston.ans.net!zaphod.mps.ohio-state.edu!cs.utexas.edu!uunet!optilink!cramerFrom: cramer@optilink.COM (Clayton Cramer)Newsgroups: talk.politics.misc,ca.politics,ba.politics,alt.sex,soc.men,misc.legalSubject: Re: New Study Out On Gay PercentageMessage-ID: <15427@optilink.COM>Date: 19 Apr 93 16:21:30 GMTReferences: <15378@optilink.com> <C5K5LC.CyF@murdoch.acc.Virginia.EDU>Organization: Optilink Corporation, Petaluma, CALines: 61In article <C5K5LC.CyF@murdoch.acc.Virginia.EDU>, lfoard@hopper.Virginia.EDU (Lawrence C. Foard) writes:> In article <15378@optilink.com> cramer@optilink.COM (Clayton Cramer) writes:# #From the Santa Rosa (Cal.) Press-Democrat, April 15, 1993, p. B2:# ## #    Male sex survey: Gay activity low# ## #    A new natonal study on male sexual behavior, the most thorough# #    examination of American men's sexual practices published since# #    the Kinsey report more than four decades ago, shows about 2# #    percent of the men surveyed had engaged in homosexual sex and# #    1 percent considered themselves exclusively homosexual.# ## #    The figures on homosexuality in the study released Wednesday# #    by the Alan Guttmacher Institute are significantly lower than# #    the 10 percent figure that has been part of the conventional# #    wisdom since it was published in the Kinsey report.# # 1) So what?Homosexuals lie about the 10% number to hide the disproportionateinvolvement of homosexuals in child molestation.  They also lieabout \"10%\" to keep politicians scared.# 2) It will be interesting to see the reaction when 2.5million queers#    gather in Washington DC. After all if there are only 6million of#    us then this is an event unprecidented in history...But many of the people who will be marching aren't homosexuals, butother members of the leftist agenda.# #The article also contains numbers on the number of sexual partners.# #The median number of sexual partners for all men 20-39 was 7.3.# # Don't forget that 25% had 20 or more partners....Not surprising.  Remember, that study includes homosexuals as well.# #Compared to the table I have already posted from Masters, Johnson,# #and Kolodny showing male homosexual partners, it is apparent that# #homosexual men are dramatically more promiscuous than the general# #male population.  # # And what did this study show for number of sexual contacts for those# who said they where homosexual? Or is that number to inconvient for# you....It wasn't published.# #It's a shame that we don't have a breakdown for# #straight men vs. gay/bi men -- that would show even more dramatically# #how much more promiscuous gay/bi men are.# # Fuck offTypical homoseuxal response.-- Clayton E. Cramer {uunet,pyramid}!optilink!cramer  My opinions, all mine!Relations between people to be by mutual consent, or not at all.\n",
      " --- \n",
      "Group: 72\n",
      " - Medoid doc: 155a9995c6e4a8c886281c34d7d7793448d6b275\n",
      "Path: cantaloupe.srv.cs.cmu.edu!magnesium.club.cc.cmu.edu!news.sei.cmu.edu!cis.ohio-state.edu!pacific.mps.ohio-state.edu!zaphod.mps.ohio-state.edu!howland.reston.ans.net!usenet.ins.cwru.edu!alpha.ces.cwru.edu!oldhamFrom: oldham@ces.cwru.edu (Daniel Oldham)Newsgroups: talk.politics.gunsSubject: Blast them next timeDate: 20 Apr 1993 16:50:49 GMTOrganization: Computer Engineering and Science, Case Western Reserve UniversityLines: 21Distribution: usaMessage-ID: <1r19l9$7dv@usenet.INS.CWRU.Edu>NNTP-Posting-Host: king.ces.cwru.eduWhat happened in Waco is not the fault of the BATF. If they would ofhad the proper equipment and personal then they could of captured thecompound on the initial assault and none of this would of happened.The BATF needs more people, better weapons and more armoredtransports. When they meet hostile fire they should be able to usemore force instead of retreating to a stand off. If you are going todo a job then do it right. The BATF is there to protect us and theymust have the proper equipment and people to do the job.With the WoD and the increased crime in the streets the BATF is neededmore now then ever. If they blast away a few good fokes then that isthe price we all have to pay for law and order in this country. Lookat all the good people that died in wars to protect this great countryof ours.With the arms build up in Waco they needed to hit that compound withmega fire power. They could of gone in there blasting and killed a fewwomen and kids but it would of been better then letting them all burnto death 51 days later.\n",
      " - \n",
      " -- Closest to medoid doc: 167cbbce4abf42b920599b15b7bd4e5af2addc46\n",
      "Newsgroups: talk.politics.gunsPath: cantaloupe.srv.cs.cmu.edu!magnesium.club.cc.cmu.edu!news.sei.cmu.edu!cis.ohio-state.edu!pacific.mps.ohio-state.edu!zaphod.mps.ohio-state.edu!howland.reston.ans.net!newsserver.jvnc.net!synapse.bms.com!bms.comt!HAMBIDGEFrom: hambidge@bms.comSubject: Re: Blast them next timeMessage-ID: <1993Apr20.170453.10298@synapse.bms.com>Sender: news@synapse.bms.comReply-To: hambidge@bms.comOrganization: Bristol-Myers SquibbReferences: <1r19l9$7dv@usenet.INS.CWRU.Edu>Distribution: usaDate: Tue, 20 Apr 1993 17:04:53 GMTLines: 31In article <1r19l9$7dv@usenet.INS.CWRU.Edu>, oldham@ces.cwru.edu (Daniel Oldham) writes:>What happened in Waco is not the fault of the BATF. If they would of>had the proper equipment and personal then they could of captured the>compound on the initial assault and none of this would of happened.>>The BATF needs more people, better weapons and more armored>transports. When they meet hostile fire they should be able to use>more force instead of retreating to a stand off. If you are going to>do a job then do it right. The BATF is there to protect us and they>must have the proper equipment and people to do the job.>>With the WoD and the increased crime in the streets the BATF is needed>more now then ever. If they blast away a few good fokes then that is>the price we all have to pay for law and order in this country. Look>at all the good people that died in wars to protect this great country>of ours.>>With the arms build up in Waco they needed to hit that compound with>mega fire power. They could of gone in there blasting and killed a few>women and kids but it would of been better then letting them all burn>to death 51 days later.>Did you forget to put in a sarcasm flag?Al[standard disclaimer]\n",
      " -- \n",
      " --- Second closest to medoid doc: 71c4c93ef76bebeadadfffb7ad8119ac96ec4005\n",
      "Newsgroups: talk.politics.gunsPath: cantaloupe.srv.cs.cmu.edu!magnesium.club.cc.cmu.edu!news.sei.cmu.edu!cis.ohio-state.edu!zaphod.mps.ohio-state.edu!howland.reston.ans.net!bogus.sura.net!news-feed-1.peachnet.edu!umn.edu!csus.edu!netcom.com!cntrspyFrom: cntrspy@netcom.com (Executive Protection Assoc)Subject: Re: Blast them next timeMessage-ID: <cntrspyC5srr8.68p@netcom.com>Organization: NETCOM On-line Communication Services (408 241-9760 guest)X-Newsreader: TIN [version 1.1 PL6]References: <1r19l9$7dv@usenet.INS.CWRU.Edu>Distribution: usaDate: Tue, 20 Apr 1993 19:35:31 GMTLines: 32///////   And we thought the unfortunate people in the Branch Dividians were          Brainwashed ??  They don't hold a candle to this guy......D:d:wqB///////////////////////////////////Daniel Oldham (oldham@ces.cwru.edu) wrote:: What happened in Waco is not the fault of the BATF. If they would of: had the proper equipment and personal then they could of captured the: compound on the initial assault and none of this would of happened.: : The BATF needs more people, better weapons and more armored: transports. When they meet hostile fire they should be able to use: more force instead of retreating to a stand off. If you are going to: do a job then do it right. The BATF is there to protect us and they: must have the proper equipment and people to do the job.: : With the WoD and the increased crime in the streets the BATF is needed: more now then ever. If they blast away a few good fokes then that is: the price we all have to pay for law and order in this country. Look: at all the good people that died in wars to protect this great country: of ours.: : With the arms build up in Waco they needed to hit that compound with: mega fire power. They could of gone in there blasting and killed a few: women and kids but it would of been better then letting them all burn: to death 51 days later.: \n",
      " --- \n"
     ]
    }
   ],
   "source": [
    "# Let's check three sample groups, their medoid documents, and two other closer documents.\n",
    "for i in [24, 48, 72]:\n",
    "    print('Group: %d' % i)\n",
    "    center = chosen_model.cluster_centers_[i]\n",
    "    group_points = data[chosen_model_labels == i]\n",
    "    group_doc_ids = ids[chosen_model_labels == i]\n",
    "\n",
    "    # Let's find the medoid and their closest points\n",
    "    distancesMatrix = pairwise_distances(group_points, metric='euclidean')\n",
    "    closest_to_medoid_indexes = np.argsort(distancesMatrix.sum(axis=0))\n",
    "    medoid_index = closest_to_medoid_indexes[0]\n",
    "\n",
    "    print(' - Medoid doc: {}'.format(group_doc_ids[medoid_index]))\n",
    "    print(loadDocument(group_doc_ids[medoid_index]))\n",
    "    print(' - ')\n",
    "    print(' -- Closest to medoid doc: {}'.format(group_doc_ids[closest_to_medoid_indexes[1]]))\n",
    "    print(loadDocument(group_doc_ids[closest_to_medoid_indexes[1]]))\n",
    "    print(' -- ')\n",
    "    print(' --- Second closest to medoid doc: {}'.format(group_doc_ids[closest_to_medoid_indexes[2]]))\n",
    "    print(loadDocument(group_doc_ids[closest_to_medoid_indexes[2]]))\n",
    "    print(' --- ')"
   ]
  }
 ],
 "metadata": {
  "kernelspec": {
   "display_name": "Python 2",
   "language": "python",
   "name": "python2"
  },
  "language_info": {
   "codemirror_mode": {
    "name": "ipython",
    "version": 2
   },
   "file_extension": ".py",
   "mimetype": "text/x-python",
   "name": "python",
   "nbconvert_exporter": "python",
   "pygments_lexer": "ipython2",
   "version": "2.7.13"
  }
 },
 "nbformat": 4,
 "nbformat_minor": 2
}
