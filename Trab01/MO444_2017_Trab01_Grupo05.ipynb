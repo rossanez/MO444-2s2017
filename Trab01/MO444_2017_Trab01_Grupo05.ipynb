{
 "cells": [
  {
   "cell_type": "code",
   "execution_count": 2,
   "metadata": {
    "collapsed": false
   },
   "outputs": [],
   "source": [
    "# MO444 2s/2017 - First assignment\n",
    "#\n",
    "#         Group 05\n",
    "#\n",
    "# - Anderson Rossanez (124136)\n",
    "# - Bruno Branta Lopes (31470)\n",
    "#\n",
    "\n",
    "# Plotting inline instead of opening an outer window.\n",
    "%matplotlib inline\n",
    "\n",
    "# Imports\n",
    "import matplotlib.pyplot as plt\n",
    "import numpy as np\n",
    "import pandas as pd\n",
    "from math import sqrt\n",
    "from sklearn import preprocessing\n",
    "from sklearn.decomposition import PCA\n",
    "from sklearn.linear_model import LinearRegression\n",
    "from sklearn.metrics import mean_squared_error\n",
    "from sklearn.model_selection import train_test_split\n",
    "from sklearn.pipeline import make_pipeline\n",
    "from sklearn.preprocessing import PolynomialFeatures\n",
    "from sklearn.linear_model import Ridge\n",
    "\n",
    "# Defines\n",
    "years = range(1922, 2011)\n",
    "\n",
    "# Functions\n",
    "def load_data(filename):\n",
    "    raw_data = open(filename, 'rt')\n",
    "    data = np.loadtxt(raw_data, delimiter=\",\")\n",
    "    return data\n",
    "\n",
    "def split_Y_X(dataset):\n",
    "    Y = dataset[:,0]\n",
    "    X = dataset[:,1:]\n",
    "    return Y, X\n",
    "\n",
    "def get_errors_by_year(model, data_Y, data_X):\n",
    "    errors = []\n",
    "    for y in years:\n",
    "        filt = data_Y == y\n",
    "        if not sum(filt):\n",
    "            errors.append(0)\n",
    "            continue\n",
    "        errors.append(mean_squared_error(data_Y[filt], lr_normalized_model.predict(data_X[filt])))\n",
    "    return errors"
   ]
  },
  {
   "cell_type": "code",
   "execution_count": 4,
   "metadata": {
    "collapsed": false
   },
   "outputs": [
    {
     "name": "stdout",
     "output_type": "stream",
     "text": [
      "Training data size: 463715\n"
     ]
    }
   ],
   "source": [
    "# load training data\n",
    "data = load_data('year-prediction-msd-train.txt')\n",
    "\n",
    "print('Training data size: {}'.format(len(data)))"
   ]
  },
  {
   "cell_type": "code",
   "execution_count": 5,
   "metadata": {
    "collapsed": false,
    "scrolled": true
   },
   "outputs": [
    {
     "data": {
      "text/html": [
       "<div>\n",
       "<table border=\"1\" class=\"dataframe\">\n",
       "  <thead>\n",
       "    <tr style=\"text-align: right;\">\n",
       "      <th></th>\n",
       "      <th>0</th>\n",
       "      <th>1</th>\n",
       "      <th>2</th>\n",
       "      <th>3</th>\n",
       "      <th>4</th>\n",
       "      <th>5</th>\n",
       "      <th>6</th>\n",
       "      <th>7</th>\n",
       "      <th>8</th>\n",
       "      <th>9</th>\n",
       "      <th>...</th>\n",
       "      <th>81</th>\n",
       "      <th>82</th>\n",
       "      <th>83</th>\n",
       "      <th>84</th>\n",
       "      <th>85</th>\n",
       "      <th>86</th>\n",
       "      <th>87</th>\n",
       "      <th>88</th>\n",
       "      <th>89</th>\n",
       "      <th>90</th>\n",
       "    </tr>\n",
       "  </thead>\n",
       "  <tbody>\n",
       "    <tr>\n",
       "      <th>0</th>\n",
       "      <td>2004.0</td>\n",
       "      <td>46.50128</td>\n",
       "      <td>-18.37096</td>\n",
       "      <td>58.89824</td>\n",
       "      <td>27.28181</td>\n",
       "      <td>1.93097</td>\n",
       "      <td>-2.43167</td>\n",
       "      <td>18.64843</td>\n",
       "      <td>-5.62769</td>\n",
       "      <td>-1.47711</td>\n",
       "      <td>...</td>\n",
       "      <td>43.94716</td>\n",
       "      <td>-64.21148</td>\n",
       "      <td>13.04284</td>\n",
       "      <td>156.03785</td>\n",
       "      <td>-2.42670</td>\n",
       "      <td>51.71977</td>\n",
       "      <td>-43.56703</td>\n",
       "      <td>10.63735</td>\n",
       "      <td>24.08962</td>\n",
       "      <td>-21.41886</td>\n",
       "    </tr>\n",
       "    <tr>\n",
       "      <th>1</th>\n",
       "      <td>2005.0</td>\n",
       "      <td>41.46015</td>\n",
       "      <td>-52.30140</td>\n",
       "      <td>-4.59825</td>\n",
       "      <td>-19.28084</td>\n",
       "      <td>-11.85844</td>\n",
       "      <td>-19.54192</td>\n",
       "      <td>1.30306</td>\n",
       "      <td>-1.83185</td>\n",
       "      <td>5.98469</td>\n",
       "      <td>...</td>\n",
       "      <td>-13.48435</td>\n",
       "      <td>-154.65715</td>\n",
       "      <td>35.22429</td>\n",
       "      <td>89.53649</td>\n",
       "      <td>-3.13145</td>\n",
       "      <td>-128.28120</td>\n",
       "      <td>89.97277</td>\n",
       "      <td>-15.88139</td>\n",
       "      <td>-75.21074</td>\n",
       "      <td>-0.51139</td>\n",
       "    </tr>\n",
       "    <tr>\n",
       "      <th>2</th>\n",
       "      <td>2009.0</td>\n",
       "      <td>42.18667</td>\n",
       "      <td>-85.65863</td>\n",
       "      <td>-7.91506</td>\n",
       "      <td>-11.84193</td>\n",
       "      <td>-12.61959</td>\n",
       "      <td>-21.66749</td>\n",
       "      <td>4.97883</td>\n",
       "      <td>-11.86750</td>\n",
       "      <td>9.87342</td>\n",
       "      <td>...</td>\n",
       "      <td>42.08584</td>\n",
       "      <td>-181.77349</td>\n",
       "      <td>43.00181</td>\n",
       "      <td>87.94977</td>\n",
       "      <td>-13.70362</td>\n",
       "      <td>136.49979</td>\n",
       "      <td>140.32633</td>\n",
       "      <td>11.51422</td>\n",
       "      <td>382.79589</td>\n",
       "      <td>29.98269</td>\n",
       "    </tr>\n",
       "    <tr>\n",
       "      <th>3</th>\n",
       "      <td>1987.0</td>\n",
       "      <td>46.90244</td>\n",
       "      <td>19.86314</td>\n",
       "      <td>10.92119</td>\n",
       "      <td>4.87136</td>\n",
       "      <td>-41.17499</td>\n",
       "      <td>-19.84156</td>\n",
       "      <td>2.93308</td>\n",
       "      <td>-5.98711</td>\n",
       "      <td>3.05997</td>\n",
       "      <td>...</td>\n",
       "      <td>-2.76407</td>\n",
       "      <td>-20.31782</td>\n",
       "      <td>-75.24506</td>\n",
       "      <td>125.81801</td>\n",
       "      <td>-15.50828</td>\n",
       "      <td>-63.31002</td>\n",
       "      <td>-142.21937</td>\n",
       "      <td>-12.36699</td>\n",
       "      <td>32.45911</td>\n",
       "      <td>-17.14909</td>\n",
       "    </tr>\n",
       "    <tr>\n",
       "      <th>4</th>\n",
       "      <td>2009.0</td>\n",
       "      <td>46.64388</td>\n",
       "      <td>-81.99503</td>\n",
       "      <td>41.62851</td>\n",
       "      <td>3.65855</td>\n",
       "      <td>-9.38201</td>\n",
       "      <td>-13.51749</td>\n",
       "      <td>7.48781</td>\n",
       "      <td>-7.03302</td>\n",
       "      <td>7.06982</td>\n",
       "      <td>...</td>\n",
       "      <td>12.29244</td>\n",
       "      <td>-143.25348</td>\n",
       "      <td>91.15842</td>\n",
       "      <td>-227.85481</td>\n",
       "      <td>7.75916</td>\n",
       "      <td>-41.32376</td>\n",
       "      <td>-225.66526</td>\n",
       "      <td>-4.05081</td>\n",
       "      <td>455.39458</td>\n",
       "      <td>41.65310</td>\n",
       "    </tr>\n",
       "  </tbody>\n",
       "</table>\n",
       "<p>5 rows × 91 columns</p>\n",
       "</div>"
      ],
      "text/plain": [
       "       0         1         2         3         4         5         6   \\\n",
       "0  2004.0  46.50128 -18.37096  58.89824  27.28181   1.93097  -2.43167   \n",
       "1  2005.0  41.46015 -52.30140  -4.59825 -19.28084 -11.85844 -19.54192   \n",
       "2  2009.0  42.18667 -85.65863  -7.91506 -11.84193 -12.61959 -21.66749   \n",
       "3  1987.0  46.90244  19.86314  10.92119   4.87136 -41.17499 -19.84156   \n",
       "4  2009.0  46.64388 -81.99503  41.62851   3.65855  -9.38201 -13.51749   \n",
       "\n",
       "         7         8        9     ...           81         82        83  \\\n",
       "0  18.64843  -5.62769 -1.47711    ...     43.94716  -64.21148  13.04284   \n",
       "1   1.30306  -1.83185  5.98469    ...    -13.48435 -154.65715  35.22429   \n",
       "2   4.97883 -11.86750  9.87342    ...     42.08584 -181.77349  43.00181   \n",
       "3   2.93308  -5.98711  3.05997    ...     -2.76407  -20.31782 -75.24506   \n",
       "4   7.48781  -7.03302  7.06982    ...     12.29244 -143.25348  91.15842   \n",
       "\n",
       "          84        85         86         87        88         89        90  \n",
       "0  156.03785  -2.42670   51.71977  -43.56703  10.63735   24.08962 -21.41886  \n",
       "1   89.53649  -3.13145 -128.28120   89.97277 -15.88139  -75.21074  -0.51139  \n",
       "2   87.94977 -13.70362  136.49979  140.32633  11.51422  382.79589  29.98269  \n",
       "3  125.81801 -15.50828  -63.31002 -142.21937 -12.36699   32.45911 -17.14909  \n",
       "4 -227.85481   7.75916  -41.32376 -225.66526  -4.05081  455.39458  41.65310  \n",
       "\n",
       "[5 rows x 91 columns]"
      ]
     },
     "execution_count": 5,
     "metadata": {},
     "output_type": "execute_result"
    }
   ],
   "source": [
    "# Take a look at the data (5 first instances):\n",
    "# - first column (index 0) is the song release year\n",
    "# - remaining columns are the the features (indexes 1 - 90)\n",
    "data_frame = pd.DataFrame(data)\n",
    "data_frame.head(5)"
   ]
  },
  {
   "cell_type": "code",
   "execution_count": 6,
   "metadata": {
    "collapsed": false
   },
   "outputs": [
    {
     "name": "stdout",
     "output_type": "stream",
     "text": [
      "Train data size: 370972\n",
      "Validation data size: 92743\n"
     ]
    }
   ],
   "source": [
    "# split train data into training/validation (80/20)\n",
    "train_data, validation_data = train_test_split(data, test_size=0.2)\n",
    "\n",
    "print('Train data size: {}'.format(len(train_data)))\n",
    "print('Validation data size: {}'.format(len(validation_data)))"
   ]
  },
  {
   "cell_type": "code",
   "execution_count": 7,
   "metadata": {
    "collapsed": false
   },
   "outputs": [
    {
     "name": "stdout",
     "output_type": "stream",
     "text": [
      "Test data size: 36285\n"
     ]
    }
   ],
   "source": [
    "# load test data\n",
    "test_data = load_data('year-prediction-msd-test.txt')\n",
    "\n",
    "print('Test data size: {}'.format(len(test_data)))"
   ]
  },
  {
   "cell_type": "code",
   "execution_count": 8,
   "metadata": {
    "collapsed": true
   },
   "outputs": [],
   "source": [
    "# Split label (years) and features\n",
    "train_data_Y, train_data_X = split_Y_X(train_data)\n",
    "validation_data_Y, validation_data_X = split_Y_X(validation_data)\n",
    "test_data_Y, test_data_X = split_Y_X(test_data)"
   ]
  },
  {
   "cell_type": "code",
   "execution_count": 9,
   "metadata": {
    "collapsed": false
   },
   "outputs": [
    {
     "name": "stdout",
     "output_type": "stream",
     "text": [
      "Number of coefficients: 90\n",
      "Coefficients: [  8.73761954e-01  -5.62013429e-02  -4.36434756e-02   4.69791720e-03\n",
      "  -1.44198284e-02  -2.22784352e-01  -7.15505961e-03  -1.03444413e-01\n",
      "  -6.97770165e-02   2.79472863e-02  -1.64560074e-01  -1.13605225e-03\n",
      "   4.76730581e-02   3.62217257e-04  -4.44348437e-04   6.17345678e-04\n",
      "   4.23125307e-04   1.43549861e-03   1.92739814e-03   2.20694992e-03\n",
      "   8.49664766e-04  -7.17117905e-04   7.66714697e-03   2.68963644e-03\n",
      "  -3.60464348e-03   2.54337942e-05   1.55455433e-03   5.36401753e-04\n",
      "   9.53908895e-04  -3.61972691e-04  -1.26423439e-03  -1.29143378e-03\n",
      "  -5.56624558e-03   2.82348202e-03   1.58065988e-03  -5.34990250e-03\n",
      "  -2.28545635e-04   6.76873412e-04   1.44052757e-03  -1.78487302e-03\n",
      "  -2.02034018e-03  -6.27568385e-04  -1.44522040e-03  -2.14635019e-03\n",
      "  -3.27406261e-03   7.15648639e-03   4.94937896e-04  -2.05550822e-03\n",
      "   3.43664234e-04   2.20599865e-03   3.36722170e-04  -2.08436554e-03\n",
      "   1.68877430e-03   2.23501664e-04  -5.34151883e-04   1.51347837e-04\n",
      "  -1.85755274e-03   1.92646702e-03  -1.16404585e-03   3.15659446e-04\n",
      "  -3.30205960e-03  -1.84514412e-03  -7.87561485e-03   1.11352272e-03\n",
      "  -2.15235542e-03   6.75173072e-04  -3.48116987e-04  -5.71687501e-04\n",
      "  -4.19441151e-03  -4.99065071e-03  -1.03242196e-03   2.86253096e-04\n",
      "   6.68528067e-04   4.02271608e-03   2.84472456e-03   1.55225191e-02\n",
      "   2.18626916e-04  -4.47249849e-03  -1.99916651e-04  -2.13643674e-04\n",
      "  -9.85012112e-04  -7.01825530e-04   1.57271507e-03   1.06296955e-03\n",
      "   2.71811785e-02   3.64315283e-05   1.12569710e-03  -3.18141407e-02\n",
      "  -1.33504360e-03  -1.59486316e-03]\n"
     ]
    }
   ],
   "source": [
    "# Create a baseline linear regression model and train it\n",
    "lr_base_model = LinearRegression(copy_X=True)\n",
    "lr_base_model.fit(train_data_X, train_data_Y)\n",
    "\n",
    "print('Number of coefficients: {}'.format(len(lr_base_model.coef_)))\n",
    "print('Coefficients: {}'.format(lr_base_model.coef_))"
   ]
  },
  {
   "cell_type": "code",
   "execution_count": 10,
   "metadata": {
    "collapsed": false
   },
   "outputs": [
    {
     "name": "stdout",
     "output_type": "stream",
     "text": [
      "Actual: [ 1991.  2002.  2008.  1969.  2002.]\n",
      "Predicted: [ 1998.73359124  2000.7755904   1995.90434281  1988.06996934  2000.35008494]\n"
     ]
    }
   ],
   "source": [
    "# A quick comparison on some instances of the validation data with the predicted values...\n",
    "print('Actual: {}'.format(validation_data_Y[0:5]))\n",
    "print('Predicted: {}'.format(lr_base_model.predict(validation_data_X)[0:5]))"
   ]
  },
  {
   "cell_type": "code",
   "execution_count": 11,
   "metadata": {
    "collapsed": false
   },
   "outputs": [
    {
     "name": "stdout",
     "output_type": "stream",
     "text": [
      "Training mean squared error: 91.348420726\n",
      "Training root mean squared error: 9.55763677516\n",
      "Validation mean squared error: 90.9216323546\n",
      "Validation root mean squared error: 9.53528354873\n"
     ]
    }
   ],
   "source": [
    "# ... and the errors\n",
    "mean_sq_error_training = mean_squared_error(train_data_Y, lr_base_model.predict(train_data_X))\n",
    "print('Training mean squared error: {}'.format(mean_sq_error_training))\n",
    "print('Training root mean squared error: {}'.format(sqrt(mean_sq_error_training)))\n",
    "\n",
    "mean_sq_error_validation = mean_squared_error(validation_data_Y, lr_base_model.predict(validation_data_X))\n",
    "print('Validation mean squared error: {}'.format(mean_sq_error_validation))\n",
    "print('Validation root mean squared error: {}'.format(sqrt(mean_sq_error_validation)))"
   ]
  },
  {
   "cell_type": "code",
   "execution_count": 12,
   "metadata": {
    "collapsed": false
   },
   "outputs": [
    {
     "data": {
      "text/plain": [
       "LinearRegression(copy_X=True, fit_intercept=True, n_jobs=1, normalize=True)"
      ]
     },
     "execution_count": 12,
     "metadata": {},
     "output_type": "execute_result"
    }
   ],
   "source": [
    "# LR-based alternative #1: Data normalization\n",
    "lr_normalized_model = LinearRegression(copy_X=True, fit_intercept=True, normalize=True)\n",
    "\n",
    "lr_normalized_model.fit(train_data_X, train_data_Y )"
   ]
  },
  {
   "cell_type": "code",
   "execution_count": 13,
   "metadata": {
    "collapsed": false
   },
   "outputs": [
    {
     "name": "stdout",
     "output_type": "stream",
     "text": [
      "Training mean squared error: 91.348420726\n",
      "Training root mean squared error: 9.55763677516\n",
      "Validation mean squared error: 90.9216323546\n",
      "Validation root mean squared error: 9.53528354873\n"
     ]
    }
   ],
   "source": [
    "# Check the model errors\n",
    "mean_sq_error_training = mean_squared_error(train_data_Y, lr_normalized_model.predict(train_data_X))\n",
    "print('Training mean squared error: {}'.format(mean_sq_error_training))\n",
    "print('Training root mean squared error: {}'.format(sqrt(mean_sq_error_training)))\n",
    "\n",
    "mean_sq_error_validation = mean_squared_error(validation_data_Y, lr_normalized_model.predict(validation_data_X))\n",
    "print('Validation mean squared error: {}'.format(mean_sq_error_validation))\n",
    "print('Validation root mean squared error: {}'.format(sqrt(mean_sq_error_validation)))"
   ]
  },
  {
   "cell_type": "code",
   "execution_count": 14,
   "metadata": {
    "collapsed": true
   },
   "outputs": [],
   "source": [
    "errors = get_errors_by_year(lr_normalized_model, validation_data_Y, validation_data_X)"
   ]
  },
  {
   "cell_type": "code",
   "execution_count": 15,
   "metadata": {
    "collapsed": false
   },
   "outputs": [
    {
     "data": {
      "image/png": "[encoded data removed]",
      "text/plain": [
       "<matplotlib.figure.Figure at 0x7f587d34a750>"
      ]
     },
     "metadata": {},
     "output_type": "display_data"
    }
   ],
   "source": [
    "plt.plot(years, errors, color='blue', linewidth=3)\n",
    "plt.show()"
   ]
  },
  {
   "cell_type": "code",
   "execution_count": 16,
   "metadata": {
    "collapsed": false
   },
   "outputs": [
    {
     "data": {
      "image/png": "[encoded data removed]",
      "text/plain": [
       "<matplotlib.figure.Figure at 0x7f587d31a690>"
      ]
     },
     "metadata": {},
     "output_type": "display_data"
    },
    {
     "name": "stdout",
     "output_type": "stream",
     "text": [
      "[ 0.11504535  0.07799664  0.05923341  0.04195375  0.03761853  0.02762768\n",
      "  0.0235397   0.02303566  0.0209643   0.02017574  0.01921639  0.01863954\n",
      "  0.01791861  0.01690376  0.0162133   0.01591044  0.01516858  0.01419348\n",
      "  0.01407504  0.01352483  0.01315167  0.01261401  0.01240065  0.01181871\n",
      "  0.01154532  0.01147421  0.01109765  0.01094632  0.0104502   0.01004713\n",
      "  0.00979675  0.00942697  0.00922417  0.00894515  0.00841984  0.00818797\n",
      "  0.00806678  0.00795871  0.00758832  0.00748722  0.0073499   0.00718998\n",
      "  0.00696962  0.00678939  0.00661265  0.00635874  0.00626905  0.00614749\n",
      "  0.00596449  0.00583227  0.0056785   0.00551245  0.00537488  0.00516524\n",
      "  0.00502003  0.00499209  0.00488393  0.00471201  0.00459782  0.00438487\n",
      "  0.00422267  0.00408918  0.00396993  0.00393204  0.00370845  0.00364742\n",
      "  0.00350808  0.00337719  0.00324524  0.00317106  0.00303261  0.0029366\n",
      "  0.0027463   0.00274209  0.0026088   0.00245694  0.00229077  0.00215667\n",
      "  0.00208664  0.00203619  0.001884    0.00175523  0.00155709  0.00139739\n",
      "  0.0013392   0.00126962  0.00097928  0.00093215  0.00085876  0.00065453]\n"
     ]
    }
   ],
   "source": [
    "# LR-based alternative #2: Feature reduction\n",
    "\n",
    "# Standardize the data\n",
    "std_train_data_X = preprocessing.scale(train_data_X)\n",
    "\n",
    "# Principal component analysis (PCA)\n",
    "pca = PCA(n_components=90).fit(std_train_data_X)\n",
    "plt.bar(range(0, 90), pca.explained_variance_ratio_)\n",
    "plt.xlabel('features')\n",
    "plt.ylabel('explained variance')\n",
    "plt.show()\n",
    "print(pca.explained_variance_ratio_)"
   ]
  },
  {
   "cell_type": "code",
   "execution_count": 17,
   "metadata": {
    "collapsed": false
   },
   "outputs": [
    {
     "data": {
      "image/png": "[encoded data removed]",
      "text/plain": [
       "<matplotlib.figure.Figure at 0x7f587ec5c810>"
      ]
     },
     "metadata": {},
     "output_type": "display_data"
    }
   ],
   "source": [
    "# First three PCA components plotted\n",
    "transformed_data = pca.transform(validation_data_X)\n",
    "plt.scatter(validation_data_Y, transformed_data[:,3], color='yellow', alpha=0.02)\n",
    "plt.scatter(validation_data_Y, transformed_data[:,2], color='red', alpha=0.02)\n",
    "plt.scatter(validation_data_Y, transformed_data[:,1], color='black', alpha=0.005)\n",
    "plt.show()"
   ]
  },
  {
   "cell_type": "code",
   "execution_count": 18,
   "metadata": {
    "collapsed": false
   },
   "outputs": [
    {
     "name": "stdout",
     "output_type": "stream",
     "text": [
      " 1 PCA components used: 10.94 10.91\n",
      "10 PCA components used: 10.67 10.64\n",
      "20 PCA components used: 10.58 10.56\n",
      "30 PCA components used: 10.46 10.42\n",
      "40 PCA components used: 10.41 10.37\n",
      "50 PCA components used: 10.30 10.27\n",
      "60 PCA components used: 10.25 10.21\n",
      "70 PCA components used: 10.21 10.17\n",
      "80 PCA components used:  9.98  9.94\n",
      "90 PCA components used:  9.56  9.54\n"
     ]
    }
   ],
   "source": [
    "for n_components in range(0, 91, 10):\n",
    "    n_components = n_components or 1\n",
    "    transformed_train_data_X = pca.transform(train_data_X)[:,range(0, n_components)]\n",
    "\n",
    "    lr_pca_model = LinearRegression(copy_X=True)\n",
    "    lr_pca_model.fit(transformed_train_data_X, train_data_Y)\n",
    "\n",
    "    mean_sq_error_training = mean_squared_error(train_data_Y, lr_pca_model.predict(transformed_train_data_X))\n",
    "    \n",
    "    transformed_validation_data_X = pca.transform(validation_data_X)[:,range(0, n_components)]\n",
    "    mean_sq_error_validation = mean_squared_error(validation_data_Y, lr_pca_model.predict(transformed_validation_data_X))\n",
    "\n",
    "    print '%2d PCA components used: %5.2f %5.2f' % (n_components, sqrt(mean_sq_error_training), sqrt(mean_sq_error_validation))\n"
   ]
  },
  {
   "cell_type": "code",
   "execution_count": 28,
   "metadata": {
    "collapsed": false
   },
   "outputs": [
    {
     "name": "stdout",
     "output_type": "stream",
     "text": [
      "1 degrees: 10.69 10.66\n",
      "2 degrees: 10.61 10.58\n",
      "3 degrees: 10.55 10.55\n",
      "4 degrees: 10.50 10.88\n"
     ]
    }
   ],
   "source": [
    "# performs ridge regression for 1 to 4 degrees\n",
    "n_components = 7\n",
    "for degree in range(1, 5):\n",
    "    transformed_train_data_X = pca.transform(train_data_X)[:,range(0, n_components)]\n",
    "    model = make_pipeline(PolynomialFeatures(degree), Ridge())\n",
    "    # model = make_pipeline(PolynomialFeatures(degree), LinearRegression())\n",
    "    model.fit(transformed_train_data_X, train_data_Y)\n",
    "    \n",
    "    mean_sq_error_training = mean_squared_error(train_data_Y, model.predict(transformed_train_data_X))\n",
    "    \n",
    "    transformed_validation_data_X = pca.transform(validation_data_X)[:,range(0, n_components)]\n",
    "    mean_sq_error_validation = mean_squared_error(validation_data_Y, model.predict(transformed_validation_data_X))\n",
    "\n",
    "    print '%d degrees: %5.2f %5.2f' % (degree, sqrt(mean_sq_error_training), sqrt(mean_sq_error_validation))"
   ]
  },
  {
   "cell_type": "raw",
   "metadata": {},
   "source": []
  }
 ],
 "metadata": {
  "kernelspec": {
   "display_name": "Python 2",
   "language": "python",
   "name": "python2"
  },
  "language_info": {
   "codemirror_mode": {
    "name": "ipython",
    "version": 2
   },
   "file_extension": ".py",
   "mimetype": "text/x-python",
   "name": "python",
   "nbconvert_exporter": "python",
   "pygments_lexer": "ipython2",
   "version": "2.7.13"
  }
 },
 "nbformat": 4,
 "nbformat_minor": 2
}
