{
 "cells": [
  {
   "cell_type": "code",
   "execution_count": 1,
   "metadata": {
    "collapsed": true
   },
   "outputs": [],
   "source": [
    "# MO444 2s/2017 - First assignment\n",
    "#\n",
    "#         Group 05\n",
    "#\n",
    "# - Anderson Rossanez (124136)\n",
    "# - Bruno Branta Lopes (31470)\n",
    "#\n",
    "\n",
    "# Plotting inline instead of opening an outer window.\n",
    "%matplotlib inline\n",
    "\n",
    "# Imports\n",
    "import matplotlib.pyplot as plt\n",
    "import numpy as np\n",
    "import pandas as pd\n",
    "from math import sqrt\n",
    "from sklearn import preprocessing\n",
    "from sklearn.decomposition import PCA\n",
    "from sklearn.linear_model import LinearRegression\n",
    "from sklearn.metrics import mean_squared_error\n",
    "from sklearn.model_selection import train_test_split\n",
    "\n",
    "# Defines\n",
    "years = range(1922, 2011)\n",
    "\n",
    "# Functions\n",
    "def load_data(filename):\n",
    "    raw_data = open(filename, 'rt')\n",
    "    data = np.loadtxt(raw_data, delimiter=\",\")\n",
    "    return data\n",
    "\n",
    "def split_Y_X(dataset):\n",
    "    Y = dataset[:,0]\n",
    "    X = dataset[:,1:]\n",
    "    return Y, X\n",
    "\n",
    "def get_errors_by_year(model, data_Y, data_X):\n",
    "    errors = []\n",
    "    for y in years:\n",
    "        filt = data_Y == y\n",
    "        if not sum(filt):\n",
    "            errors.append(0)\n",
    "            continue\n",
    "        errors.append(mean_squared_error(data_Y[filt], lr_normalized_model.predict(data_X[filt])))\n",
    "    return errors"
   ]
  },
  {
   "cell_type": "code",
   "execution_count": 2,
   "metadata": {},
   "outputs": [
    {
     "name": "stdout",
     "output_type": "stream",
     "text": [
      "Training data size: 463715\n"
     ]
    }
   ],
   "source": [
    "# load training data\n",
    "data = load_data('year-prediction-msd-train.txt')\n",
    "\n",
    "print('Training data size: {}'.format(len(data)))"
   ]
  },
  {
   "cell_type": "code",
   "execution_count": 3,
   "metadata": {
    "scrolled": true
   },
   "outputs": [
    {
     "data": {
      "text/html": [
       "<div>\n",
       "<style>\n",
       "    .dataframe thead tr:only-child th {\n",
       "        text-align: right;\n",
       "    }\n",
       "\n",
       "    .dataframe thead th {\n",
       "        text-align: left;\n",
       "    }\n",
       "\n",
       "    .dataframe tbody tr th {\n",
       "        vertical-align: top;\n",
       "    }\n",
       "</style>\n",
       "<table border=\"1\" class=\"dataframe\">\n",
       "  <thead>\n",
       "    <tr style=\"text-align: right;\">\n",
       "      <th></th>\n",
       "      <th>0</th>\n",
       "      <th>1</th>\n",
       "      <th>2</th>\n",
       "      <th>3</th>\n",
       "      <th>4</th>\n",
       "      <th>5</th>\n",
       "      <th>6</th>\n",
       "      <th>7</th>\n",
       "      <th>8</th>\n",
       "      <th>9</th>\n",
       "      <th>...</th>\n",
       "      <th>81</th>\n",
       "      <th>82</th>\n",
       "      <th>83</th>\n",
       "      <th>84</th>\n",
       "      <th>85</th>\n",
       "      <th>86</th>\n",
       "      <th>87</th>\n",
       "      <th>88</th>\n",
       "      <th>89</th>\n",
       "      <th>90</th>\n",
       "    </tr>\n",
       "  </thead>\n",
       "  <tbody>\n",
       "    <tr>\n",
       "      <th>0</th>\n",
       "      <td>2004.0</td>\n",
       "      <td>46.50128</td>\n",
       "      <td>-18.37096</td>\n",
       "      <td>58.89824</td>\n",
       "      <td>27.28181</td>\n",
       "      <td>1.93097</td>\n",
       "      <td>-2.43167</td>\n",
       "      <td>18.64843</td>\n",
       "      <td>-5.62769</td>\n",
       "      <td>-1.47711</td>\n",
       "      <td>...</td>\n",
       "      <td>43.94716</td>\n",
       "      <td>-64.21148</td>\n",
       "      <td>13.04284</td>\n",
       "      <td>156.03785</td>\n",
       "      <td>-2.42670</td>\n",
       "      <td>51.71977</td>\n",
       "      <td>-43.56703</td>\n",
       "      <td>10.63735</td>\n",
       "      <td>24.08962</td>\n",
       "      <td>-21.41886</td>\n",
       "    </tr>\n",
       "    <tr>\n",
       "      <th>1</th>\n",
       "      <td>2005.0</td>\n",
       "      <td>41.46015</td>\n",
       "      <td>-52.30140</td>\n",
       "      <td>-4.59825</td>\n",
       "      <td>-19.28084</td>\n",
       "      <td>-11.85844</td>\n",
       "      <td>-19.54192</td>\n",
       "      <td>1.30306</td>\n",
       "      <td>-1.83185</td>\n",
       "      <td>5.98469</td>\n",
       "      <td>...</td>\n",
       "      <td>-13.48435</td>\n",
       "      <td>-154.65715</td>\n",
       "      <td>35.22429</td>\n",
       "      <td>89.53649</td>\n",
       "      <td>-3.13145</td>\n",
       "      <td>-128.28120</td>\n",
       "      <td>89.97277</td>\n",
       "      <td>-15.88139</td>\n",
       "      <td>-75.21074</td>\n",
       "      <td>-0.51139</td>\n",
       "    </tr>\n",
       "    <tr>\n",
       "      <th>2</th>\n",
       "      <td>2009.0</td>\n",
       "      <td>42.18667</td>\n",
       "      <td>-85.65863</td>\n",
       "      <td>-7.91506</td>\n",
       "      <td>-11.84193</td>\n",
       "      <td>-12.61959</td>\n",
       "      <td>-21.66749</td>\n",
       "      <td>4.97883</td>\n",
       "      <td>-11.86750</td>\n",
       "      <td>9.87342</td>\n",
       "      <td>...</td>\n",
       "      <td>42.08584</td>\n",
       "      <td>-181.77349</td>\n",
       "      <td>43.00181</td>\n",
       "      <td>87.94977</td>\n",
       "      <td>-13.70362</td>\n",
       "      <td>136.49979</td>\n",
       "      <td>140.32633</td>\n",
       "      <td>11.51422</td>\n",
       "      <td>382.79589</td>\n",
       "      <td>29.98269</td>\n",
       "    </tr>\n",
       "    <tr>\n",
       "      <th>3</th>\n",
       "      <td>1987.0</td>\n",
       "      <td>46.90244</td>\n",
       "      <td>19.86314</td>\n",
       "      <td>10.92119</td>\n",
       "      <td>4.87136</td>\n",
       "      <td>-41.17499</td>\n",
       "      <td>-19.84156</td>\n",
       "      <td>2.93308</td>\n",
       "      <td>-5.98711</td>\n",
       "      <td>3.05997</td>\n",
       "      <td>...</td>\n",
       "      <td>-2.76407</td>\n",
       "      <td>-20.31782</td>\n",
       "      <td>-75.24506</td>\n",
       "      <td>125.81801</td>\n",
       "      <td>-15.50828</td>\n",
       "      <td>-63.31002</td>\n",
       "      <td>-142.21937</td>\n",
       "      <td>-12.36699</td>\n",
       "      <td>32.45911</td>\n",
       "      <td>-17.14909</td>\n",
       "    </tr>\n",
       "    <tr>\n",
       "      <th>4</th>\n",
       "      <td>2009.0</td>\n",
       "      <td>46.64388</td>\n",
       "      <td>-81.99503</td>\n",
       "      <td>41.62851</td>\n",
       "      <td>3.65855</td>\n",
       "      <td>-9.38201</td>\n",
       "      <td>-13.51749</td>\n",
       "      <td>7.48781</td>\n",
       "      <td>-7.03302</td>\n",
       "      <td>7.06982</td>\n",
       "      <td>...</td>\n",
       "      <td>12.29244</td>\n",
       "      <td>-143.25348</td>\n",
       "      <td>91.15842</td>\n",
       "      <td>-227.85481</td>\n",
       "      <td>7.75916</td>\n",
       "      <td>-41.32376</td>\n",
       "      <td>-225.66526</td>\n",
       "      <td>-4.05081</td>\n",
       "      <td>455.39458</td>\n",
       "      <td>41.65310</td>\n",
       "    </tr>\n",
       "  </tbody>\n",
       "</table>\n",
       "<p>5 rows × 91 columns</p>\n",
       "</div>"
      ],
      "text/plain": [
       "       0         1         2         3         4         5         6   \\\n",
       "0  2004.0  46.50128 -18.37096  58.89824  27.28181   1.93097  -2.43167   \n",
       "1  2005.0  41.46015 -52.30140  -4.59825 -19.28084 -11.85844 -19.54192   \n",
       "2  2009.0  42.18667 -85.65863  -7.91506 -11.84193 -12.61959 -21.66749   \n",
       "3  1987.0  46.90244  19.86314  10.92119   4.87136 -41.17499 -19.84156   \n",
       "4  2009.0  46.64388 -81.99503  41.62851   3.65855  -9.38201 -13.51749   \n",
       "\n",
       "         7         8        9     ...           81         82        83  \\\n",
       "0  18.64843  -5.62769 -1.47711    ...     43.94716  -64.21148  13.04284   \n",
       "1   1.30306  -1.83185  5.98469    ...    -13.48435 -154.65715  35.22429   \n",
       "2   4.97883 -11.86750  9.87342    ...     42.08584 -181.77349  43.00181   \n",
       "3   2.93308  -5.98711  3.05997    ...     -2.76407  -20.31782 -75.24506   \n",
       "4   7.48781  -7.03302  7.06982    ...     12.29244 -143.25348  91.15842   \n",
       "\n",
       "          84        85         86         87        88         89        90  \n",
       "0  156.03785  -2.42670   51.71977  -43.56703  10.63735   24.08962 -21.41886  \n",
       "1   89.53649  -3.13145 -128.28120   89.97277 -15.88139  -75.21074  -0.51139  \n",
       "2   87.94977 -13.70362  136.49979  140.32633  11.51422  382.79589  29.98269  \n",
       "3  125.81801 -15.50828  -63.31002 -142.21937 -12.36699   32.45911 -17.14909  \n",
       "4 -227.85481   7.75916  -41.32376 -225.66526  -4.05081  455.39458  41.65310  \n",
       "\n",
       "[5 rows x 91 columns]"
      ]
     },
     "execution_count": 3,
     "metadata": {},
     "output_type": "execute_result"
    }
   ],
   "source": [
    "# Take a look at the data (5 first instances):\n",
    "# - first column (index 0) is the song release year\n",
    "# - remaining columns are the the features (indexes 1 - 90)\n",
    "data_frame = pd.DataFrame(data)\n",
    "data_frame.head(5)"
   ]
  },
  {
   "cell_type": "code",
   "execution_count": 4,
   "metadata": {},
   "outputs": [
    {
     "name": "stdout",
     "output_type": "stream",
     "text": [
      "Train data size: 370972\n",
      "Validation data size: 92743\n"
     ]
    }
   ],
   "source": [
    "# split train data into training/validation (80/20)\n",
    "train_data, validation_data = train_test_split(data, test_size=0.2)\n",
    "\n",
    "print('Train data size: {}'.format(len(train_data)))\n",
    "print('Validation data size: {}'.format(len(validation_data)))"
   ]
  },
  {
   "cell_type": "code",
   "execution_count": 5,
   "metadata": {},
   "outputs": [
    {
     "name": "stdout",
     "output_type": "stream",
     "text": [
      "Test data size: 36285\n"
     ]
    }
   ],
   "source": [
    "# load test data\n",
    "test_data = load_data('year-prediction-msd-test.txt')\n",
    "\n",
    "print('Test data size: {}'.format(len(test_data)))"
   ]
  },
  {
   "cell_type": "code",
   "execution_count": 6,
   "metadata": {
    "collapsed": true
   },
   "outputs": [],
   "source": [
    "# Split label (years) and features\n",
    "train_data_Y, train_data_X = split_Y_X(train_data)\n",
    "validation_data_Y, validation_data_X = split_Y_X(validation_data)\n",
    "test_data_Y, test_data_X = split_Y_X(test_data)"
   ]
  },
  {
   "cell_type": "code",
   "execution_count": 7,
   "metadata": {},
   "outputs": [
    {
     "name": "stdout",
     "output_type": "stream",
     "text": [
      "Number of coefficients: 90\n",
      "Coefficients: [  8.68362336e-01  -5.53601200e-02  -4.32421558e-02   3.12649467e-03\n",
      "  -1.47915805e-02  -2.22409857e-01  -6.76643924e-03  -9.99249818e-02\n",
      "  -6.75141080e-02   2.23138148e-02  -1.59993155e-01  -3.24081407e-03\n",
      "   4.75440191e-02   3.48407129e-04  -4.37828574e-04   6.44440192e-04\n",
      "   4.23694306e-04   1.47740693e-03   1.99289850e-03   2.17999955e-03\n",
      "   7.47328467e-04  -4.53084953e-04   7.42070268e-03   2.71825258e-03\n",
      "  -3.62697846e-03   2.66799254e-05   1.60486739e-03   4.29848976e-04\n",
      "   9.39883398e-04  -2.77495090e-04  -1.23581749e-03  -1.12505550e-03\n",
      "  -5.42680219e-03   2.83479087e-03   1.45238543e-03  -5.23116322e-03\n",
      "  -2.58048731e-04   6.52293752e-04   1.39976859e-03  -1.67046225e-03\n",
      "  -2.05260300e-03  -8.39416921e-04  -1.43657081e-03  -2.25825380e-03\n",
      "  -3.38037912e-03   6.62446692e-03   4.44584019e-04  -2.04780150e-03\n",
      "   2.63787854e-04   2.15638891e-03   1.29745301e-04  -1.54378207e-03\n",
      "   1.83250176e-03  -8.17125933e-05  -1.94841054e-04   1.75896729e-04\n",
      "  -1.87382168e-03   1.81221537e-03  -1.22256707e-03   2.36224901e-04\n",
      "  -2.95166036e-03  -1.74140431e-03  -8.02997780e-03   1.13486029e-03\n",
      "  -1.99398974e-03   6.83540289e-04  -6.10059567e-05  -5.72657208e-04\n",
      "  -4.22356041e-03  -5.05067669e-03  -1.08473434e-03   3.26094572e-04\n",
      "   7.87862280e-04   4.26072069e-03   3.04830894e-03   1.47858044e-02\n",
      "   2.23832962e-04  -4.50369744e-03  -4.40708726e-05  -1.66051370e-04\n",
      "  -1.21679793e-03  -5.10166827e-04   1.44683859e-03   1.12546322e-03\n",
      "   2.85055302e-02  -4.19014736e-05   1.15383813e-03  -3.11780616e-02\n",
      "  -1.34855187e-03  -8.19874361e-04]\n"
     ]
    }
   ],
   "source": [
    "# Create a baseline linear regression model and train it\n",
    "lr_base_model = LinearRegression(copy_X=True)\n",
    "lr_base_model.fit(train_data_X, train_data_Y)\n",
    "\n",
    "print('Number of coefficients: {}'.format(len(lr_base_model.coef_)))\n",
    "print('Coefficients: {}'.format(lr_base_model.coef_))"
   ]
  },
  {
   "cell_type": "code",
   "execution_count": 8,
   "metadata": {},
   "outputs": [
    {
     "name": "stdout",
     "output_type": "stream",
     "text": [
      "Actual: [ 1984.  1995.  2000.  2005.  1994.]\n",
      "Predicted: [ 1993.15926757  1992.53608179  2005.17866244  2002.52609824  2003.41000027]\n"
     ]
    }
   ],
   "source": [
    "# A quick comparison on some instances of the validation data with the predicted values...\n",
    "print('Actual: {}'.format(validation_data_Y[0:5]))\n",
    "print('Predicted: {}'.format(lr_base_model.predict(validation_data_X)[0:5]))"
   ]
  },
  {
   "cell_type": "code",
   "execution_count": 9,
   "metadata": {},
   "outputs": [
    {
     "name": "stdout",
     "output_type": "stream",
     "text": [
      "Training mean squared error: 91.1081780528\n",
      "Training root mean squared error: 9.54506040069\n",
      "Validation mean squared error: 91.8713147926\n",
      "Validation root mean squared error: 9.58495251906\n"
     ]
    }
   ],
   "source": [
    "# ... and the errors\n",
    "mean_sq_error_training = mean_squared_error(train_data_Y, lr_base_model.predict(train_data_X))\n",
    "print('Training mean squared error: {}'.format(mean_sq_error_training))\n",
    "print('Training root mean squared error: {}'.format(sqrt(mean_sq_error_training)))\n",
    "\n",
    "mean_sq_error_validation = mean_squared_error(validation_data_Y, lr_base_model.predict(validation_data_X))\n",
    "print('Validation mean squared error: {}'.format(mean_sq_error_validation))\n",
    "print('Validation root mean squared error: {}'.format(sqrt(mean_sq_error_validation)))"
   ]
  },
  {
   "cell_type": "code",
   "execution_count": 10,
   "metadata": {},
   "outputs": [
    {
     "data": {
      "text/plain": [
       "LinearRegression(copy_X=True, fit_intercept=True, n_jobs=1, normalize=True)"
      ]
     },
     "execution_count": 10,
     "metadata": {},
     "output_type": "execute_result"
    }
   ],
   "source": [
    "# LR-based alternative #1: Data normalization\n",
    "lr_normalized_model = LinearRegression(copy_X=True, fit_intercept=True, normalize=True)\n",
    "\n",
    "lr_normalized_model.fit(train_data_X, train_data_Y )"
   ]
  },
  {
   "cell_type": "code",
   "execution_count": 11,
   "metadata": {},
   "outputs": [
    {
     "name": "stdout",
     "output_type": "stream",
     "text": [
      "Training mean squared error: 91.1081780528\n",
      "Training root mean squared error: 9.54506040069\n",
      "Validation mean squared error: 91.8713147926\n",
      "Validation root mean squared error: 9.58495251906\n"
     ]
    }
   ],
   "source": [
    "# Check the model errors\n",
    "mean_sq_error_training = mean_squared_error(train_data_Y, lr_normalized_model.predict(train_data_X))\n",
    "print('Training mean squared error: {}'.format(mean_sq_error_training))\n",
    "print('Training root mean squared error: {}'.format(sqrt(mean_sq_error_training)))\n",
    "\n",
    "mean_sq_error_validation = mean_squared_error(validation_data_Y, lr_normalized_model.predict(validation_data_X))\n",
    "print('Validation mean squared error: {}'.format(mean_sq_error_validation))\n",
    "print('Validation root mean squared error: {}'.format(sqrt(mean_sq_error_validation)))"
   ]
  },
  {
   "cell_type": "code",
   "execution_count": 12,
   "metadata": {
    "collapsed": true
   },
   "outputs": [],
   "source": [
    "errors = get_errors_by_year(lr_normalized_model, validation_data_Y, validation_data_X)"
   ]
  },
  {
   "cell_type": "code",
   "execution_count": 13,
   "metadata": {},
   "outputs": [
    {
     "data": {
      "image/png": "[encoded data removed]",
      "text/plain": [
       "<matplotlib.figure.Figure at 0x1108f31d0>"
      ]
     },
     "metadata": {},
     "output_type": "display_data"
    }
   ],
   "source": [
    "plt.plot(years, errors, color='blue', linewidth=3)\n",
    "plt.show()"
   ]
  },
  {
   "cell_type": "code",
   "execution_count": 14,
   "metadata": {},
   "outputs": [
    {
     "data": {
      "image/png": "[encoded data removed]",
      "text/plain": [
       "<matplotlib.figure.Figure at 0x10c8cf6d0>"
      ]
     },
     "metadata": {},
     "output_type": "display_data"
    },
    {
     "name": "stdout",
     "output_type": "stream",
     "text": [
      "[ 0.11502579  0.07780673  0.05921121  0.0420429   0.03763368  0.02771158\n",
      "  0.02356926  0.02312     0.02097993  0.02022033  0.01918517  0.01852486\n",
      "  0.01792806  0.01689605  0.01621485  0.01584486  0.01521974  0.01417114\n",
      "  0.01408747  0.01348408  0.01311325  0.01260508  0.01239947  0.01181061\n",
      "  0.01151809  0.01143042  0.0110792   0.01095811  0.01043951  0.01008167\n",
      "  0.00979649  0.00940818  0.00923819  0.00894588  0.00841908  0.00821621\n",
      "  0.00807725  0.00800846  0.00759519  0.00750208  0.00732474  0.00721514\n",
      "  0.00698072  0.00683141  0.00661533  0.00635163  0.0063076   0.00615224\n",
      "  0.00599383  0.00585205  0.00569939  0.00552042  0.00537793  0.00515239\n",
      "  0.00500485  0.00497395  0.0048823   0.00469898  0.00461112  0.00437902\n",
      "  0.00424417  0.00409299  0.0039596   0.0039253   0.00371707  0.00365122\n",
      "  0.00350435  0.00337291  0.00326353  0.00315944  0.0030273   0.00291436\n",
      "  0.00275624  0.00272856  0.00260112  0.0024664   0.00229237  0.0021526\n",
      "  0.00208456  0.00203464  0.0018798   0.00175739  0.00155142  0.00139844\n",
      "  0.00133156  0.00126803  0.00097212  0.00093317  0.000862    0.00065217]\n"
     ]
    }
   ],
   "source": [
    "# LR-based alternative #2: Feature reduction\n",
    "\n",
    "# Standardize the data\n",
    "std_train_data_X = preprocessing.scale(train_data_X)\n",
    "\n",
    "# Principal component analysis (PCA)\n",
    "pca = PCA(n_components=90).fit(std_train_data_X)\n",
    "plt.bar(range(0, 90), pca.explained_variance_ratio_)\n",
    "plt.xlabel('features')\n",
    "plt.ylabel('explained variance')\n",
    "plt.show()\n",
    "print(pca.explained_variance_ratio_)"
   ]
  }
 ],
 "metadata": {
  "kernelspec": {
   "display_name": "Python 2",
   "language": "python",
   "name": "python2"
  },
  "language_info": {
   "codemirror_mode": {
    "name": "ipython",
    "version": 2
   },
   "file_extension": ".py",
   "mimetype": "text/x-python",
   "name": "python",
   "nbconvert_exporter": "python",
   "pygments_lexer": "ipython2",
   "version": "2.7.10"
  }
 },
 "nbformat": 4,
 "nbformat_minor": 2
}
