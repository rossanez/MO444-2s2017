{
 "cells": [
  {
   "cell_type": "code",
   "execution_count": 1,
   "metadata": {
    "collapsed": true
   },
   "outputs": [],
   "source": [
    "# MO444-A 2s/2017 - First assignment\n",
    "#\n",
    "#         Group 05\n",
    "#\n",
    "# - Anderson Rossanez (124136)\n",
    "# - Bruno Branta Lopes (31470)\n",
    "#\n",
    "\n",
    "# Plotting inline instead of opening an outer window.\n",
    "%matplotlib inline\n",
    "\n",
    "# Imports\n",
    "import matplotlib.pyplot as plt\n",
    "import numpy as np\n",
    "import pandas as pd\n",
    "from math import sqrt\n",
    "from sklearn import preprocessing\n",
    "from sklearn.decomposition import PCA\n",
    "from sklearn.linear_model import LinearRegression\n",
    "from sklearn.linear_model import SGDRegressor\n",
    "from sklearn.metrics import mean_squared_error\n",
    "from sklearn.model_selection import train_test_split\n",
    "from sklearn.pipeline import make_pipeline\n",
    "from sklearn.preprocessing import PolynomialFeatures\n",
    "from sklearn.linear_model import Ridge\n",
    "\n",
    "# Defines\n",
    "years = range(1922, 2011)\n",
    "\n",
    "# Functions\n",
    "def load_data(filename):\n",
    "    raw_data = open(filename, 'rt')\n",
    "    data = np.loadtxt(raw_data, delimiter=\",\")\n",
    "    return data\n",
    "\n",
    "def split_Y_X(dataset):\n",
    "    Y = dataset[:,0]\n",
    "    X = dataset[:,1:]\n",
    "    return Y, X\n",
    "\n",
    "def get_errors_by_year(model, data_Y, data_X):\n",
    "    errors = []\n",
    "    for y in years:\n",
    "        filt = data_Y == y\n",
    "        if not sum(filt):\n",
    "            errors.append(0)\n",
    "            continue\n",
    "        errors.append(mean_squared_error(data_Y[filt], model.predict(data_X[filt])))\n",
    "    return errors"
   ]
  },
  {
   "cell_type": "code",
   "execution_count": 2,
   "metadata": {},
   "outputs": [
    {
     "name": "stdout",
     "output_type": "stream",
     "text": [
      "Training data size: 463715\n"
     ]
    }
   ],
   "source": [
    "# load training data\n",
    "data = load_data('year-prediction-msd-train.txt')\n",
    "\n",
    "print('Training data size: {}'.format(len(data)))"
   ]
  },
  {
   "cell_type": "code",
   "execution_count": 3,
   "metadata": {
    "scrolled": true
   },
   "outputs": [
    {
     "data": {
      "text/html": [
       "<div>\n",
       "<table border=\"1\" class=\"dataframe\">\n",
       "  <thead>\n",
       "    <tr style=\"text-align: right;\">\n",
       "      <th></th>\n",
       "      <th>0</th>\n",
       "      <th>1</th>\n",
       "      <th>2</th>\n",
       "      <th>3</th>\n",
       "      <th>4</th>\n",
       "      <th>5</th>\n",
       "      <th>6</th>\n",
       "      <th>7</th>\n",
       "      <th>8</th>\n",
       "      <th>9</th>\n",
       "      <th>...</th>\n",
       "      <th>81</th>\n",
       "      <th>82</th>\n",
       "      <th>83</th>\n",
       "      <th>84</th>\n",
       "      <th>85</th>\n",
       "      <th>86</th>\n",
       "      <th>87</th>\n",
       "      <th>88</th>\n",
       "      <th>89</th>\n",
       "      <th>90</th>\n",
       "    </tr>\n",
       "  </thead>\n",
       "  <tbody>\n",
       "    <tr>\n",
       "      <th>0</th>\n",
       "      <td>2004</td>\n",
       "      <td>46.50128</td>\n",
       "      <td>-18.37096</td>\n",
       "      <td>58.89824</td>\n",
       "      <td>27.28181</td>\n",
       "      <td>1.93097</td>\n",
       "      <td>-2.43167</td>\n",
       "      <td>18.64843</td>\n",
       "      <td>-5.62769</td>\n",
       "      <td>-1.47711</td>\n",
       "      <td>...</td>\n",
       "      <td>43.94716</td>\n",
       "      <td>-64.21148</td>\n",
       "      <td>13.04284</td>\n",
       "      <td>156.03785</td>\n",
       "      <td>-2.42670</td>\n",
       "      <td>51.71977</td>\n",
       "      <td>-43.56703</td>\n",
       "      <td>10.63735</td>\n",
       "      <td>24.08962</td>\n",
       "      <td>-21.41886</td>\n",
       "    </tr>\n",
       "    <tr>\n",
       "      <th>1</th>\n",
       "      <td>2005</td>\n",
       "      <td>41.46015</td>\n",
       "      <td>-52.30140</td>\n",
       "      <td>-4.59825</td>\n",
       "      <td>-19.28084</td>\n",
       "      <td>-11.85844</td>\n",
       "      <td>-19.54192</td>\n",
       "      <td>1.30306</td>\n",
       "      <td>-1.83185</td>\n",
       "      <td>5.98469</td>\n",
       "      <td>...</td>\n",
       "      <td>-13.48435</td>\n",
       "      <td>-154.65715</td>\n",
       "      <td>35.22429</td>\n",
       "      <td>89.53649</td>\n",
       "      <td>-3.13145</td>\n",
       "      <td>-128.28120</td>\n",
       "      <td>89.97277</td>\n",
       "      <td>-15.88139</td>\n",
       "      <td>-75.21074</td>\n",
       "      <td>-0.51139</td>\n",
       "    </tr>\n",
       "    <tr>\n",
       "      <th>2</th>\n",
       "      <td>2009</td>\n",
       "      <td>42.18667</td>\n",
       "      <td>-85.65863</td>\n",
       "      <td>-7.91506</td>\n",
       "      <td>-11.84193</td>\n",
       "      <td>-12.61959</td>\n",
       "      <td>-21.66749</td>\n",
       "      <td>4.97883</td>\n",
       "      <td>-11.86750</td>\n",
       "      <td>9.87342</td>\n",
       "      <td>...</td>\n",
       "      <td>42.08584</td>\n",
       "      <td>-181.77349</td>\n",
       "      <td>43.00181</td>\n",
       "      <td>87.94977</td>\n",
       "      <td>-13.70362</td>\n",
       "      <td>136.49979</td>\n",
       "      <td>140.32633</td>\n",
       "      <td>11.51422</td>\n",
       "      <td>382.79589</td>\n",
       "      <td>29.98269</td>\n",
       "    </tr>\n",
       "    <tr>\n",
       "      <th>3</th>\n",
       "      <td>1987</td>\n",
       "      <td>46.90244</td>\n",
       "      <td>19.86314</td>\n",
       "      <td>10.92119</td>\n",
       "      <td>4.87136</td>\n",
       "      <td>-41.17499</td>\n",
       "      <td>-19.84156</td>\n",
       "      <td>2.93308</td>\n",
       "      <td>-5.98711</td>\n",
       "      <td>3.05997</td>\n",
       "      <td>...</td>\n",
       "      <td>-2.76407</td>\n",
       "      <td>-20.31782</td>\n",
       "      <td>-75.24506</td>\n",
       "      <td>125.81801</td>\n",
       "      <td>-15.50828</td>\n",
       "      <td>-63.31002</td>\n",
       "      <td>-142.21937</td>\n",
       "      <td>-12.36699</td>\n",
       "      <td>32.45911</td>\n",
       "      <td>-17.14909</td>\n",
       "    </tr>\n",
       "    <tr>\n",
       "      <th>4</th>\n",
       "      <td>2009</td>\n",
       "      <td>46.64388</td>\n",
       "      <td>-81.99503</td>\n",
       "      <td>41.62851</td>\n",
       "      <td>3.65855</td>\n",
       "      <td>-9.38201</td>\n",
       "      <td>-13.51749</td>\n",
       "      <td>7.48781</td>\n",
       "      <td>-7.03302</td>\n",
       "      <td>7.06982</td>\n",
       "      <td>...</td>\n",
       "      <td>12.29244</td>\n",
       "      <td>-143.25348</td>\n",
       "      <td>91.15842</td>\n",
       "      <td>-227.85481</td>\n",
       "      <td>7.75916</td>\n",
       "      <td>-41.32376</td>\n",
       "      <td>-225.66526</td>\n",
       "      <td>-4.05081</td>\n",
       "      <td>455.39458</td>\n",
       "      <td>41.65310</td>\n",
       "    </tr>\n",
       "  </tbody>\n",
       "</table>\n",
       "<p>5 rows × 91 columns</p>\n",
       "</div>"
      ],
      "text/plain": [
       "     0         1         2         3         4         5         6         7   \\\n",
       "0  2004  46.50128 -18.37096  58.89824  27.28181   1.93097  -2.43167  18.64843   \n",
       "1  2005  41.46015 -52.30140  -4.59825 -19.28084 -11.85844 -19.54192   1.30306   \n",
       "2  2009  42.18667 -85.65863  -7.91506 -11.84193 -12.61959 -21.66749   4.97883   \n",
       "3  1987  46.90244  19.86314  10.92119   4.87136 -41.17499 -19.84156   2.93308   \n",
       "4  2009  46.64388 -81.99503  41.62851   3.65855  -9.38201 -13.51749   7.48781   \n",
       "\n",
       "         8        9     ...           81         82        83         84  \\\n",
       "0  -5.62769 -1.47711    ...     43.94716  -64.21148  13.04284  156.03785   \n",
       "1  -1.83185  5.98469    ...    -13.48435 -154.65715  35.22429   89.53649   \n",
       "2 -11.86750  9.87342    ...     42.08584 -181.77349  43.00181   87.94977   \n",
       "3  -5.98711  3.05997    ...     -2.76407  -20.31782 -75.24506  125.81801   \n",
       "4  -7.03302  7.06982    ...     12.29244 -143.25348  91.15842 -227.85481   \n",
       "\n",
       "         85         86         87        88         89        90  \n",
       "0  -2.42670   51.71977  -43.56703  10.63735   24.08962 -21.41886  \n",
       "1  -3.13145 -128.28120   89.97277 -15.88139  -75.21074  -0.51139  \n",
       "2 -13.70362  136.49979  140.32633  11.51422  382.79589  29.98269  \n",
       "3 -15.50828  -63.31002 -142.21937 -12.36699   32.45911 -17.14909  \n",
       "4   7.75916  -41.32376 -225.66526  -4.05081  455.39458  41.65310  \n",
       "\n",
       "[5 rows x 91 columns]"
      ]
     },
     "execution_count": 3,
     "metadata": {},
     "output_type": "execute_result"
    }
   ],
   "source": [
    "# Take a look at the data (5 first instances):\n",
    "# - first column (index 0) is the song release year\n",
    "# - remaining columns are the the features (indexes 1 - 90)\n",
    "data_frame = pd.DataFrame(data)\n",
    "data_frame.head(5)"
   ]
  },
  {
   "cell_type": "code",
   "execution_count": 4,
   "metadata": {},
   "outputs": [
    {
     "name": "stdout",
     "output_type": "stream",
     "text": [
      "Train data size: 370972\n",
      "Validation data size: 92743\n"
     ]
    }
   ],
   "source": [
    "# split train data into training/validation (80/20)\n",
    "train_data, validation_data = train_test_split(data, test_size=0.2)\n",
    "\n",
    "print('Train data size: {}'.format(len(train_data)))\n",
    "print('Validation data size: {}'.format(len(validation_data)))"
   ]
  },
  {
   "cell_type": "code",
   "execution_count": 5,
   "metadata": {},
   "outputs": [
    {
     "name": "stdout",
     "output_type": "stream",
     "text": [
      "Test data size: 36285\n"
     ]
    }
   ],
   "source": [
    "# load test data\n",
    "test_data = load_data('year-prediction-msd-test.txt')\n",
    "\n",
    "print('Test data size: {}'.format(len(test_data)))"
   ]
  },
  {
   "cell_type": "code",
   "execution_count": 6,
   "metadata": {
    "collapsed": true
   },
   "outputs": [],
   "source": [
    "# Split label (years) and features\n",
    "train_data_Y, train_data_X = split_Y_X(train_data)\n",
    "validation_data_Y, validation_data_X = split_Y_X(validation_data)\n",
    "test_data_Y, test_data_X = split_Y_X(test_data)"
   ]
  },
  {
   "cell_type": "code",
   "execution_count": 7,
   "metadata": {},
   "outputs": [
    {
     "name": "stdout",
     "output_type": "stream",
     "text": [
      "Number of coefficients: 90\n",
      "Coefficients: [  8.71828987e-01  -5.59328084e-02  -4.30911274e-02   2.24821352e-03\n",
      "  -1.52362399e-02  -2.21499422e-01  -5.32620382e-03  -1.02396073e-01\n",
      "  -6.90902839e-02   2.36288040e-02  -1.69630541e-01  -1.04346409e-03\n",
      "   4.71634147e-02   3.55248458e-04  -4.44366562e-04   5.81917480e-04\n",
      "   4.43642914e-04   1.43959449e-03   2.04628067e-03   2.30496781e-03\n",
      "   7.49435341e-04  -6.58120852e-04   7.55232077e-03   2.76412956e-03\n",
      "  -3.45805813e-03   6.05050509e-05   1.54800733e-03   3.91713615e-04\n",
      "   9.13113370e-04  -1.88726112e-04  -1.25274357e-03  -1.29536521e-03\n",
      "  -5.67214757e-03   2.89078832e-03   1.51826965e-03  -5.14785628e-03\n",
      "  -2.53021959e-04   6.88299702e-04   1.45660481e-03  -1.65461580e-03\n",
      "  -2.07612750e-03  -8.43237543e-04  -1.68297470e-03  -2.50424104e-03\n",
      "  -3.13312210e-03   6.57414629e-03   4.67491513e-04  -1.97161200e-03\n",
      "   2.14089013e-04   2.03987061e-03  -2.09745030e-04  -1.58596001e-03\n",
      "   1.78702958e-03   9.75913988e-05  -1.96330156e-04   1.77683067e-04\n",
      "  -1.83756874e-03   1.80009383e-03  -1.24023926e-03   1.54237615e-04\n",
      "  -3.00640803e-03  -1.51006496e-03  -7.43722240e-03   1.19683069e-03\n",
      "  -2.09169661e-03   5.95429331e-04  -1.28671452e-04  -3.90314104e-04\n",
      "  -4.46776277e-03  -4.75639702e-03  -1.03596362e-03   2.57399892e-04\n",
      "   7.34725977e-04   4.28728433e-03   3.13786274e-03   1.49503167e-02\n",
      "   2.20686161e-04  -4.42295823e-03   7.11733588e-05  -6.89822148e-05\n",
      "  -7.70051726e-04  -6.11472558e-04   1.47199216e-03   1.05961803e-03\n",
      "   2.71808098e-02  -1.47752556e-05   1.15826546e-03  -3.09503545e-02\n",
      "  -1.39410296e-03  -1.48930069e-03]\n"
     ]
    }
   ],
   "source": [
    "# Create a baseline linear regression model and train it\n",
    "lr_base_model = LinearRegression(copy_X=True)\n",
    "lr_base_model.fit(train_data_X, train_data_Y)\n",
    "\n",
    "print('Number of coefficients: {}'.format(len(lr_base_model.coef_)))\n",
    "print('Coefficients: {}'.format(lr_base_model.coef_))"
   ]
  },
  {
   "cell_type": "code",
   "execution_count": 8,
   "metadata": {},
   "outputs": [
    {
     "name": "stdout",
     "output_type": "stream",
     "text": [
      "Actual: [ 1996.  1995.  1983.  1987.  2003.]\n",
      "Predicted: [ 1999.48290723  1997.76854831  1990.97662293  1991.26777334  2000.25965338]\n"
     ]
    }
   ],
   "source": [
    "# A quick comparison on some instances of the validation data with the predicted values...\n",
    "print('Actual: {}'.format(validation_data_Y[0:5]))\n",
    "print('Predicted: {}'.format(lr_base_model.predict(validation_data_X)[0:5]))"
   ]
  },
  {
   "cell_type": "code",
   "execution_count": 9,
   "metadata": {},
   "outputs": [
    {
     "name": "stdout",
     "output_type": "stream",
     "text": [
      "Training mean squared error: 90.9562360925\n",
      "Training root mean squared error: 9.53709788628\n",
      "Validation mean squared error: 92.4863078692\n",
      "Validation root mean squared error: 9.61698018451\n"
     ]
    }
   ],
   "source": [
    "# ... and the errors\n",
    "mean_sq_error_training = mean_squared_error(train_data_Y, lr_base_model.predict(train_data_X))\n",
    "print('Training mean squared error: {}'.format(mean_sq_error_training))\n",
    "print('Training root mean squared error: {}'.format(sqrt(mean_sq_error_training)))\n",
    "\n",
    "mean_sq_error_validation = mean_squared_error(validation_data_Y, lr_base_model.predict(validation_data_X))\n",
    "print('Validation mean squared error: {}'.format(mean_sq_error_validation))\n",
    "\n",
    "print('Validation root mean squared error: {}'.format(sqrt(mean_sq_error_validation)))"
   ]
  },
  {
   "cell_type": "code",
   "execution_count": 10,
   "metadata": {},
   "outputs": [
    {
     "data": {
      "image/png": "[encoded data removed]",
      "text/plain": [
       "<matplotlib.figure.Figure at 0x7f11fe5a2790>"
      ]
     },
     "metadata": {},
     "output_type": "display_data"
    }
   ],
   "source": [
    "# plotting the errors\n",
    "errors = get_errors_by_year(lr_base_model, validation_data_Y, validation_data_X)\n",
    "plt.plot(years, errors, color='blue', linewidth=3)\n",
    "plt.show()"
   ]
  },
  {
   "cell_type": "code",
   "execution_count": 11,
   "metadata": {},
   "outputs": [
    {
     "name": "stderr",
     "output_type": "stream",
     "text": [
      "/usr/local/lib/python2.7/dist-packages/sklearn/linear_model/stochastic_gradient.py:84: FutureWarning: max_iter and tol parameters have been added in <class 'sklearn.linear_model.stochastic_gradient.SGDRegressor'> in 0.19. If both are left unset, they default to max_iter=5 and tol=None. If tol is not None, max_iter defaults to max_iter=1000. From 0.21, default max_iter will be 1000, and default tol will be 1e-3.\n",
      "  \"and default tol will be 1e-3.\" % type(self), FutureWarning)\n"
     ]
    },
    {
     "data": {
      "text/plain": [
       "SGDRegressor(alpha=0.0001, average=False, epsilon=0.1, eta0=0.01,\n",
       "       fit_intercept=True, l1_ratio=0.15, learning_rate='invscaling',\n",
       "       loss='squared_loss', max_iter=5, n_iter=None, penalty=None,\n",
       "       power_t=0.25, random_state=None, shuffle=True, tol=None, verbose=0,\n",
       "       warm_start=False)"
      ]
     },
     "execution_count": 11,
     "metadata": {},
     "output_type": "execute_result"
    }
   ],
   "source": [
    "# LR-based alternative #1: LR with Stochastic Gradient Descent\n",
    "lr_sgd_model = SGDRegressor(loss='squared_loss', penalty=None)\n",
    "\n",
    "# normalize the data before fitting\n",
    "scaler = preprocessing.StandardScaler()\n",
    "\n",
    "lr_sgd_model.fit(scaler.fit_transform(train_data_X), train_data_Y )"
   ]
  },
  {
   "cell_type": "code",
   "execution_count": 12,
   "metadata": {},
   "outputs": [
    {
     "name": "stdout",
     "output_type": "stream",
     "text": [
      "Training mean squared error: 92.2478393893\n",
      "Training root mean squared error: 9.60457387859\n",
      "Validation mean squared error: 93.6055423386\n",
      "Validation root mean squared error: 9.67499572809\n"
     ]
    }
   ],
   "source": [
    "# Check the model errors\n",
    "mean_sq_error_training = mean_squared_error(train_data_Y, lr_sgd_model.predict(scaler.fit_transform(train_data_X)))\n",
    "print('Training mean squared error: {}'.format(mean_sq_error_training))\n",
    "print('Training root mean squared error: {}'.format(sqrt(mean_sq_error_training)))\n",
    "\n",
    "mean_sq_error_validation = mean_squared_error(validation_data_Y, lr_sgd_model.predict(scaler.fit_transform(validation_data_X)))\n",
    "print('Validation mean squared error: {}'.format(mean_sq_error_validation))\n",
    "print('Validation root mean squared error: {}'.format(sqrt(mean_sq_error_validation)))"
   ]
  },
  {
   "cell_type": "code",
   "execution_count": 13,
   "metadata": {},
   "outputs": [
    {
     "data": {
      "image/png": "[encoded data removed]",
      "text/plain": [
       "<matplotlib.figure.Figure at 0x7f11cdd5ef10>"
      ]
     },
     "metadata": {},
     "output_type": "display_data"
    }
   ],
   "source": [
    "# Plotting the errors:\n",
    "errors = get_errors_by_year(lr_sgd_model, validation_data_Y, scaler.fit_transform(validation_data_X))\n",
    "plt.plot(years, errors, color='blue', linewidth=3)\n",
    "plt.show()"
   ]
  },
  {
   "cell_type": "code",
   "execution_count": 14,
   "metadata": {},
   "outputs": [
    {
     "data": {
      "image/png": "[encoded data removed]",
      "text/plain": [
       "<matplotlib.figure.Figure at 0x7f11cdd5ee50>"
      ]
     },
     "metadata": {},
     "output_type": "display_data"
    },
    {
     "name": "stdout",
     "output_type": "stream",
     "text": [
      "[ 0.11493079  0.07799572  0.05916355  0.04213664  0.03753975  0.02765819\n",
      "  0.02360396  0.02308799  0.02101163  0.02007969  0.01918837  0.01853044\n",
      "  0.0178294   0.01692845  0.01622049  0.01588932  0.01524146  0.01417653\n",
      "  0.01406535  0.01352556  0.01309804  0.01261309  0.01237404  0.01182188\n",
      "  0.01153428  0.01145823  0.01108275  0.0109553   0.01040579  0.0100326\n",
      "  0.00979252  0.00938991  0.00928595  0.00895263  0.00840046  0.00818506\n",
      "  0.00806431  0.00799304  0.00759232  0.00751156  0.00734451  0.00717619\n",
      "  0.00699614  0.00680811  0.00661794  0.00635941  0.00625549  0.00617581\n",
      "  0.00598583  0.00585933  0.00571469  0.00552957  0.00535223  0.00515995\n",
      "  0.0050411   0.00499787  0.00487244  0.00473483  0.00460685  0.00439768\n",
      "  0.00423813  0.00411439  0.00397511  0.00395343  0.00372713  0.00363965\n",
      "  0.00350365  0.00337534  0.00326857  0.00315251  0.00303801  0.00292071\n",
      "  0.00275504  0.00273292  0.00261382  0.00246856  0.00227617  0.00215341\n",
      "  0.00210314  0.00204382  0.0018818   0.00175295  0.00155769  0.00139787\n",
      "  0.00134095  0.00126887  0.00097451  0.0009276   0.00085665  0.00065465]\n"
     ]
    }
   ],
   "source": [
    "# LR-based alternative #2: Feature reduction\n",
    "\n",
    "# Principal component analysis (PCA)\n",
    "pca = PCA(n_components=90).fit(scaler.fit_transform(train_data_X))\n",
    "plt.bar(range(0, 90), pca.explained_variance_ratio_)\n",
    "plt.xlabel('features')\n",
    "plt.ylabel('explained variance')\n",
    "plt.show()\n",
    "print(pca.explained_variance_ratio_)"
   ]
  },
  {
   "cell_type": "code",
   "execution_count": 15,
   "metadata": {},
   "outputs": [
    {
     "data": {
      "image/png": "[encoded data removed]",
      "text/plain": [
       "<matplotlib.figure.Figure at 0x7f11cd800050>"
      ]
     },
     "metadata": {},
     "output_type": "display_data"
    }
   ],
   "source": [
    "# First three PCA components plotted\n",
    "transformed_data = pca.transform(validation_data_X)\n",
    "plt.scatter(validation_data_Y, transformed_data[:,3], color='yellow', alpha=0.02)\n",
    "plt.scatter(validation_data_Y, transformed_data[:,2], color='red', alpha=0.02)\n",
    "plt.scatter(validation_data_Y, transformed_data[:,1], color='black', alpha=0.005)\n",
    "plt.show()"
   ]
  },
  {
   "cell_type": "code",
   "execution_count": null,
   "metadata": {},
   "outputs": [
    {
     "name": "stdout",
     "output_type": "stream",
     "text": [
      " 1 PCA components used: 10.92 10.99\n",
      "10 PCA components used: 10.65 10.72\n",
      "20 PCA components used: 10.56 10.64\n",
      "30 PCA components used: 10.43 10.52\n",
      "40 PCA components used: 10.38 10.46\n",
      "50 PCA components used: 10.28 10.37\n",
      "60 PCA components used: 10.22 10.32\n",
      "70 PCA components used: 10.18 10.28\n",
      "80 PCA components used:  9.95 10.03\n",
      "90 PCA components used:  9.54  9.62\n"
     ]
    }
   ],
   "source": [
    "for n_components in range(0, 91, 10):\n",
    "    n_components = n_components or 1\n",
    "    transformed_train_data_X = pca.transform(train_data_X)[:,range(0, n_components)]\n",
    "\n",
    "    lr_pca_model = LinearRegression(copy_X=True)\n",
    "    lr_pca_model.fit(transformed_train_data_X, train_data_Y)\n",
    "\n",
    "    mean_sq_error_training = mean_squared_error(train_data_Y, lr_pca_model.predict(transformed_train_data_X))\n",
    "    \n",
    "    transformed_validation_data_X = pca.transform(validation_data_X)[:,range(0, n_components)]\n",
    "    mean_sq_error_validation = mean_squared_error(validation_data_Y, lr_pca_model.predict(transformed_validation_data_X))\n",
    "\n",
    "    print '%2d PCA components used: %5.2f %5.2f' % (n_components, sqrt(mean_sq_error_training), sqrt(mean_sq_error_validation))\n"
   ]
  },
  {
   "cell_type": "code",
   "execution_count": null,
   "metadata": {},
   "outputs": [
    {
     "name": "stdout",
     "output_type": "stream",
     "text": [
      "1 degrees: 10.67 10.74\n",
      "2 degrees: 10.59 10.66\n",
      "3 degrees: 10.53 10.61\n"
     ]
    }
   ],
   "source": [
    "# performs ridge regression for 1 to 4 degrees\n",
    "n_components = 7\n",
    "for degree in range(1, 5):\n",
    "    transformed_train_data_X = pca.transform(train_data_X)[:,range(0, n_components)]\n",
    "    model = make_pipeline(PolynomialFeatures(degree), Ridge())\n",
    "    # model = make_pipeline(PolynomialFeatures(degree), LinearRegression())\n",
    "    model.fit(transformed_train_data_X, train_data_Y)\n",
    "    \n",
    "    mean_sq_error_training = mean_squared_error(train_data_Y, model.predict(transformed_train_data_X))\n",
    "    \n",
    "    transformed_validation_data_X = pca.transform(validation_data_X)[:,range(0, n_components)]\n",
    "    mean_sq_error_validation = mean_squared_error(validation_data_Y, model.predict(transformed_validation_data_X))\n",
    "\n",
    "    print '%d degrees: %5.2f %5.2f' % (degree, sqrt(mean_sq_error_training), sqrt(mean_sq_error_validation))"
   ]
  },
  {
   "cell_type": "raw",
   "metadata": {},
   "source": []
  }
 ],
 "metadata": {
  "kernelspec": {
   "display_name": "Python 2",
   "language": "python",
   "name": "python2"
  },
  "language_info": {
   "codemirror_mode": {
    "name": "ipython",
    "version": 2
   },
   "file_extension": ".py",
   "mimetype": "text/x-python",
   "name": "python",
   "nbconvert_exporter": "python",
   "pygments_lexer": "ipython2",
   "version": "2.7.12"
  }
 },
 "nbformat": 4,
 "nbformat_minor": 2
}
