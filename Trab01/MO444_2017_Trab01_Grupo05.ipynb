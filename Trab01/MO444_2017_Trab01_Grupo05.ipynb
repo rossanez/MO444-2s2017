{
 "cells": [
  {
   "cell_type": "code",
   "execution_count": 1,
   "metadata": {
    "collapsed": true
   },
   "outputs": [],
   "source": [
    "# MO444-A 2s/2017 - First assignment\n",
    "#\n",
    "#         Group 05\n",
    "#\n",
    "# - Anderson Rossanez (124136)\n",
    "# - Bruno Branta Lopes (31470)\n",
    "#\n",
    "\n",
    "# Plotting inline instead of opening an outer window.\n",
    "%matplotlib inline\n",
    "\n",
    "# Imports\n",
    "from __future__ import print_function\n",
    "import matplotlib.pyplot as plt\n",
    "import numpy as np\n",
    "import pandas as pd\n",
    "from datetime import datetime\n",
    "from math import sqrt\n",
    "from sklearn import preprocessing\n",
    "from sklearn.decomposition import PCA\n",
    "from sklearn.linear_model import LinearRegression\n",
    "from sklearn.linear_model import SGDRegressor\n",
    "from sklearn.metrics import mean_squared_error\n",
    "from sklearn.metrics import r2_score\n",
    "from sklearn.model_selection import train_test_split\n",
    "from sklearn.pipeline import make_pipeline\n",
    "from sklearn.preprocessing import PolynomialFeatures\n",
    "from sklearn.linear_model import Ridge\n",
    "from sklearn.model_selection import KFold\n",
    "\n",
    "# Defines\n",
    "years = range(1922, 2011)\n",
    "random_state = np.random.RandomState(1)\n",
    "\n",
    "# Functions\n",
    "def load_data(filename):\n",
    "    raw_data = open(filename, 'rt')\n",
    "    data = np.loadtxt(raw_data, delimiter=\",\")\n",
    "    return data\n",
    "\n",
    "def split_Y_X(dataset):\n",
    "    Y = dataset[:,0]\n",
    "    X = dataset[:,1:]\n",
    "    return Y, X\n",
    "\n",
    "def get_errors_by_year(model, data_Y, data_X):\n",
    "    errors = []\n",
    "    for y in years:\n",
    "        filt = data_Y == y\n",
    "        if not sum(filt):\n",
    "            errors.append(0)\n",
    "            continue\n",
    "        errors.append(mean_squared_error(data_Y[filt], model.predict(data_X[filt])))\n",
    "    return errors"
   ]
  },
  {
   "cell_type": "code",
   "execution_count": 2,
   "metadata": {},
   "outputs": [
    {
     "name": "stdout",
     "output_type": "stream",
     "text": [
      "Training data size: 463715\n"
     ]
    }
   ],
   "source": [
    "# load training data\n",
    "data = load_data('year-prediction-msd-train.txt')\n",
    "\n",
    "print('Training data size: {}'.format(len(data)))"
   ]
  },
  {
   "cell_type": "code",
   "execution_count": 3,
   "metadata": {
    "scrolled": true
   },
   "outputs": [
    {
     "data": {
      "text/html": [
       "<div>\n",
       "<style>\n",
       "    .dataframe thead tr:only-child th {\n",
       "        text-align: right;\n",
       "    }\n",
       "\n",
       "    .dataframe thead th {\n",
       "        text-align: left;\n",
       "    }\n",
       "\n",
       "    .dataframe tbody tr th {\n",
       "        vertical-align: top;\n",
       "    }\n",
       "</style>\n",
       "<table border=\"1\" class=\"dataframe\">\n",
       "  <thead>\n",
       "    <tr style=\"text-align: right;\">\n",
       "      <th></th>\n",
       "      <th>0</th>\n",
       "      <th>1</th>\n",
       "      <th>2</th>\n",
       "      <th>3</th>\n",
       "      <th>4</th>\n",
       "      <th>5</th>\n",
       "      <th>6</th>\n",
       "      <th>7</th>\n",
       "      <th>8</th>\n",
       "      <th>9</th>\n",
       "      <th>...</th>\n",
       "      <th>81</th>\n",
       "      <th>82</th>\n",
       "      <th>83</th>\n",
       "      <th>84</th>\n",
       "      <th>85</th>\n",
       "      <th>86</th>\n",
       "      <th>87</th>\n",
       "      <th>88</th>\n",
       "      <th>89</th>\n",
       "      <th>90</th>\n",
       "    </tr>\n",
       "  </thead>\n",
       "  <tbody>\n",
       "    <tr>\n",
       "      <th>0</th>\n",
       "      <td>2004.0</td>\n",
       "      <td>46.50128</td>\n",
       "      <td>-18.37096</td>\n",
       "      <td>58.89824</td>\n",
       "      <td>27.28181</td>\n",
       "      <td>1.93097</td>\n",
       "      <td>-2.43167</td>\n",
       "      <td>18.64843</td>\n",
       "      <td>-5.62769</td>\n",
       "      <td>-1.47711</td>\n",
       "      <td>...</td>\n",
       "      <td>43.94716</td>\n",
       "      <td>-64.21148</td>\n",
       "      <td>13.04284</td>\n",
       "      <td>156.03785</td>\n",
       "      <td>-2.42670</td>\n",
       "      <td>51.71977</td>\n",
       "      <td>-43.56703</td>\n",
       "      <td>10.63735</td>\n",
       "      <td>24.08962</td>\n",
       "      <td>-21.41886</td>\n",
       "    </tr>\n",
       "    <tr>\n",
       "      <th>1</th>\n",
       "      <td>2005.0</td>\n",
       "      <td>41.46015</td>\n",
       "      <td>-52.30140</td>\n",
       "      <td>-4.59825</td>\n",
       "      <td>-19.28084</td>\n",
       "      <td>-11.85844</td>\n",
       "      <td>-19.54192</td>\n",
       "      <td>1.30306</td>\n",
       "      <td>-1.83185</td>\n",
       "      <td>5.98469</td>\n",
       "      <td>...</td>\n",
       "      <td>-13.48435</td>\n",
       "      <td>-154.65715</td>\n",
       "      <td>35.22429</td>\n",
       "      <td>89.53649</td>\n",
       "      <td>-3.13145</td>\n",
       "      <td>-128.28120</td>\n",
       "      <td>89.97277</td>\n",
       "      <td>-15.88139</td>\n",
       "      <td>-75.21074</td>\n",
       "      <td>-0.51139</td>\n",
       "    </tr>\n",
       "    <tr>\n",
       "      <th>2</th>\n",
       "      <td>2009.0</td>\n",
       "      <td>42.18667</td>\n",
       "      <td>-85.65863</td>\n",
       "      <td>-7.91506</td>\n",
       "      <td>-11.84193</td>\n",
       "      <td>-12.61959</td>\n",
       "      <td>-21.66749</td>\n",
       "      <td>4.97883</td>\n",
       "      <td>-11.86750</td>\n",
       "      <td>9.87342</td>\n",
       "      <td>...</td>\n",
       "      <td>42.08584</td>\n",
       "      <td>-181.77349</td>\n",
       "      <td>43.00181</td>\n",
       "      <td>87.94977</td>\n",
       "      <td>-13.70362</td>\n",
       "      <td>136.49979</td>\n",
       "      <td>140.32633</td>\n",
       "      <td>11.51422</td>\n",
       "      <td>382.79589</td>\n",
       "      <td>29.98269</td>\n",
       "    </tr>\n",
       "    <tr>\n",
       "      <th>3</th>\n",
       "      <td>1987.0</td>\n",
       "      <td>46.90244</td>\n",
       "      <td>19.86314</td>\n",
       "      <td>10.92119</td>\n",
       "      <td>4.87136</td>\n",
       "      <td>-41.17499</td>\n",
       "      <td>-19.84156</td>\n",
       "      <td>2.93308</td>\n",
       "      <td>-5.98711</td>\n",
       "      <td>3.05997</td>\n",
       "      <td>...</td>\n",
       "      <td>-2.76407</td>\n",
       "      <td>-20.31782</td>\n",
       "      <td>-75.24506</td>\n",
       "      <td>125.81801</td>\n",
       "      <td>-15.50828</td>\n",
       "      <td>-63.31002</td>\n",
       "      <td>-142.21937</td>\n",
       "      <td>-12.36699</td>\n",
       "      <td>32.45911</td>\n",
       "      <td>-17.14909</td>\n",
       "    </tr>\n",
       "    <tr>\n",
       "      <th>4</th>\n",
       "      <td>2009.0</td>\n",
       "      <td>46.64388</td>\n",
       "      <td>-81.99503</td>\n",
       "      <td>41.62851</td>\n",
       "      <td>3.65855</td>\n",
       "      <td>-9.38201</td>\n",
       "      <td>-13.51749</td>\n",
       "      <td>7.48781</td>\n",
       "      <td>-7.03302</td>\n",
       "      <td>7.06982</td>\n",
       "      <td>...</td>\n",
       "      <td>12.29244</td>\n",
       "      <td>-143.25348</td>\n",
       "      <td>91.15842</td>\n",
       "      <td>-227.85481</td>\n",
       "      <td>7.75916</td>\n",
       "      <td>-41.32376</td>\n",
       "      <td>-225.66526</td>\n",
       "      <td>-4.05081</td>\n",
       "      <td>455.39458</td>\n",
       "      <td>41.65310</td>\n",
       "    </tr>\n",
       "  </tbody>\n",
       "</table>\n",
       "<p>5 rows × 91 columns</p>\n",
       "</div>"
      ],
      "text/plain": [
       "       0         1         2         3         4         5         6   \\\n",
       "0  2004.0  46.50128 -18.37096  58.89824  27.28181   1.93097  -2.43167   \n",
       "1  2005.0  41.46015 -52.30140  -4.59825 -19.28084 -11.85844 -19.54192   \n",
       "2  2009.0  42.18667 -85.65863  -7.91506 -11.84193 -12.61959 -21.66749   \n",
       "3  1987.0  46.90244  19.86314  10.92119   4.87136 -41.17499 -19.84156   \n",
       "4  2009.0  46.64388 -81.99503  41.62851   3.65855  -9.38201 -13.51749   \n",
       "\n",
       "         7         8        9     ...           81         82        83  \\\n",
       "0  18.64843  -5.62769 -1.47711    ...     43.94716  -64.21148  13.04284   \n",
       "1   1.30306  -1.83185  5.98469    ...    -13.48435 -154.65715  35.22429   \n",
       "2   4.97883 -11.86750  9.87342    ...     42.08584 -181.77349  43.00181   \n",
       "3   2.93308  -5.98711  3.05997    ...     -2.76407  -20.31782 -75.24506   \n",
       "4   7.48781  -7.03302  7.06982    ...     12.29244 -143.25348  91.15842   \n",
       "\n",
       "          84        85         86         87        88         89        90  \n",
       "0  156.03785  -2.42670   51.71977  -43.56703  10.63735   24.08962 -21.41886  \n",
       "1   89.53649  -3.13145 -128.28120   89.97277 -15.88139  -75.21074  -0.51139  \n",
       "2   87.94977 -13.70362  136.49979  140.32633  11.51422  382.79589  29.98269  \n",
       "3  125.81801 -15.50828  -63.31002 -142.21937 -12.36699   32.45911 -17.14909  \n",
       "4 -227.85481   7.75916  -41.32376 -225.66526  -4.05081  455.39458  41.65310  \n",
       "\n",
       "[5 rows x 91 columns]"
      ]
     },
     "execution_count": 3,
     "metadata": {},
     "output_type": "execute_result"
    }
   ],
   "source": [
    "# Take a look at the data (5 first instances):\n",
    "# - first column (index 0) is the song release year\n",
    "# - remaining columns are the the features (indexes 1 - 90)\n",
    "data_frame = pd.DataFrame(data)\n",
    "data_frame.head(5)"
   ]
  },
  {
   "cell_type": "code",
   "execution_count": 4,
   "metadata": {},
   "outputs": [
    {
     "name": "stdout",
     "output_type": "stream",
     "text": [
      "Test data size: 36285\n"
     ]
    }
   ],
   "source": [
    "# load test data\n",
    "test_data = load_data('year-prediction-msd-test.txt')\n",
    "\n",
    "print('Test data size: {}'.format(len(test_data)))"
   ]
  },
  {
   "cell_type": "code",
   "execution_count": 5,
   "metadata": {
    "scrolled": true
   },
   "outputs": [],
   "source": [
    "# prepare for 5-fold execution to help avoiding overfitting\n",
    "k5_fold = KFold(n_splits=5, shuffle=True, random_state=random_state)\n",
    "data_Y, data_X = split_Y_X(data)\n",
    "\n",
    "def run_kfold(method, data_Y, data_X, scale=False, partial_fit=False):\n",
    "    train_msq_err, train_r2_score = [], []\n",
    "    validation_msq_err, validation_r2_score = [], []\n",
    "    start_time = datetime.now()\n",
    "    k = 0\n",
    "    print('k', end=' ')\n",
    "    model = None\n",
    "    for train_index, validation_index in k5_fold.split(data_X):\n",
    "        k += 1\n",
    "        print(k, end=' ')\n",
    "        \n",
    "        train_data_X, train_data_Y = data_X[train_index], data_Y[train_index]\n",
    "        validation_data_X, validation_data_Y = data_X[validation_index], data_Y[validation_index]\n",
    "        \n",
    "        if scale:\n",
    "            model_scaler = preprocessing.StandardScaler()\n",
    "            train_data_X = model_scaler.fit_transform(train_data_X)\n",
    "            validation_data_X = model_scaler.transform(validation_data_X)\n",
    "        \n",
    "        if partial_fit:\n",
    "            # feed the data partially\n",
    "            n_chunks = 10\n",
    "            chunk_size = len(train_data_Y) / n_chunks\n",
    "            for i in range(0, n_chunks):\n",
    "                range_start = i * chunk_size\n",
    "                range_end = (i + 1) * chunk_size\n",
    "                model = method(train_data_X[range_start:range_end], train_data_Y[range_start:range_end]) \n",
    "        else:\n",
    "            model = method(train_data_X, train_data_Y)\n",
    "        \n",
    "        predicted_train_data_Y = model.predict(train_data_X)\n",
    "        train_msq_err.append(sqrt(mean_squared_error(train_data_Y, predicted_train_data_Y)))\n",
    "        train_r2_score.append(r2_score(train_data_Y, predicted_train_data_Y))\n",
    "        \n",
    "        predicted_validation_data_Y = model.predict(validation_data_X)\n",
    "        validation_msq_err.append(sqrt(mean_squared_error(validation_data_Y, predicted_validation_data_Y)))\n",
    "        validation_r2_score.append(r2_score(validation_data_Y, predicted_validation_data_Y))\n",
    "    print('time elapsed: {}\\n'.format(datetime.now() - start_time))\n",
    "    print('                       RMSE         R2 Score')\n",
    "    print('Training:    %5.2f sd %5.2f   %5.2f sd %5.2f' % (\n",
    "                np.mean(train_msq_err), np.std(train_msq_err), np.mean(train_r2_score), np.std(train_r2_score)))\n",
    "    print('Validation:  %5.2f sd %5.2f   %5.2f sd %5.2f' % (\n",
    "                np.mean(validation_msq_err), np.std(validation_msq_err), np.mean(validation_r2_score), np.std(validation_r2_score)))\n",
    "    return model"
   ]
  },
  {
   "cell_type": "code",
   "execution_count": 6,
   "metadata": {},
   "outputs": [
    {
     "name": "stdout",
     "output_type": "stream",
     "text": [
      "k 1 2 3 4 5 time elapsed: 0:00:23.312131\n",
      "\n",
      "                       RMSE         R2 Score\n",
      "Training:     9.55 sd  0.00    0.24 sd  0.00\n",
      "Validation:   9.56 sd  0.02    0.24 sd  0.00\n"
     ]
    }
   ],
   "source": [
    "# Create a baseline linear regression model and train it\n",
    "# LinearRegression implements the Ordinary Least Squares (OLS) method\n",
    "lr_base_model = run_kfold(lambda X, Y: LinearRegression(copy_X=True).fit(X, Y), data_Y, data_X)"
   ]
  },
  {
   "cell_type": "code",
   "execution_count": 7,
   "metadata": {},
   "outputs": [
    {
     "data": {
      "image/png": "[encoded data removed]",
      "text/plain": [
       "<matplotlib.figure.Figure at 0x11795db50>"
      ]
     },
     "metadata": {},
     "output_type": "display_data"
    }
   ],
   "source": [
    "# plotting the errors vs years for the baseline model\n",
    "errors = get_errors_by_year(lr_base_model, data_Y, data_X)\n",
    "plt.plot(years, errors, color='blue', linewidth=3)\n",
    "plt.show()"
   ]
  },
  {
   "cell_type": "code",
   "execution_count": 8,
   "metadata": {},
   "outputs": [
    {
     "name": "stdout",
     "output_type": "stream",
     "text": [
      "k 1 2 3 4 5 time elapsed: 0:00:13.562301\n",
      "\n",
      "                       RMSE         R2 Score\n",
      "Training:     9.65 sd  0.02    0.22 sd  0.00\n",
      "Validation:   9.65 sd  0.05    0.22 sd  0.01\n"
     ]
    }
   ],
   "source": [
    "# LR-based alternative #1: LR with Stochastic Gradient Descent\n",
    "lr_sgd_model = run_kfold(lambda X, Y: SGDRegressor(loss='squared_loss', penalty=None).fit(X, Y), data_Y, data_X, scale=True)"
   ]
  },
  {
   "cell_type": "code",
   "execution_count": 9,
   "metadata": {},
   "outputs": [
    {
     "name": "stdout",
     "output_type": "stream",
     "text": [
      "k 1 2 3 4 5 time elapsed: 0:00:09.266198\n",
      "\n",
      "                       RMSE         R2 Score\n",
      "Training:     9.89 sd  0.13    0.18 sd  0.02\n",
      "Validation:   9.89 sd  0.18    0.18 sd  0.03\n"
     ]
    }
   ],
   "source": [
    "# LR-based alternative #2: LR with Mini-batch Gradient Descent\n",
    "lr_mbgd_model = run_kfold(lambda X, Y: SGDRegressor(loss='squared_loss', penalty=None).partial_fit(X, Y), data_Y, data_X, scale=True, partial_fit=True)  "
   ]
  },
  {
   "cell_type": "code",
   "execution_count": 10,
   "metadata": {},
   "outputs": [
    {
     "name": "stdout",
     "output_type": "stream",
     "text": [
      "k 1 2 3 4 5 time elapsed: 0:00:09.536061\n",
      "\n",
      "                       RMSE         R2 Score\n",
      "Training:     9.66 sd  0.03    0.22 sd  0.00\n",
      "Validation:   9.66 sd  0.03    0.22 sd  0.00\n"
     ]
    }
   ],
   "source": [
    "# LR-based alternative #3: LE with Batch Gradient Descent\n",
    "lr_bgd_model = run_kfold(lambda X, Y: SGDRegressor(loss='squared_loss', penalty=None).partial_fit(X, Y), data_Y, data_X, scale=True, partial_fit=False)  "
   ]
  },
  {
   "cell_type": "code",
   "execution_count": 11,
   "metadata": {},
   "outputs": [
    {
     "data": {
      "image/png": "[encoded data removed]",
      "text/plain": [
       "<matplotlib.figure.Figure at 0x113554d10>"
      ]
     },
     "metadata": {},
     "output_type": "display_data"
    },
    {
     "name": "stdout",
     "output_type": "stream",
     "text": [
      "[ 0.11502467  0.07794225  0.05910869  0.04202648  0.03758654  0.02755601\n",
      "  0.02360833  0.02314802  0.02099439  0.02018549  0.01921706  0.0185843\n",
      "  0.01791093  0.01690428  0.01619226  0.01589057  0.01521183  0.01418454\n",
      "  0.0140408   0.01350235  0.01312937  0.01257938  0.0123757   0.01183833\n",
      "  0.0115447   0.01144419  0.01107826  0.0109434   0.01043585  0.01005587\n",
      "  0.00980864  0.00941628  0.00926348  0.00894936  0.0084126   0.00819436\n",
      "  0.00806348  0.00798967  0.00760238  0.00749503  0.00733399  0.00718305\n",
      "  0.0069867   0.00681211  0.00660507  0.00635582  0.00626574  0.00616043\n",
      "  0.00597297  0.00584532  0.00569058  0.00552105  0.0053618   0.00516686\n",
      "  0.00502879  0.00499606  0.00487428  0.00472175  0.00462167  0.00439084\n",
      "  0.00424316  0.00410322  0.00397162  0.00394916  0.00372014  0.00364846\n",
      "  0.0035066   0.00336528  0.00325472  0.00316707  0.0030404   0.00292998\n",
      "  0.00275516  0.00273829  0.00261313  0.00247287  0.0022838   0.00215105\n",
      "  0.00209068  0.00204204  0.00188768  0.00175465  0.00155818  0.00139379\n",
      "  0.00133833  0.00126955  0.00097449  0.00092995  0.00085739  0.00065417]\n"
     ]
    }
   ],
   "source": [
    "# LR-based alternative #3: Feature reduction\n",
    "\n",
    "# Principal component analysis (PCA)\n",
    "pca_scaler = preprocessing.StandardScaler()\n",
    "pca = PCA(n_components=90).fit(pca_scaler.fit_transform(data_X))\n",
    "plt.bar(range(0, 90), pca.explained_variance_ratio_)\n",
    "plt.xlabel('features')\n",
    "plt.ylabel('explained variance')\n",
    "plt.show()\n",
    "print(pca.explained_variance_ratio_)"
   ]
  },
  {
   "cell_type": "code",
   "execution_count": 12,
   "metadata": {},
   "outputs": [
    {
     "data": {
      "image/png": "[encoded data removed]",
      "text/plain": [
       "<matplotlib.figure.Figure at 0x113551ad0>"
      ]
     },
     "metadata": {},
     "output_type": "display_data"
    }
   ],
   "source": [
    "# First three PCA components plotted\n",
    "transformed_data = pca.transform(data_X)\n",
    "plt.scatter(data_Y, transformed_data[:,2], color='yellow', alpha=0.02)\n",
    "plt.scatter(data_Y, transformed_data[:,1], color='red', alpha=0.02)\n",
    "plt.scatter(data_Y, transformed_data[:,0], color='black', alpha=0.005)\n",
    "plt.show()"
   ]
  },
  {
   "cell_type": "code",
   "execution_count": 13,
   "metadata": {},
   "outputs": [
    {
     "name": "stdout",
     "output_type": "stream",
     "text": [
      "\n",
      "  1 PCA components used for OLS model:\n",
      "k 1 2 3 4 5 time elapsed: 0:00:00.475308\n",
      "\n",
      "                       RMSE         R2 Score\n",
      "Training:    10.94 sd  0.01    0.00 sd  0.00\n",
      "Validation:  10.94 sd  0.03    0.00 sd  0.00\n",
      "\n",
      " 10 PCA components used for OLS model:\n",
      "k 1 2 3 4 5 time elapsed: 0:00:01.346234\n",
      "\n",
      "                       RMSE         R2 Score\n",
      "Training:    10.66 sd  0.01    0.05 sd  0.00\n",
      "Validation:  10.66 sd  0.03    0.05 sd  0.00\n",
      "\n",
      " 20 PCA components used for OLS model:\n",
      "k 1 2 3 4 5 time elapsed: 0:00:03.111015\n",
      "\n",
      "                       RMSE         R2 Score\n",
      "Training:    10.58 sd  0.01    0.07 sd  0.00\n",
      "Validation:  10.58 sd  0.04    0.06 sd  0.00\n",
      "\n",
      " 30 PCA components used for OLS model:\n",
      "k 1 2 3 4 5 time elapsed: 0:00:04.733716\n",
      "\n",
      "                       RMSE         R2 Score\n",
      "Training:    10.45 sd  0.01    0.09 sd  0.00\n",
      "Validation:  10.45 sd  0.02    0.09 sd  0.00\n",
      "\n",
      " 40 PCA components used for OLS model:\n",
      "k 1 2 3 4 5 time elapsed: 0:00:07.056561\n",
      "\n",
      "                       RMSE         R2 Score\n",
      "Training:    10.40 sd  0.01    0.10 sd  0.00\n",
      "Validation:  10.40 sd  0.03    0.10 sd  0.00\n",
      "\n",
      " 50 PCA components used for OLS model:\n",
      "k 1 2 3 4 5 time elapsed: 0:00:09.939191\n",
      "\n",
      "                       RMSE         R2 Score\n",
      "Training:    10.29 sd  0.01    0.11 sd  0.00\n",
      "Validation:  10.30 sd  0.03    0.11 sd  0.00\n",
      "\n",
      " 60 PCA components used for OLS model:\n",
      "k 1 2 3 4 5 time elapsed: 0:00:12.767451\n",
      "\n",
      "                       RMSE         R2 Score\n",
      "Training:    10.24 sd  0.02    0.12 sd  0.00\n",
      "Validation:  10.24 sd  0.06    0.12 sd  0.00\n",
      "\n",
      " 70 PCA components used for OLS model:\n",
      "k 1 2 3 4 5 time elapsed: 0:00:15.755404\n",
      "\n",
      "                       RMSE         R2 Score\n",
      "Training:    10.20 sd  0.01    0.13 sd  0.00\n",
      "Validation:  10.20 sd  0.02    0.13 sd  0.00\n",
      "\n",
      " 80 PCA components used for OLS model:\n",
      "k 1 2 3 4 5 time elapsed: 0:00:19.009946\n",
      "\n",
      "                       RMSE         R2 Score\n",
      "Training:     9.97 sd  0.01    0.17 sd  0.00\n",
      "Validation:   9.97 sd  0.04    0.17 sd  0.00\n",
      "\n",
      " 90 PCA components used for OLS model:\n",
      "k 1 2 3 4 5 time elapsed: 0:00:23.058279\n",
      "\n",
      "                       RMSE         R2 Score\n",
      "Training:     9.55 sd  0.01    0.24 sd  0.00\n",
      "Validation:   9.56 sd  0.04    0.24 sd  0.00\n"
     ]
    }
   ],
   "source": [
    "for n_components in range(0, 91, 10):\n",
    "    n_components = n_components or 1\n",
    "    transformed_data_X = pca.transform(data_X)[:,range(0, n_components)]\n",
    "\n",
    "    # Using the OLS model because it has shown the best fit so far.\n",
    "    print('\\n %2d PCA components used for OLS model:' % (n_components))\n",
    "    lr_pca_base_model = run_kfold(lambda X, Y: LinearRegression(copy_X=True).fit(X, Y), data_Y, transformed_data_X)"
   ]
  },
  {
   "cell_type": "code",
   "execution_count": 22,
   "metadata": {},
   "outputs": [
    {
     "name": "stdout",
     "output_type": "stream",
     "text": [
      "\n",
      " Applying data transformation for 2 degrees \n",
      "\n"
     ]
    }
   ],
   "source": [
    "# Exploring more complex models - Polynomial case\n",
    "\n",
    "pol_features_transformed = []\n",
    "# starting from degree 2\n",
    "for degree in range(2, 3):\n",
    "    print('\\n Applying data transformation for %d degrees \\n' % degree)\n",
    "\n",
    "    # Transform the data in batches.\n",
    "    n_chunks = 1000\n",
    "    chunk_size = len(data) / n_chunks\n",
    "    pol_features = PolynomialFeatures(degree)\n",
    "    pol_features.fit(data_X)\n",
    "\n",
    "    #print('  Chunk #: ', end=' ')\n",
    "    for i in range(0, n_chunks):\n",
    "        #print(i, end=' ')\n",
    "        range_start = i * chunk_size\n",
    "        range_end = (i + 1) * chunk_size\n",
    "        pol_features_transformed.append(pol_features.transform(data_X[range_start:range_end]))"
   ]
  },
  {
   "cell_type": "code",
   "execution_count": null,
   "metadata": {},
   "outputs": [],
   "source": [
    "# performs ridge regression for 1 to 4 degrees\n",
    "n_components = 7\n",
    "for degree in range(1, 5):\n",
    "    transformed_data_X = pca.transform(data_X)[:,range(0, n_components)]\n",
    "    #model = make_pipeline(PolynomialFeatures(degree), Ridge())\n",
    "    model = make_pipeline(PolynomialFeatures(degree), LinearRegression())\n",
    "    model.fit(transformed_data_X, data_Y)\n",
    "    \n",
    "    mean_sq_error_training = mean_squared_error(data_Y, model.predict(transformed_data_X))\n",
    "    \n",
    "    #transformed_validation_data_X = pca.transform(validation_data_X)[:,range(0, n_components)]\n",
    "    mean_sq_error_validation = 0 #mean_squared_error(validation_data_Y, model.predict(transformed_validation_data_X))\n",
    "\n",
    "    print('%d degrees: %5.2f %5.2f' % (degree, sqrt(mean_sq_error_training), sqrt(mean_sq_error_validation)))"
   ]
  },
  {
   "cell_type": "code",
   "execution_count": null,
   "metadata": {
    "collapsed": true
   },
   "outputs": [],
   "source": []
  }
 ],
 "metadata": {
  "kernelspec": {
   "display_name": "Python 2",
   "language": "python",
   "name": "python2"
  },
  "language_info": {
   "codemirror_mode": {
    "name": "ipython",
    "version": 2
   },
   "file_extension": ".py",
   "mimetype": "text/x-python",
   "name": "python",
   "nbconvert_exporter": "python",
   "pygments_lexer": "ipython2",
   "version": "2.7.10"
  }
 },
 "nbformat": 4,
 "nbformat_minor": 2
}
