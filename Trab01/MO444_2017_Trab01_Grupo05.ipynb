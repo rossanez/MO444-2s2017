{
 "cells": [
  {
   "cell_type": "code",
   "execution_count": 1,
   "metadata": {
    "collapsed": false
   },
   "outputs": [],
   "source": [
    "# MO444-A 2s/2017 - First assignment\n",
    "#\n",
    "#         Group 05\n",
    "#\n",
    "# - Anderson Rossanez (124136)\n",
    "# - Bruno Branta Lopes (31470)\n",
    "#\n",
    "\n",
    "# Plotting inline instead of opening an outer window.\n",
    "%matplotlib inline\n",
    "\n",
    "# Imports\n",
    "from __future__ import print_function\n",
    "import matplotlib.pyplot as plt\n",
    "import numpy as np\n",
    "import pandas as pd\n",
    "from datetime import datetime\n",
    "from math import sqrt\n",
    "from sklearn import preprocessing\n",
    "from sklearn.decomposition import PCA\n",
    "from sklearn.linear_model import LinearRegression\n",
    "from sklearn.linear_model import SGDRegressor\n",
    "from sklearn.metrics import mean_squared_error\n",
    "from sklearn.metrics import r2_score\n",
    "from sklearn.model_selection import train_test_split\n",
    "from sklearn.pipeline import make_pipeline\n",
    "from sklearn.preprocessing import PolynomialFeatures\n",
    "from sklearn.linear_model import Ridge\n",
    "from sklearn.model_selection import KFold\n",
    "\n",
    "# Defines\n",
    "years = range(1922, 2011)\n",
    "random_state = np.random.RandomState(1)\n",
    "\n",
    "# Functions\n",
    "def load_data(filename):\n",
    "    raw_data = open(filename, 'rt')\n",
    "    data = np.loadtxt(raw_data, delimiter=\",\")\n",
    "    return data\n",
    "\n",
    "def split_Y_X(dataset):\n",
    "    Y = dataset[:,0]\n",
    "    X = dataset[:,1:]\n",
    "    return Y, X\n",
    "\n",
    "def get_errors_by_year(model, data_Y, data_X):\n",
    "    errors = []\n",
    "    for y in years:\n",
    "        filt = data_Y == y\n",
    "        if not sum(filt):\n",
    "            errors.append(0)\n",
    "            continue\n",
    "        errors.append(mean_squared_error(data_Y[filt], model.predict(data_X[filt])))\n",
    "    return errors"
   ]
  },
  {
   "cell_type": "code",
   "execution_count": 2,
   "metadata": {
    "collapsed": false
   },
   "outputs": [
    {
     "name": "stdout",
     "output_type": "stream",
     "text": [
      "Training data size: 463715\n"
     ]
    }
   ],
   "source": [
    "# load training data\n",
    "data = load_data('year-prediction-msd-train.txt')\n",
    "\n",
    "print('Training data size: {}'.format(len(data)))"
   ]
  },
  {
   "cell_type": "code",
   "execution_count": 3,
   "metadata": {
    "collapsed": false,
    "scrolled": true
   },
   "outputs": [
    {
     "data": {
      "text/html": [
       "<div>\n",
       "<table border=\"1\" class=\"dataframe\">\n",
       "  <thead>\n",
       "    <tr style=\"text-align: right;\">\n",
       "      <th></th>\n",
       "      <th>0</th>\n",
       "      <th>1</th>\n",
       "      <th>2</th>\n",
       "      <th>3</th>\n",
       "      <th>4</th>\n",
       "      <th>5</th>\n",
       "      <th>6</th>\n",
       "      <th>7</th>\n",
       "      <th>8</th>\n",
       "      <th>9</th>\n",
       "      <th>...</th>\n",
       "      <th>81</th>\n",
       "      <th>82</th>\n",
       "      <th>83</th>\n",
       "      <th>84</th>\n",
       "      <th>85</th>\n",
       "      <th>86</th>\n",
       "      <th>87</th>\n",
       "      <th>88</th>\n",
       "      <th>89</th>\n",
       "      <th>90</th>\n",
       "    </tr>\n",
       "  </thead>\n",
       "  <tbody>\n",
       "    <tr>\n",
       "      <th>0</th>\n",
       "      <td>2004.0</td>\n",
       "      <td>46.50128</td>\n",
       "      <td>-18.37096</td>\n",
       "      <td>58.89824</td>\n",
       "      <td>27.28181</td>\n",
       "      <td>1.93097</td>\n",
       "      <td>-2.43167</td>\n",
       "      <td>18.64843</td>\n",
       "      <td>-5.62769</td>\n",
       "      <td>-1.47711</td>\n",
       "      <td>...</td>\n",
       "      <td>43.94716</td>\n",
       "      <td>-64.21148</td>\n",
       "      <td>13.04284</td>\n",
       "      <td>156.03785</td>\n",
       "      <td>-2.42670</td>\n",
       "      <td>51.71977</td>\n",
       "      <td>-43.56703</td>\n",
       "      <td>10.63735</td>\n",
       "      <td>24.08962</td>\n",
       "      <td>-21.41886</td>\n",
       "    </tr>\n",
       "    <tr>\n",
       "      <th>1</th>\n",
       "      <td>2005.0</td>\n",
       "      <td>41.46015</td>\n",
       "      <td>-52.30140</td>\n",
       "      <td>-4.59825</td>\n",
       "      <td>-19.28084</td>\n",
       "      <td>-11.85844</td>\n",
       "      <td>-19.54192</td>\n",
       "      <td>1.30306</td>\n",
       "      <td>-1.83185</td>\n",
       "      <td>5.98469</td>\n",
       "      <td>...</td>\n",
       "      <td>-13.48435</td>\n",
       "      <td>-154.65715</td>\n",
       "      <td>35.22429</td>\n",
       "      <td>89.53649</td>\n",
       "      <td>-3.13145</td>\n",
       "      <td>-128.28120</td>\n",
       "      <td>89.97277</td>\n",
       "      <td>-15.88139</td>\n",
       "      <td>-75.21074</td>\n",
       "      <td>-0.51139</td>\n",
       "    </tr>\n",
       "    <tr>\n",
       "      <th>2</th>\n",
       "      <td>2009.0</td>\n",
       "      <td>42.18667</td>\n",
       "      <td>-85.65863</td>\n",
       "      <td>-7.91506</td>\n",
       "      <td>-11.84193</td>\n",
       "      <td>-12.61959</td>\n",
       "      <td>-21.66749</td>\n",
       "      <td>4.97883</td>\n",
       "      <td>-11.86750</td>\n",
       "      <td>9.87342</td>\n",
       "      <td>...</td>\n",
       "      <td>42.08584</td>\n",
       "      <td>-181.77349</td>\n",
       "      <td>43.00181</td>\n",
       "      <td>87.94977</td>\n",
       "      <td>-13.70362</td>\n",
       "      <td>136.49979</td>\n",
       "      <td>140.32633</td>\n",
       "      <td>11.51422</td>\n",
       "      <td>382.79589</td>\n",
       "      <td>29.98269</td>\n",
       "    </tr>\n",
       "    <tr>\n",
       "      <th>3</th>\n",
       "      <td>1987.0</td>\n",
       "      <td>46.90244</td>\n",
       "      <td>19.86314</td>\n",
       "      <td>10.92119</td>\n",
       "      <td>4.87136</td>\n",
       "      <td>-41.17499</td>\n",
       "      <td>-19.84156</td>\n",
       "      <td>2.93308</td>\n",
       "      <td>-5.98711</td>\n",
       "      <td>3.05997</td>\n",
       "      <td>...</td>\n",
       "      <td>-2.76407</td>\n",
       "      <td>-20.31782</td>\n",
       "      <td>-75.24506</td>\n",
       "      <td>125.81801</td>\n",
       "      <td>-15.50828</td>\n",
       "      <td>-63.31002</td>\n",
       "      <td>-142.21937</td>\n",
       "      <td>-12.36699</td>\n",
       "      <td>32.45911</td>\n",
       "      <td>-17.14909</td>\n",
       "    </tr>\n",
       "    <tr>\n",
       "      <th>4</th>\n",
       "      <td>2009.0</td>\n",
       "      <td>46.64388</td>\n",
       "      <td>-81.99503</td>\n",
       "      <td>41.62851</td>\n",
       "      <td>3.65855</td>\n",
       "      <td>-9.38201</td>\n",
       "      <td>-13.51749</td>\n",
       "      <td>7.48781</td>\n",
       "      <td>-7.03302</td>\n",
       "      <td>7.06982</td>\n",
       "      <td>...</td>\n",
       "      <td>12.29244</td>\n",
       "      <td>-143.25348</td>\n",
       "      <td>91.15842</td>\n",
       "      <td>-227.85481</td>\n",
       "      <td>7.75916</td>\n",
       "      <td>-41.32376</td>\n",
       "      <td>-225.66526</td>\n",
       "      <td>-4.05081</td>\n",
       "      <td>455.39458</td>\n",
       "      <td>41.65310</td>\n",
       "    </tr>\n",
       "  </tbody>\n",
       "</table>\n",
       "<p>5 rows × 91 columns</p>\n",
       "</div>"
      ],
      "text/plain": [
       "       0         1         2         3         4         5         6   \\\n",
       "0  2004.0  46.50128 -18.37096  58.89824  27.28181   1.93097  -2.43167   \n",
       "1  2005.0  41.46015 -52.30140  -4.59825 -19.28084 -11.85844 -19.54192   \n",
       "2  2009.0  42.18667 -85.65863  -7.91506 -11.84193 -12.61959 -21.66749   \n",
       "3  1987.0  46.90244  19.86314  10.92119   4.87136 -41.17499 -19.84156   \n",
       "4  2009.0  46.64388 -81.99503  41.62851   3.65855  -9.38201 -13.51749   \n",
       "\n",
       "         7         8        9     ...           81         82        83  \\\n",
       "0  18.64843  -5.62769 -1.47711    ...     43.94716  -64.21148  13.04284   \n",
       "1   1.30306  -1.83185  5.98469    ...    -13.48435 -154.65715  35.22429   \n",
       "2   4.97883 -11.86750  9.87342    ...     42.08584 -181.77349  43.00181   \n",
       "3   2.93308  -5.98711  3.05997    ...     -2.76407  -20.31782 -75.24506   \n",
       "4   7.48781  -7.03302  7.06982    ...     12.29244 -143.25348  91.15842   \n",
       "\n",
       "          84        85         86         87        88         89        90  \n",
       "0  156.03785  -2.42670   51.71977  -43.56703  10.63735   24.08962 -21.41886  \n",
       "1   89.53649  -3.13145 -128.28120   89.97277 -15.88139  -75.21074  -0.51139  \n",
       "2   87.94977 -13.70362  136.49979  140.32633  11.51422  382.79589  29.98269  \n",
       "3  125.81801 -15.50828  -63.31002 -142.21937 -12.36699   32.45911 -17.14909  \n",
       "4 -227.85481   7.75916  -41.32376 -225.66526  -4.05081  455.39458  41.65310  \n",
       "\n",
       "[5 rows x 91 columns]"
      ]
     },
     "execution_count": 3,
     "metadata": {},
     "output_type": "execute_result"
    }
   ],
   "source": [
    "# Take a look at the data (5 first instances):\n",
    "# - first column (index 0) is the song release year\n",
    "# - remaining columns are the the features (indexes 1 - 90)\n",
    "data_frame = pd.DataFrame(data)\n",
    "data_frame.head(5)"
   ]
  },
  {
   "cell_type": "code",
   "execution_count": 4,
   "metadata": {
    "collapsed": false
   },
   "outputs": [
    {
     "name": "stdout",
     "output_type": "stream",
     "text": [
      "Test data size: 36285\n"
     ]
    }
   ],
   "source": [
    "# load test data\n",
    "test_data = load_data('year-prediction-msd-test.txt')\n",
    "\n",
    "print('Test data size: {}'.format(len(test_data)))"
   ]
  },
  {
   "cell_type": "code",
   "execution_count": 5,
   "metadata": {
    "collapsed": false,
    "scrolled": true
   },
   "outputs": [
    {
     "name": "stdout",
     "output_type": "stream",
     "text": [
      "Train data size: 370972\n",
      "Validation data size: 92743\n"
     ]
    }
   ],
   "source": [
    "# split train data into training/validation (80/20)\n",
    "train_data, validation_data = train_test_split(data, test_size=0.2)\n",
    "\n",
    "print('Train data size: {}'.format(len(train_data)))\n",
    "print('Validation data size: {}'.format(len(validation_data)))\n",
    "\n",
    "# prepare for 5-fold execution\n",
    "k5_fold = KFold(n_splits=5, shuffle=True, random_state=random_state)\n",
    "data_Y, data_X = split_Y_X(data)\n",
    "\n",
    "def run_kfold(method):\n",
    "    train_msq_err, train_r2_score = [], []\n",
    "    validation_msq_err, validation_r2_score = [], []\n",
    "    start_time = datetime.now()\n",
    "    k = 0\n",
    "    print('k', end=' ')\n",
    "    model = None\n",
    "    for train_index, validation_index in k5_fold.split(data):\n",
    "        k += 1\n",
    "        print(k, end=' ')\n",
    "        \n",
    "        train_data_X, train_data_Y = data_X[train_index], data_Y[train_index]\n",
    "        validation_data_X, validation_data_Y = data_X[validation_index], data_Y[validation_index]\n",
    "        model = method(train_data_X, train_data_Y)\n",
    "        \n",
    "        predicted_train_data_Y = model.predict(train_data_X)\n",
    "        train_msq_err.append(sqrt(mean_squared_error(train_data_Y, predicted_train_data_Y)))\n",
    "        train_r2_score.append(r2_score(train_data_Y, predicted_train_data_Y))\n",
    "        \n",
    "        predicted_validation_data_Y = model.predict(validation_data_X)\n",
    "        validation_msq_err.append(sqrt(mean_squared_error(validation_data_Y, predicted_validation_data_Y)))\n",
    "        validation_r2_score.append(r2_score(validation_data_Y, predicted_validation_data_Y))\n",
    "    print('time elapsed: {}\\n'.format(datetime.now() - start_time))\n",
    "    print('                       RMSE         R2 Score')\n",
    "    print('Training:    %5.2f sd %5.2f   %5.2f sd %5.2f' % (\n",
    "                np.mean(train_msq_err), np.std(train_msq_err), np.mean(train_r2_score), np.std(train_r2_score)))\n",
    "    print('Validation:  %5.2f sd %5.2f   %5.2f sd %5.2f' % (\n",
    "                np.mean(validation_msq_err), np.std(validation_msq_err), np.mean(validation_msq_err), np.std(validation_msq_err)))\n",
    "    return model"
   ]
  },
  {
   "cell_type": "code",
   "execution_count": 6,
   "metadata": {
    "collapsed": false
   },
   "outputs": [],
   "source": [
    "# Split label (years) and features\n",
    "train_data_Y, train_data_X = split_Y_X(train_data)\n",
    "validation_data_Y, validation_data_X = split_Y_X(validation_data)\n",
    "test_data_Y, test_data_X = split_Y_X(test_data)"
   ]
  },
  {
   "cell_type": "code",
   "execution_count": 7,
   "metadata": {
    "collapsed": false
   },
   "outputs": [
    {
     "name": "stdout",
     "output_type": "stream",
     "text": [
      "k 1 2 3 4 5 time elapsed: 0:00:40.850818\n",
      "\n",
      "                       RMSE         R2 Score\n",
      "Training:     9.55 sd  0.00    0.24 sd  0.00\n",
      "Validation:   9.56 sd  0.02    9.56 sd  0.02\n"
     ]
    }
   ],
   "source": [
    "# Create a baseline linear regression model and train it\n",
    "lr_base_model = run_kfold(lambda X, Y: LinearRegression(copy_X=True).fit(X, Y))"
   ]
  },
  {
   "cell_type": "code",
   "execution_count": 8,
   "metadata": {
    "collapsed": false
   },
   "outputs": [
    {
     "data": {
      "image/png": "[encoded data removed]",
      "text/plain": [
       "<matplotlib.figure.Figure at 0x7ff2ffef4650>"
      ]
     },
     "metadata": {},
     "output_type": "display_data"
    }
   ],
   "source": [
    "# plotting the errors\n",
    "errors = get_errors_by_year(lr_base_model, validation_data_Y, validation_data_X)\n",
    "plt.plot(years, errors, color='blue', linewidth=3)\n",
    "plt.show()"
   ]
  },
  {
   "cell_type": "code",
   "execution_count": 9,
   "metadata": {
    "collapsed": false
   },
   "outputs": [
    {
     "data": {
      "text/plain": [
       "SGDRegressor(alpha=0.0001, average=False, epsilon=0.1, eta0=0.01,\n",
       "       fit_intercept=True, l1_ratio=0.15, learning_rate='invscaling',\n",
       "       loss='squared_loss', n_iter=5, penalty=None, power_t=0.25,\n",
       "       random_state=None, shuffle=True, verbose=0, warm_start=False)"
      ]
     },
     "execution_count": 9,
     "metadata": {},
     "output_type": "execute_result"
    }
   ],
   "source": [
    "# LR-based alternative #1: LR with Stochastic Gradient Descent\n",
    "lr_sgd_model = SGDRegressor(loss='squared_loss', penalty=None)\n",
    "\n",
    "# normalize the data before fitting\n",
    "lr_sgd_scaler = preprocessing.StandardScaler()\n",
    "\n",
    "lr_sgd_model.fit(lr_sgd_scaler.fit_transform(train_data_X), train_data_Y )"
   ]
  },
  {
   "cell_type": "code",
   "execution_count": 10,
   "metadata": {
    "collapsed": false
   },
   "outputs": [
    {
     "name": "stdout",
     "output_type": "stream",
     "text": [
      "Training root mean squared error: 9.60720799468\n",
      "Training score: 0.228397183712\n",
      "Validation root mean squared error: 9.61220403275\n",
      "Validation score: 0.229498769549\n"
     ]
    }
   ],
   "source": [
    "# Check the model errors\n",
    "predicted_train_data_Y = lr_sgd_model.predict(lr_sgd_scaler.transform(train_data_X))\n",
    "mean_sq_error_training = mean_squared_error(train_data_Y, predicted_train_data_Y)\n",
    "print('Training root mean squared error: {}'.format(sqrt(mean_sq_error_training)))\n",
    "print('Training score: {}'.format(r2_score(train_data_Y, predicted_train_data_Y)))\n",
    "\n",
    "predicted_validation_data_Y = lr_sgd_model.predict(lr_sgd_scaler.transform(validation_data_X))\n",
    "mean_sq_error_validation = mean_squared_error(validation_data_Y, predicted_validation_data_Y)\n",
    "print('Validation root mean squared error: {}'.format(sqrt(mean_sq_error_validation)))\n",
    "print('Validation score: {}'.format(r2_score(validation_data_Y, predicted_validation_data_Y)))"
   ]
  },
  {
   "cell_type": "code",
   "execution_count": 11,
   "metadata": {
    "collapsed": false
   },
   "outputs": [
    {
     "data": {
      "image/png": "[encoded data removed]",
      "text/plain": [
       "<matplotlib.figure.Figure at 0x7ff2ffef4810>"
      ]
     },
     "metadata": {},
     "output_type": "display_data"
    }
   ],
   "source": [
    "# Plotting the errors:\n",
    "errors = get_errors_by_year(lr_sgd_model, validation_data_Y, lr_sgd_scaler.transform(validation_data_X))\n",
    "plt.plot(years, errors, color='blue', linewidth=3)\n",
    "plt.show()"
   ]
  },
  {
   "cell_type": "code",
   "execution_count": 12,
   "metadata": {
    "collapsed": true
   },
   "outputs": [],
   "source": [
    "# LR-based alternative #2: Mini-batch Gradient Descent\n",
    "lr_mbgd_model = SGDRegressor(loss='squared_loss', penalty=None)\n",
    "\n",
    "# normalize the data before fitting\n",
    "lr_mbgd_scaler = preprocessing.StandardScaler()\n",
    "trans_train_data_X = lr_mbgd_scaler.fit_transform(train_data_X)\n",
    "\n",
    "# feed the data partially\n",
    "n_chunks = 10\n",
    "chunk_size = len(train_data_Y) / n_chunks\n",
    "for i in range(0, n_chunks):\n",
    "    range_start = i * chunk_size\n",
    "    range_end = (i + 1) * chunk_size\n",
    "    lr_mbgd_model.partial_fit(trans_train_data_X[range_start:range_end], train_data_Y[range_start:range_end])    "
   ]
  },
  {
   "cell_type": "code",
   "execution_count": 13,
   "metadata": {
    "collapsed": false
   },
   "outputs": [
    {
     "name": "stdout",
     "output_type": "stream",
     "text": [
      "Training root mean squared error: 9.6299217589\n",
      "Training score: 0.224744359227\n",
      "Validation root mean squared error: 9.646761772\n",
      "Validation score: 0.223948607536\n"
     ]
    }
   ],
   "source": [
    "# Check the model errors\n",
    "predicted_train_data_Y = lr_mbgd_model.predict(lr_mbgd_scaler.transform(train_data_X))\n",
    "mean_sq_error_training = mean_squared_error(train_data_Y, predicted_train_data_Y)\n",
    "print('Training root mean squared error: {}'.format(sqrt(mean_sq_error_training)))\n",
    "print('Training score: {}'.format(r2_score(train_data_Y, predicted_train_data_Y)))\n",
    "\n",
    "predicted_validation_data_Y = lr_mbgd_model.predict(lr_mbgd_scaler.transform(validation_data_X))\n",
    "mean_sq_error_validation = mean_squared_error(validation_data_Y, predicted_validation_data_Y)\n",
    "print('Validation root mean squared error: {}'.format(sqrt(mean_sq_error_validation)))\n",
    "print('Validation score: {}'.format(r2_score(validation_data_Y, predicted_validation_data_Y)))"
   ]
  },
  {
   "cell_type": "code",
   "execution_count": 14,
   "metadata": {
    "collapsed": false
   },
   "outputs": [
    {
     "data": {
      "image/png": "[encoded data removed]",
      "text/plain": [
       "<matplotlib.figure.Figure at 0x7ff2ffef41d0>"
      ]
     },
     "metadata": {},
     "output_type": "display_data"
    },
    {
     "name": "stdout",
     "output_type": "stream",
     "text": [
      "[ 0.11514512  0.07783896  0.05907159  0.04198822  0.03765427  0.0276047\n",
      "  0.0236403   0.02313859  0.02091323  0.02022156  0.01915767  0.01855908\n",
      "  0.01787976  0.01687675  0.01612486  0.01592125  0.01517471  0.01422743\n",
      "  0.0140944   0.01352132  0.01313667  0.01258179  0.01235729  0.01186756\n",
      "  0.01157583  0.01142901  0.01111722  0.01093721  0.01043059  0.01009683\n",
      "  0.00982123  0.00942049  0.00925506  0.00897263  0.00842424  0.00819823\n",
      "  0.00805296  0.00798761  0.00757971  0.00747568  0.00731917  0.00718031\n",
      "  0.00699861  0.00681519  0.00659791  0.00634701  0.00627518  0.00616818\n",
      "  0.00596187  0.00584202  0.00569111  0.00553009  0.00535476  0.00516451\n",
      "  0.00502914  0.00499926  0.00486445  0.00472119  0.00461819  0.00438247\n",
      "  0.00424512  0.00411248  0.0039757   0.00394611  0.00372011  0.00364733\n",
      "  0.00349665  0.0033797   0.0032493   0.0031563   0.003039    0.0029207\n",
      "  0.00275946  0.0027431   0.00261272  0.00247707  0.00228219  0.0021571\n",
      "  0.0020865   0.00204538  0.00189293  0.00175566  0.00155378  0.00139428\n",
      "  0.00134031  0.00126934  0.00097116  0.00093166  0.00085366  0.00065296]\n"
     ]
    }
   ],
   "source": [
    "# LR-based alternative #3: Feature reduction\n",
    "\n",
    "# Principal component analysis (PCA)\n",
    "pca_scaler = preprocessing.StandardScaler()\n",
    "pca = PCA(n_components=90).fit(pca_scaler.fit_transform(train_data_X))\n",
    "plt.bar(range(0, 90), pca.explained_variance_ratio_)\n",
    "plt.xlabel('features')\n",
    "plt.ylabel('explained variance')\n",
    "plt.show()\n",
    "print(pca.explained_variance_ratio_)"
   ]
  },
  {
   "cell_type": "code",
   "execution_count": 15,
   "metadata": {
    "collapsed": false
   },
   "outputs": [
    {
     "data": {
      "image/png": "[encoded data removed]",
      "text/plain": [
       "<matplotlib.figure.Figure at 0x7ff3325ae2d0>"
      ]
     },
     "metadata": {},
     "output_type": "display_data"
    }
   ],
   "source": [
    "# First three PCA components plotted\n",
    "transformed_data = pca.transform(validation_data_X)\n",
    "plt.scatter(validation_data_Y, transformed_data[:,2], color='yellow', alpha=0.02)\n",
    "plt.scatter(validation_data_Y, transformed_data[:,1], color='red', alpha=0.02)\n",
    "plt.scatter(validation_data_Y, transformed_data[:,0], color='black', alpha=0.005)\n",
    "plt.show()"
   ]
  },
  {
   "cell_type": "code",
   "execution_count": 17,
   "metadata": {
    "collapsed": false
   },
   "outputs": [
    {
     "name": "stdout",
     "output_type": "stream",
     "text": [
      " 1 PCA components used: 10.93 10.95\n",
      "10 PCA components used: 10.66 10.68\n",
      "20 PCA components used: 10.57 10.59\n",
      "30 PCA components used: 10.44 10.47\n",
      "40 PCA components used: 10.40 10.42\n",
      "50 PCA components used: 10.29 10.32\n",
      "60 PCA components used: 10.23 10.26\n",
      "70 PCA components used: 10.19 10.22\n",
      "80 PCA components used:  9.97 10.00\n",
      "90 PCA components used:  9.55  9.56\n"
     ]
    }
   ],
   "source": [
    "for n_components in range(0, 91, 10):\n",
    "    n_components = n_components or 1\n",
    "    transformed_train_data_X = pca.transform(train_data_X)[:,range(0, n_components)]\n",
    "\n",
    "    lr_pca_model = LinearRegression(copy_X=True)\n",
    "    lr_pca_model.fit(transformed_train_data_X, train_data_Y)\n",
    "\n",
    "    mean_sq_error_training = mean_squared_error(train_data_Y, lr_pca_model.predict(transformed_train_data_X))\n",
    "    \n",
    "    transformed_validation_data_X = pca.transform(validation_data_X)[:,range(0, n_components)]\n",
    "    mean_sq_error_validation = mean_squared_error(validation_data_Y, lr_pca_model.predict(transformed_validation_data_X))\n",
    "\n",
    "    print('%2d PCA components used: %5.2f %5.2f' % (n_components, sqrt(mean_sq_error_training), sqrt(mean_sq_error_validation)))\n"
   ]
  },
  {
   "cell_type": "code",
   "execution_count": null,
   "metadata": {
    "collapsed": false
   },
   "outputs": [
    {
     "name": "stdout",
     "output_type": "stream",
     "text": [
      "1 degrees: 10.68 10.70\n",
      "2 degrees: 10.60 10.63\n",
      "3 degrees: 10.54 10.58\n"
     ]
    }
   ],
   "source": [
    "# performs ridge regression for 1 to 4 degrees\n",
    "n_components = 7\n",
    "for degree in range(1, 5):\n",
    "    transformed_train_data_X = pca.transform(train_data_X)[:,range(0, n_components)]\n",
    "    model = make_pipeline(PolynomialFeatures(degree), Ridge())\n",
    "    # model = make_pipeline(PolynomialFeatures(degree), LinearRegression())\n",
    "    model.fit(transformed_train_data_X, train_data_Y)\n",
    "    \n",
    "    mean_sq_error_training = mean_squared_error(train_data_Y, model.predict(transformed_train_data_X))\n",
    "    \n",
    "    transformed_validation_data_X = pca.transform(validation_data_X)[:,range(0, n_components)]\n",
    "    mean_sq_error_validation = mean_squared_error(validation_data_Y, model.predict(transformed_validation_data_X))\n",
    "\n",
    "    print('%d degrees: %5.2f %5.2f' % (degree, sqrt(mean_sq_error_training), sqrt(mean_sq_error_validation)))"
   ]
  },
  {
   "cell_type": "raw",
   "metadata": {},
   "source": []
  }
 ],
 "metadata": {
  "kernelspec": {
   "display_name": "Python 2",
   "language": "python",
   "name": "python2"
  },
  "language_info": {
   "codemirror_mode": {
    "name": "ipython",
    "version": 2
   },
   "file_extension": ".py",
   "mimetype": "text/x-python",
   "name": "python",
   "nbconvert_exporter": "python",
   "pygments_lexer": "ipython2",
   "version": "2.7.13"
  }
 },
 "nbformat": 4,
 "nbformat_minor": 2
}
